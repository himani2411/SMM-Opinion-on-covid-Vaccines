{
 "cells": [
  {
   "cell_type": "markdown",
   "id": "Y6EwrO0WxvB0",
   "metadata": {
    "id": "Y6EwrO0WxvB0"
   },
   "source": [
    "# Public Opinion on Vaccines during COVID19 pandemic through Twitter \n",
    "Himani Anil Deshpande"
   ]
  },
  {
   "cell_type": "markdown",
   "id": "731ae2f0",
   "metadata": {
    "id": "731ae2f0"
   },
   "source": [
    "Downloading Tweepy "
   ]
  },
  {
   "cell_type": "code",
   "execution_count": null,
   "id": "8544db29",
   "metadata": {
    "colab": {
     "base_uri": "https://localhost:8080/"
    },
    "id": "8544db29",
    "outputId": "ec1454f3-5fd8-4454-feb0-96d313e5278a"
   },
   "outputs": [
    {
     "name": "stdout",
     "output_type": "stream",
     "text": [
      "Requirement already satisfied: tweepy in /usr/local/lib/python3.7/dist-packages (4.8.0)\n",
      "Requirement already satisfied: requests<3,>=2.27.0 in /usr/local/lib/python3.7/dist-packages (from tweepy) (2.27.1)\n",
      "Requirement already satisfied: requests-oauthlib<2,>=1.2.0 in /usr/local/lib/python3.7/dist-packages (from tweepy) (1.3.1)\n",
      "Requirement already satisfied: oauthlib<4,>=3.2.0 in /usr/local/lib/python3.7/dist-packages (from tweepy) (3.2.0)\n",
      "Requirement already satisfied: idna<4,>=2.5 in /usr/local/lib/python3.7/dist-packages (from requests<3,>=2.27.0->tweepy) (2.10)\n",
      "Requirement already satisfied: charset-normalizer~=2.0.0 in /usr/local/lib/python3.7/dist-packages (from requests<3,>=2.27.0->tweepy) (2.0.12)\n",
      "Requirement already satisfied: urllib3<1.27,>=1.21.1 in /usr/local/lib/python3.7/dist-packages (from requests<3,>=2.27.0->tweepy) (1.24.3)\n",
      "Requirement already satisfied: certifi>=2017.4.17 in /usr/local/lib/python3.7/dist-packages (from requests<3,>=2.27.0->tweepy) (2021.10.8)\n"
     ]
    }
   ],
   "source": [
    "!pip3 install tweepy --upgrade"
   ]
  },
  {
   "cell_type": "code",
   "execution_count": null,
   "id": "5FzztPv4IbQ-",
   "metadata": {
    "colab": {
     "base_uri": "https://localhost:8080/"
    },
    "id": "5FzztPv4IbQ-",
    "outputId": "81f68162-e374-4625-e092-9688ce2fa572"
   },
   "outputs": [
    {
     "name": "stdout",
     "output_type": "stream",
     "text": [
      "Requirement already satisfied: empath in /usr/local/lib/python3.7/dist-packages (0.89)\n",
      "Requirement already satisfied: requests in /usr/local/lib/python3.7/dist-packages (from empath) (2.27.1)\n",
      "Requirement already satisfied: charset-normalizer~=2.0.0 in /usr/local/lib/python3.7/dist-packages (from requests->empath) (2.0.12)\n",
      "Requirement already satisfied: certifi>=2017.4.17 in /usr/local/lib/python3.7/dist-packages (from requests->empath) (2021.10.8)\n",
      "Requirement already satisfied: urllib3<1.27,>=1.21.1 in /usr/local/lib/python3.7/dist-packages (from requests->empath) (1.24.3)\n",
      "Requirement already satisfied: idna<4,>=2.5 in /usr/local/lib/python3.7/dist-packages (from requests->empath) (2.10)\n"
     ]
    }
   ],
   "source": [
    "!pip install empath"
   ]
  },
  {
   "cell_type": "code",
   "execution_count": null,
   "id": "1klo_5TBy88I",
   "metadata": {
    "colab": {
     "base_uri": "https://localhost:8080/"
    },
    "id": "1klo_5TBy88I",
    "outputId": "97f1dc41-ff32-44bf-d622-768b221175fe"
   },
   "outputs": [
    {
     "name": "stdout",
     "output_type": "stream",
     "text": [
      "Requirement already satisfied: pyLDAvis in /usr/local/lib/python3.7/dist-packages (3.3.1)\n",
      "Requirement already satisfied: pandas>=1.2.0 in /usr/local/lib/python3.7/dist-packages (from pyLDAvis) (1.3.5)\n",
      "Requirement already satisfied: scipy in /usr/local/lib/python3.7/dist-packages (from pyLDAvis) (1.4.1)\n",
      "Requirement already satisfied: numexpr in /usr/local/lib/python3.7/dist-packages (from pyLDAvis) (2.8.1)\n",
      "Requirement already satisfied: setuptools in /usr/local/lib/python3.7/dist-packages (from pyLDAvis) (57.4.0)\n",
      "Requirement already satisfied: scikit-learn in /usr/local/lib/python3.7/dist-packages (from pyLDAvis) (1.0.2)\n",
      "Requirement already satisfied: gensim in /usr/local/lib/python3.7/dist-packages (from pyLDAvis) (3.6.0)\n",
      "Requirement already satisfied: numpy>=1.20.0 in /usr/local/lib/python3.7/dist-packages (from pyLDAvis) (1.21.6)\n",
      "Requirement already satisfied: future in /usr/local/lib/python3.7/dist-packages (from pyLDAvis) (0.16.0)\n",
      "Requirement already satisfied: joblib in /usr/local/lib/python3.7/dist-packages (from pyLDAvis) (1.1.0)\n",
      "Requirement already satisfied: sklearn in /usr/local/lib/python3.7/dist-packages (from pyLDAvis) (0.0)\n",
      "Requirement already satisfied: funcy in /usr/local/lib/python3.7/dist-packages (from pyLDAvis) (1.17)\n",
      "Requirement already satisfied: jinja2 in /usr/local/lib/python3.7/dist-packages (from pyLDAvis) (2.11.3)\n",
      "Requirement already satisfied: pytz>=2017.3 in /usr/local/lib/python3.7/dist-packages (from pandas>=1.2.0->pyLDAvis) (2022.1)\n",
      "Requirement already satisfied: python-dateutil>=2.7.3 in /usr/local/lib/python3.7/dist-packages (from pandas>=1.2.0->pyLDAvis) (2.8.2)\n",
      "Requirement already satisfied: six>=1.5 in /usr/local/lib/python3.7/dist-packages (from python-dateutil>=2.7.3->pandas>=1.2.0->pyLDAvis) (1.15.0)\n",
      "Requirement already satisfied: smart-open>=1.2.1 in /usr/local/lib/python3.7/dist-packages (from gensim->pyLDAvis) (6.0.0)\n",
      "Requirement already satisfied: MarkupSafe>=0.23 in /usr/local/lib/python3.7/dist-packages (from jinja2->pyLDAvis) (2.0.1)\n",
      "Requirement already satisfied: packaging in /usr/local/lib/python3.7/dist-packages (from numexpr->pyLDAvis) (21.3)\n",
      "Requirement already satisfied: pyparsing!=3.0.5,>=2.0.2 in /usr/local/lib/python3.7/dist-packages (from packaging->numexpr->pyLDAvis) (3.0.8)\n",
      "Requirement already satisfied: threadpoolctl>=2.0.0 in /usr/local/lib/python3.7/dist-packages (from scikit-learn->pyLDAvis) (3.1.0)\n"
     ]
    }
   ],
   "source": [
    "!pip install pyLDAvis"
   ]
  },
  {
   "cell_type": "markdown",
   "id": "74fff22e",
   "metadata": {
    "id": "74fff22e"
   },
   "source": [
    "Importing Libraries"
   ]
  },
  {
   "cell_type": "code",
   "execution_count": null,
   "id": "b7bbd6ff",
   "metadata": {
    "id": "b7bbd6ff"
   },
   "outputs": [],
   "source": [
    "import tweepy\n",
    "import pandas as pd\n",
    "import json\n",
    "import string\n",
    "from pprint import pprint\n",
    "import requests\n",
    "import re\n",
    "from empath import Empath\n",
    "import gensim\n",
    "from gensim import corpora\n",
    "from sklearn.model_selection import train_test_split\n",
    "from sklearn.feature_extraction.text import TfidfVectorizer\n",
    "from sklearn.ensemble import RandomForestClassifier\n",
    "from sklearn.metrics import classification_report, confusion_matrix, accuracy_score,f1_score, precision_recall_fscore_support\n",
    "import pyLDAvis\n",
    "import pyLDAvis.gensim_models as gensimvis\n",
    "from sklearn.model_selection import GridSearchCV\n",
    "from sklearn.svm import SVC\n",
    "\n",
    "\n",
    "from  gensim.models import LdaMulticore\n"
   ]
  },
  {
   "cell_type": "code",
   "execution_count": null,
   "id": "f1f9b657",
   "metadata": {
    "colab": {
     "base_uri": "https://localhost:8080/"
    },
    "id": "f1f9b657",
    "outputId": "141b2236-afdf-4e4d-b9dd-102090f663a2"
   },
   "outputs": [
    {
     "name": "stdout",
     "output_type": "stream",
     "text": [
      "[nltk_data] Downloading package stopwords to /root/nltk_data...\n",
      "[nltk_data]   Package stopwords is already up-to-date!\n"
     ]
    },
    {
     "data": {
      "text/plain": [
       "True"
      ]
     },
     "execution_count": 220,
     "metadata": {},
     "output_type": "execute_result"
    }
   ],
   "source": [
    "import nltk\n",
    "nltk.download('stopwords')"
   ]
  },
  {
   "cell_type": "code",
   "execution_count": null,
   "id": "elC3IJHvNVkx",
   "metadata": {
    "colab": {
     "base_uri": "https://localhost:8080/"
    },
    "id": "elC3IJHvNVkx",
    "outputId": "bb8967f2-4ff5-429d-d25e-6ce75e38a380"
   },
   "outputs": [
    {
     "name": "stdout",
     "output_type": "stream",
     "text": [
      "[nltk_data] Downloading package wordnet to /root/nltk_data...\n",
      "[nltk_data]   Package wordnet is already up-to-date!\n"
     ]
    },
    {
     "data": {
      "text/plain": [
       "True"
      ]
     },
     "execution_count": 221,
     "metadata": {},
     "output_type": "execute_result"
    }
   ],
   "source": [
    "nltk.download('wordnet')"
   ]
  },
  {
   "cell_type": "code",
   "execution_count": null,
   "id": "63e3df43",
   "metadata": {
    "id": "63e3df43"
   },
   "outputs": [],
   "source": [
    "from nltk.corpus import stopwords\n"
   ]
  },
  {
   "cell_type": "markdown",
   "id": "d364c5e0",
   "metadata": {
    "id": "d364c5e0"
   },
   "source": [
    "Creating Client for Twitter API v2 which return request.Response as output and keeping the rate limit on\n"
   ]
  },
  {
   "cell_type": "code",
   "execution_count": null,
   "id": "ed9560c0",
   "metadata": {
    "id": "ed9560c0"
   },
   "outputs": [],
   "source": [
    "client = tweepy.Client(bearer_token='AAAAAAAAAAAAAAAAAAAAACzebwEAAAAACgcLsF9soPXVU15hOy4bvyY6dmo%3Dqj7BZubvoH7GEZnTomKEwCkXjq51Ah4k7Y96Vc2b7t5VoweDOE', wait_on_rate_limit=True,return_type= requests.Response)\n"
   ]
  },
  {
   "cell_type": "markdown",
   "id": "396d0200",
   "metadata": {
    "id": "396d0200"
   },
   "source": [
    "Setting query parameters "
   ]
  },
  {
   "cell_type": "code",
   "execution_count": null,
   "id": "79e616de",
   "metadata": {
    "id": "79e616de"
   },
   "outputs": [],
   "source": [
    "tweet_fields = [\"geo\", \"created_at\", \"id\", \"text\", \"author_id\", \"public_metrics\", \"source\"]\n",
    "expansions = [\"geo.place_id\"]\n",
    "place_fields = [\"country\", \"full_name\", \"contained_within\"]\n",
    "\n"
   ]
  },
  {
   "cell_type": "markdown",
   "id": "0e16b2eb",
   "metadata": {
    "id": "0e16b2eb"
   },
   "source": [
    "Building a query which is searched"
   ]
  },
  {
   "cell_type": "code",
   "execution_count": null,
   "id": "5489585f",
   "metadata": {
    "id": "5489585f"
   },
   "outputs": [],
   "source": [
    "\n",
    "query = \"\"\"((#CovidVaccine) OR vaccination OR vaccinations OR vaccine OR vaccines OR immunization OR vaccinate OR vaccinated OR  (#COVID-19) OR coronavirus\n",
    "OR CORONA OR (covid-19 Vaccines) OR SARS-CoV-2 OR (vaccination Refusal) OR (#Pandemic) OR (vaccination drive) OR immunity OR immune OR rollout \n",
    "OR (side effect) OR immunise OR immunize\n",
    "OR immunisation OR moderna OR pfizer OR biontech OR\n",
    "astrazeneca OR  novavax OR #pfizerbiontech) place_country:US has:geo -is:retweet lang:en\"\"\"\n",
    "\n",
    "# https://arxiv.org/pdf/2104.01131.pdf\n",
    "\n",
    "# (#CovidVaccine) OR vaccination OR vaccinations OR vaccine OR vaccines OR immunization OR vaccinate OR vaccinated OR  (#COVID-19) OR coronavirus\n",
    "# OR CORONA OR covid-19 OR Vaccines OR SARS-CoV-2 OR (vaccination Refusal) OR (#Pandemic) OR (vaccination drive) OR immunity OR immune OR rollout \n",
    "# OR (side effect) OR immunise OR immunize\n",
    "# OR immunisation\n"
   ]
  },
  {
   "cell_type": "markdown",
   "id": "Xt82_jH8yBkf",
   "metadata": {
    "id": "Xt82_jH8yBkf"
   },
   "source": [
    "Taking Data from all the months from September\n",
    "2020 to May 2021 \n"
   ]
  },
  {
   "cell_type": "code",
   "execution_count": null,
   "id": "3c232bd5",
   "metadata": {
    "id": "3c232bd5"
   },
   "outputs": [],
   "source": [
    "Timeline = {\"Before_Sep\": (\"2020-09-30\", \"2020-09-01\"),\n",
    "            \"Before_Oct\":(\"2020-10-31\", \"2020-10-01\") ,\"Before_Nov\":(\"2020-11-30\", \"2020-11-01\")\n",
    ",\"During_Dec\":(\"2020-12-31\", \"2020-12-01\"),\"During_Jan\":(\"2021-01-31\", \"2021-01-01\"),\n",
    "\"During_Feb\":(\"2021-02-28\", \"2021-02-01\"),\"After_Mar\":(\"2021-03-31\", \"2021-03-01\") \n",
    ",\"After_Apr\":(\"2021-04-30\", \"2021-04-01\"),\"After_May\":(\"2021-05-31\", \"2021-05-01\")}\n",
    "# (EndTime, StartTime) \n"
   ]
  },
  {
   "cell_type": "markdown",
   "id": "s8ae2E7iyILH",
   "metadata": {
    "id": "s8ae2E7iyILH"
   },
   "source": [
    "Function to fetch Archived Tweets"
   ]
  },
  {
   "cell_type": "code",
   "execution_count": null,
   "id": "7775f09a",
   "metadata": {
    "id": "7775f09a"
   },
   "outputs": [],
   "source": [
    "\n",
    "def get_tweets(endTime , startTime,token= None ):\n",
    "    return client.search_all_tweets(query = query,  end_time=endTime +\"T00:00:00Z\", start_time=startTime +\"T00:00:00Z\",\n",
    "                         expansions=expansions, max_results=500,  place_fields=place_fields, \n",
    "                                  sort_order= ['relevancy'], next_token= token,\n",
    "                           tweet_fields=tweet_fields)"
   ]
  },
  {
   "cell_type": "markdown",
   "id": "c4186668",
   "metadata": {
    "id": "c4186668"
   },
   "source": [
    "Saving the Raw data in a Json file"
   ]
  },
  {
   "cell_type": "code",
   "execution_count": null,
   "id": "527510e1",
   "metadata": {
    "id": "527510e1"
   },
   "outputs": [],
   "source": [
    "def save_raw_data(file_name, data):\n",
    "    json_object = json.dumps(data, indent = 4)\n",
    "\n",
    "    with open(file_name, \"w\") as f:\n",
    "        f.write(json_object)"
   ]
  },
  {
   "cell_type": "markdown",
   "id": "6cbf44b8",
   "metadata": {
    "id": "6cbf44b8"
   },
   "source": [
    "Converting the JSON output in a Data Frame"
   ]
  },
  {
   "cell_type": "code",
   "execution_count": null,
   "id": "76df0af9",
   "metadata": {
    "id": "76df0af9"
   },
   "outputs": [],
   "source": [
    "def convert_json_to_df(tweets_json_data):\n",
    "    \n",
    "    data_tweet_df = pd.json_normalize(tweets_json_data['data'])#, record_path =['students'])\n",
    "    geo_df = pd.json_normalize(tweets_json_data['includes']['places'])#, record_path =['students']))\n",
    "    geo_df.rename(columns= {'id':'geo.place_id'}, inplace = True)\n",
    "    combined_data_df = pd.merge(data_tweet_df,geo_df, on = 'geo.place_id')\n",
    "    return combined_data_df"
   ]
  },
  {
   "cell_type": "markdown",
   "id": "bdd4cecc",
   "metadata": {
    "id": "bdd4cecc"
   },
   "source": [
    "## Fetching Data from Twitter "
   ]
  },
  {
   "cell_type": "code",
   "execution_count": null,
   "id": "d1ddde88",
   "metadata": {
    "id": "d1ddde88"
   },
   "outputs": [],
   "source": [
    "records_cnt = 0\n",
    "token = None\n",
    "full_combined_df = None\n",
    "for k,v in Timeline.items():\n",
    "    endTime, startTime = v\n",
    "#   Getting Tweets \n",
    "    tweets_json = get_tweets( endTime=endTime , startTime= startTime, token = token).json()\n",
    "#     Saving the Raw JSON data\n",
    "    save_raw_data(\"raw-data-page-\"+k+\".json\", tweets_json)\n",
    "#     Getting a count of records to verify Later with the shape of full dataframe\n",
    "    records_cnt += tweets_json['meta']['result_count']\n",
    "#     token= tweets_json['meta']['next_token']\n",
    "    \n",
    "#     Converting JSON data into Dataframe and Saving them in CSV format\n",
    "    combined_data_df = convert_json_to_df(tweets_json)\n",
    "    combined_data_df['Timeline'] = k\n",
    "    combined_data_df.to_csv(\"raw_dataFrame_page_\"+k+\".csv\")\n",
    "#     Combining two Pages of Tweets's Data frames into one\n",
    "    full_combined_df = pd.concat([full_combined_df,combined_data_df])"
   ]
  },
  {
   "cell_type": "code",
   "execution_count": null,
   "id": "5EvKz9Qhod13",
   "metadata": {
    "id": "5EvKz9Qhod13"
   },
   "outputs": [],
   "source": [
    "full_combined_df = full_combined_df.reset_index()"
   ]
  },
  {
   "cell_type": "code",
   "execution_count": null,
   "id": "0827a730",
   "metadata": {
    "colab": {
     "base_uri": "https://localhost:8080/"
    },
    "id": "0827a730",
    "outputId": "e371542d-84c6-4d9a-c19d-1a6cf7dcbc63"
   },
   "outputs": [
    {
     "data": {
      "text/plain": [
       "(4430, 16)"
      ]
     },
     "execution_count": 232,
     "metadata": {},
     "output_type": "execute_result"
    }
   ],
   "source": [
    "full_combined_df.shape"
   ]
  },
  {
   "cell_type": "code",
   "execution_count": null,
   "id": "dc725473",
   "metadata": {
    "colab": {
     "base_uri": "https://localhost:8080/"
    },
    "id": "dc725473",
    "outputId": "fb9cbdfe-d5ac-46d3-e873-09ba69d2e023"
   },
   "outputs": [
    {
     "data": {
      "text/plain": [
       "4430"
      ]
     },
     "execution_count": 233,
     "metadata": {},
     "output_type": "execute_result"
    }
   ],
   "source": [
    "records_cnt"
   ]
  },
  {
   "cell_type": "code",
   "execution_count": null,
   "id": "a51c1c2e",
   "metadata": {
    "colab": {
     "base_uri": "https://localhost:8080/",
     "height": 617
    },
    "id": "a51c1c2e",
    "outputId": "0c19999d-f20c-4022-b1ac-29afc4cec702"
   },
   "outputs": [
    {
     "data": {
      "text/html": [
       "\n",
       "  <div id=\"df-f6c60bde-f470-49ce-8e6c-109bf6a7a2f0\">\n",
       "    <div class=\"colab-df-container\">\n",
       "      <div>\n",
       "<style scoped>\n",
       "    .dataframe tbody tr th:only-of-type {\n",
       "        vertical-align: middle;\n",
       "    }\n",
       "\n",
       "    .dataframe tbody tr th {\n",
       "        vertical-align: top;\n",
       "    }\n",
       "\n",
       "    .dataframe thead th {\n",
       "        text-align: right;\n",
       "    }\n",
       "</style>\n",
       "<table border=\"1\" class=\"dataframe\">\n",
       "  <thead>\n",
       "    <tr style=\"text-align: right;\">\n",
       "      <th></th>\n",
       "      <th>index</th>\n",
       "      <th>created_at</th>\n",
       "      <th>id</th>\n",
       "      <th>author_id</th>\n",
       "      <th>source</th>\n",
       "      <th>text</th>\n",
       "      <th>geo.place_id</th>\n",
       "      <th>public_metrics.retweet_count</th>\n",
       "      <th>public_metrics.reply_count</th>\n",
       "      <th>public_metrics.like_count</th>\n",
       "      <th>public_metrics.quote_count</th>\n",
       "      <th>geo.coordinates.type</th>\n",
       "      <th>geo.coordinates.coordinates</th>\n",
       "      <th>country</th>\n",
       "      <th>full_name</th>\n",
       "      <th>Timeline</th>\n",
       "    </tr>\n",
       "  </thead>\n",
       "  <tbody>\n",
       "    <tr>\n",
       "      <th>0</th>\n",
       "      <td>0</td>\n",
       "      <td>2020-09-06T15:01:05.000Z</td>\n",
       "      <td>1302622857059610626</td>\n",
       "      <td>705891420134121472</td>\n",
       "      <td>Twitter for iPhone</td>\n",
       "      <td>I’m all for vaccines but this COVID one seems ...</td>\n",
       "      <td>8173485c72e78ca5</td>\n",
       "      <td>8344</td>\n",
       "      <td>60</td>\n",
       "      <td>27251</td>\n",
       "      <td>352</td>\n",
       "      <td>NaN</td>\n",
       "      <td>NaN</td>\n",
       "      <td>United States</td>\n",
       "      <td>Atlanta, GA</td>\n",
       "      <td>Before_Sep</td>\n",
       "    </tr>\n",
       "    <tr>\n",
       "      <th>1</th>\n",
       "      <td>1</td>\n",
       "      <td>2020-09-28T19:55:41.000Z</td>\n",
       "      <td>1310669529723203586</td>\n",
       "      <td>77104158</td>\n",
       "      <td>Twitter for iPhone</td>\n",
       "      <td>Y’all taking that mark of the beast vaccine wh...</td>\n",
       "      <td>8173485c72e78ca5</td>\n",
       "      <td>122</td>\n",
       "      <td>22</td>\n",
       "      <td>677</td>\n",
       "      <td>14</td>\n",
       "      <td>NaN</td>\n",
       "      <td>NaN</td>\n",
       "      <td>United States</td>\n",
       "      <td>Atlanta, GA</td>\n",
       "      <td>Before_Sep</td>\n",
       "    </tr>\n",
       "    <tr>\n",
       "      <th>2</th>\n",
       "      <td>2</td>\n",
       "      <td>2020-09-17T04:18:41.000Z</td>\n",
       "      <td>1306447460575911936</td>\n",
       "      <td>1057867352</td>\n",
       "      <td>Twitter for Mac</td>\n",
       "      <td>2. Ventilation: \\nA good supply of outside air...</td>\n",
       "      <td>8173485c72e78ca5</td>\n",
       "      <td>0</td>\n",
       "      <td>1</td>\n",
       "      <td>0</td>\n",
       "      <td>0</td>\n",
       "      <td>NaN</td>\n",
       "      <td>NaN</td>\n",
       "      <td>United States</td>\n",
       "      <td>Atlanta, GA</td>\n",
       "      <td>Before_Sep</td>\n",
       "    </tr>\n",
       "    <tr>\n",
       "      <th>3</th>\n",
       "      <td>3</td>\n",
       "      <td>2020-09-24T01:20:07.000Z</td>\n",
       "      <td>1308939234200387584</td>\n",
       "      <td>1383272101</td>\n",
       "      <td>Twitter for iPhone</td>\n",
       "      <td>BREAKING: Trump announced today he will overru...</td>\n",
       "      <td>8e9665cec9370f0f</td>\n",
       "      <td>7185</td>\n",
       "      <td>1285</td>\n",
       "      <td>23549</td>\n",
       "      <td>1049</td>\n",
       "      <td>NaN</td>\n",
       "      <td>NaN</td>\n",
       "      <td>United States</td>\n",
       "      <td>Minneapolis, MN</td>\n",
       "      <td>Before_Sep</td>\n",
       "    </tr>\n",
       "    <tr>\n",
       "      <th>4</th>\n",
       "      <td>4</td>\n",
       "      <td>2020-09-13T18:46:27.000Z</td>\n",
       "      <td>1305216289552707584</td>\n",
       "      <td>789729026</td>\n",
       "      <td>Twitter for Android</td>\n",
       "      <td>They doing free Corona testing at George Floyd...</td>\n",
       "      <td>8e9665cec9370f0f</td>\n",
       "      <td>509</td>\n",
       "      <td>13</td>\n",
       "      <td>943</td>\n",
       "      <td>1</td>\n",
       "      <td>NaN</td>\n",
       "      <td>NaN</td>\n",
       "      <td>United States</td>\n",
       "      <td>Minneapolis, MN</td>\n",
       "      <td>Before_Sep</td>\n",
       "    </tr>\n",
       "  </tbody>\n",
       "</table>\n",
       "</div>\n",
       "      <button class=\"colab-df-convert\" onclick=\"convertToInteractive('df-f6c60bde-f470-49ce-8e6c-109bf6a7a2f0')\"\n",
       "              title=\"Convert this dataframe to an interactive table.\"\n",
       "              style=\"display:none;\">\n",
       "        \n",
       "  <svg xmlns=\"http://www.w3.org/2000/svg\" height=\"24px\"viewBox=\"0 0 24 24\"\n",
       "       width=\"24px\">\n",
       "    <path d=\"M0 0h24v24H0V0z\" fill=\"none\"/>\n",
       "    <path d=\"M18.56 5.44l.94 2.06.94-2.06 2.06-.94-2.06-.94-.94-2.06-.94 2.06-2.06.94zm-11 1L8.5 8.5l.94-2.06 2.06-.94-2.06-.94L8.5 2.5l-.94 2.06-2.06.94zm10 10l.94 2.06.94-2.06 2.06-.94-2.06-.94-.94-2.06-.94 2.06-2.06.94z\"/><path d=\"M17.41 7.96l-1.37-1.37c-.4-.4-.92-.59-1.43-.59-.52 0-1.04.2-1.43.59L10.3 9.45l-7.72 7.72c-.78.78-.78 2.05 0 2.83L4 21.41c.39.39.9.59 1.41.59.51 0 1.02-.2 1.41-.59l7.78-7.78 2.81-2.81c.8-.78.8-2.07 0-2.86zM5.41 20L4 18.59l7.72-7.72 1.47 1.35L5.41 20z\"/>\n",
       "  </svg>\n",
       "      </button>\n",
       "      \n",
       "  <style>\n",
       "    .colab-df-container {\n",
       "      display:flex;\n",
       "      flex-wrap:wrap;\n",
       "      gap: 12px;\n",
       "    }\n",
       "\n",
       "    .colab-df-convert {\n",
       "      background-color: #E8F0FE;\n",
       "      border: none;\n",
       "      border-radius: 50%;\n",
       "      cursor: pointer;\n",
       "      display: none;\n",
       "      fill: #1967D2;\n",
       "      height: 32px;\n",
       "      padding: 0 0 0 0;\n",
       "      width: 32px;\n",
       "    }\n",
       "\n",
       "    .colab-df-convert:hover {\n",
       "      background-color: #E2EBFA;\n",
       "      box-shadow: 0px 1px 2px rgba(60, 64, 67, 0.3), 0px 1px 3px 1px rgba(60, 64, 67, 0.15);\n",
       "      fill: #174EA6;\n",
       "    }\n",
       "\n",
       "    [theme=dark] .colab-df-convert {\n",
       "      background-color: #3B4455;\n",
       "      fill: #D2E3FC;\n",
       "    }\n",
       "\n",
       "    [theme=dark] .colab-df-convert:hover {\n",
       "      background-color: #434B5C;\n",
       "      box-shadow: 0px 1px 3px 1px rgba(0, 0, 0, 0.15);\n",
       "      filter: drop-shadow(0px 1px 2px rgba(0, 0, 0, 0.3));\n",
       "      fill: #FFFFFF;\n",
       "    }\n",
       "  </style>\n",
       "\n",
       "      <script>\n",
       "        const buttonEl =\n",
       "          document.querySelector('#df-f6c60bde-f470-49ce-8e6c-109bf6a7a2f0 button.colab-df-convert');\n",
       "        buttonEl.style.display =\n",
       "          google.colab.kernel.accessAllowed ? 'block' : 'none';\n",
       "\n",
       "        async function convertToInteractive(key) {\n",
       "          const element = document.querySelector('#df-f6c60bde-f470-49ce-8e6c-109bf6a7a2f0');\n",
       "          const dataTable =\n",
       "            await google.colab.kernel.invokeFunction('convertToInteractive',\n",
       "                                                     [key], {});\n",
       "          if (!dataTable) return;\n",
       "\n",
       "          const docLinkHtml = 'Like what you see? Visit the ' +\n",
       "            '<a target=\"_blank\" href=https://colab.research.google.com/notebooks/data_table.ipynb>data table notebook</a>'\n",
       "            + ' to learn more about interactive tables.';\n",
       "          element.innerHTML = '';\n",
       "          dataTable['output_type'] = 'display_data';\n",
       "          await google.colab.output.renderOutput(dataTable, element);\n",
       "          const docLink = document.createElement('div');\n",
       "          docLink.innerHTML = docLinkHtml;\n",
       "          element.appendChild(docLink);\n",
       "        }\n",
       "      </script>\n",
       "    </div>\n",
       "  </div>\n",
       "  "
      ],
      "text/plain": [
       "   index                created_at                   id           author_id  \\\n",
       "0      0  2020-09-06T15:01:05.000Z  1302622857059610626  705891420134121472   \n",
       "1      1  2020-09-28T19:55:41.000Z  1310669529723203586            77104158   \n",
       "2      2  2020-09-17T04:18:41.000Z  1306447460575911936          1057867352   \n",
       "3      3  2020-09-24T01:20:07.000Z  1308939234200387584          1383272101   \n",
       "4      4  2020-09-13T18:46:27.000Z  1305216289552707584           789729026   \n",
       "\n",
       "                source                                               text  \\\n",
       "0   Twitter for iPhone  I’m all for vaccines but this COVID one seems ...   \n",
       "1   Twitter for iPhone  Y’all taking that mark of the beast vaccine wh...   \n",
       "2      Twitter for Mac  2. Ventilation: \\nA good supply of outside air...   \n",
       "3   Twitter for iPhone  BREAKING: Trump announced today he will overru...   \n",
       "4  Twitter for Android  They doing free Corona testing at George Floyd...   \n",
       "\n",
       "       geo.place_id  public_metrics.retweet_count  public_metrics.reply_count  \\\n",
       "0  8173485c72e78ca5                          8344                          60   \n",
       "1  8173485c72e78ca5                           122                          22   \n",
       "2  8173485c72e78ca5                             0                           1   \n",
       "3  8e9665cec9370f0f                          7185                        1285   \n",
       "4  8e9665cec9370f0f                           509                          13   \n",
       "\n",
       "   public_metrics.like_count  public_metrics.quote_count geo.coordinates.type  \\\n",
       "0                      27251                         352                  NaN   \n",
       "1                        677                          14                  NaN   \n",
       "2                          0                           0                  NaN   \n",
       "3                      23549                        1049                  NaN   \n",
       "4                        943                           1                  NaN   \n",
       "\n",
       "  geo.coordinates.coordinates        country        full_name    Timeline  \n",
       "0                         NaN  United States      Atlanta, GA  Before_Sep  \n",
       "1                         NaN  United States      Atlanta, GA  Before_Sep  \n",
       "2                         NaN  United States      Atlanta, GA  Before_Sep  \n",
       "3                         NaN  United States  Minneapolis, MN  Before_Sep  \n",
       "4                         NaN  United States  Minneapolis, MN  Before_Sep  "
      ]
     },
     "execution_count": 234,
     "metadata": {},
     "output_type": "execute_result"
    }
   ],
   "source": [
    "full_combined_df.head()"
   ]
  },
  {
   "cell_type": "markdown",
   "id": "frxkWdANye9q",
   "metadata": {
    "id": "frxkWdANye9q"
   },
   "source": [
    "Saving the Full Data we extracted from Twitter in a CSV file"
   ]
  },
  {
   "cell_type": "code",
   "execution_count": null,
   "id": "91523e0b",
   "metadata": {
    "id": "91523e0b"
   },
   "outputs": [],
   "source": [
    "full_combined_df.to_csv(\"All_Original_data.csv\")"
   ]
  },
  {
   "cell_type": "markdown",
   "id": "95574445",
   "metadata": {
    "id": "95574445"
   },
   "source": [
    "Creating an extract of Columns that i will be working on\n"
   ]
  },
  {
   "cell_type": "code",
   "execution_count": null,
   "id": "1402ff69",
   "metadata": {
    "colab": {
     "base_uri": "https://localhost:8080/"
    },
    "id": "1402ff69",
    "outputId": "1af7dd11-d554-478e-bb15-cf201417afba"
   },
   "outputs": [
    {
     "data": {
      "text/plain": [
       "Index(['index', 'created_at', 'id', 'author_id', 'source', 'text',\n",
       "       'geo.place_id', 'public_metrics.retweet_count',\n",
       "       'public_metrics.reply_count', 'public_metrics.like_count',\n",
       "       'public_metrics.quote_count', 'geo.coordinates.type',\n",
       "       'geo.coordinates.coordinates', 'country', 'full_name', 'Timeline'],\n",
       "      dtype='object')"
      ]
     },
     "execution_count": 236,
     "metadata": {},
     "output_type": "execute_result"
    }
   ],
   "source": [
    "full_combined_df.columns\n"
   ]
  },
  {
   "cell_type": "code",
   "execution_count": null,
   "id": "bce7a2a8",
   "metadata": {
    "id": "bce7a2a8"
   },
   "outputs": [],
   "source": [
    "full_combined_df = full_combined_df[['created_at', 'text', 'source',\n",
    "       'public_metrics.retweet_count', 'public_metrics.reply_count',\n",
    "       'public_metrics.like_count', 'public_metrics.quote_count',\n",
    "        'country', 'full_name', 'Timeline']]"
   ]
  },
  {
   "cell_type": "code",
   "execution_count": null,
   "id": "5c2ea074",
   "metadata": {
    "colab": {
     "base_uri": "https://localhost:8080/",
     "height": 617
    },
    "id": "5c2ea074",
    "outputId": "c3d9a88f-1b42-40ca-d143-751a9df533f2"
   },
   "outputs": [
    {
     "data": {
      "text/html": [
       "\n",
       "  <div id=\"df-9ef004f3-5afc-4f8e-9d4c-6d8c33ab5a72\">\n",
       "    <div class=\"colab-df-container\">\n",
       "      <div>\n",
       "<style scoped>\n",
       "    .dataframe tbody tr th:only-of-type {\n",
       "        vertical-align: middle;\n",
       "    }\n",
       "\n",
       "    .dataframe tbody tr th {\n",
       "        vertical-align: top;\n",
       "    }\n",
       "\n",
       "    .dataframe thead th {\n",
       "        text-align: right;\n",
       "    }\n",
       "</style>\n",
       "<table border=\"1\" class=\"dataframe\">\n",
       "  <thead>\n",
       "    <tr style=\"text-align: right;\">\n",
       "      <th></th>\n",
       "      <th>created_at</th>\n",
       "      <th>text</th>\n",
       "      <th>source</th>\n",
       "      <th>public_metrics.retweet_count</th>\n",
       "      <th>public_metrics.reply_count</th>\n",
       "      <th>public_metrics.like_count</th>\n",
       "      <th>public_metrics.quote_count</th>\n",
       "      <th>country</th>\n",
       "      <th>full_name</th>\n",
       "      <th>Timeline</th>\n",
       "    </tr>\n",
       "  </thead>\n",
       "  <tbody>\n",
       "    <tr>\n",
       "      <th>0</th>\n",
       "      <td>2020-09-06T15:01:05.000Z</td>\n",
       "      <td>I’m all for vaccines but this COVID one seems ...</td>\n",
       "      <td>Twitter for iPhone</td>\n",
       "      <td>8344</td>\n",
       "      <td>60</td>\n",
       "      <td>27251</td>\n",
       "      <td>352</td>\n",
       "      <td>United States</td>\n",
       "      <td>Atlanta, GA</td>\n",
       "      <td>Before_Sep</td>\n",
       "    </tr>\n",
       "    <tr>\n",
       "      <th>1</th>\n",
       "      <td>2020-09-28T19:55:41.000Z</td>\n",
       "      <td>Y’all taking that mark of the beast vaccine wh...</td>\n",
       "      <td>Twitter for iPhone</td>\n",
       "      <td>122</td>\n",
       "      <td>22</td>\n",
       "      <td>677</td>\n",
       "      <td>14</td>\n",
       "      <td>United States</td>\n",
       "      <td>Atlanta, GA</td>\n",
       "      <td>Before_Sep</td>\n",
       "    </tr>\n",
       "    <tr>\n",
       "      <th>2</th>\n",
       "      <td>2020-09-17T04:18:41.000Z</td>\n",
       "      <td>2. Ventilation: \\nA good supply of outside air...</td>\n",
       "      <td>Twitter for Mac</td>\n",
       "      <td>0</td>\n",
       "      <td>1</td>\n",
       "      <td>0</td>\n",
       "      <td>0</td>\n",
       "      <td>United States</td>\n",
       "      <td>Atlanta, GA</td>\n",
       "      <td>Before_Sep</td>\n",
       "    </tr>\n",
       "    <tr>\n",
       "      <th>3</th>\n",
       "      <td>2020-09-24T01:20:07.000Z</td>\n",
       "      <td>BREAKING: Trump announced today he will overru...</td>\n",
       "      <td>Twitter for iPhone</td>\n",
       "      <td>7185</td>\n",
       "      <td>1285</td>\n",
       "      <td>23549</td>\n",
       "      <td>1049</td>\n",
       "      <td>United States</td>\n",
       "      <td>Minneapolis, MN</td>\n",
       "      <td>Before_Sep</td>\n",
       "    </tr>\n",
       "    <tr>\n",
       "      <th>4</th>\n",
       "      <td>2020-09-13T18:46:27.000Z</td>\n",
       "      <td>They doing free Corona testing at George Floyd...</td>\n",
       "      <td>Twitter for Android</td>\n",
       "      <td>509</td>\n",
       "      <td>13</td>\n",
       "      <td>943</td>\n",
       "      <td>1</td>\n",
       "      <td>United States</td>\n",
       "      <td>Minneapolis, MN</td>\n",
       "      <td>Before_Sep</td>\n",
       "    </tr>\n",
       "  </tbody>\n",
       "</table>\n",
       "</div>\n",
       "      <button class=\"colab-df-convert\" onclick=\"convertToInteractive('df-9ef004f3-5afc-4f8e-9d4c-6d8c33ab5a72')\"\n",
       "              title=\"Convert this dataframe to an interactive table.\"\n",
       "              style=\"display:none;\">\n",
       "        \n",
       "  <svg xmlns=\"http://www.w3.org/2000/svg\" height=\"24px\"viewBox=\"0 0 24 24\"\n",
       "       width=\"24px\">\n",
       "    <path d=\"M0 0h24v24H0V0z\" fill=\"none\"/>\n",
       "    <path d=\"M18.56 5.44l.94 2.06.94-2.06 2.06-.94-2.06-.94-.94-2.06-.94 2.06-2.06.94zm-11 1L8.5 8.5l.94-2.06 2.06-.94-2.06-.94L8.5 2.5l-.94 2.06-2.06.94zm10 10l.94 2.06.94-2.06 2.06-.94-2.06-.94-.94-2.06-.94 2.06-2.06.94z\"/><path d=\"M17.41 7.96l-1.37-1.37c-.4-.4-.92-.59-1.43-.59-.52 0-1.04.2-1.43.59L10.3 9.45l-7.72 7.72c-.78.78-.78 2.05 0 2.83L4 21.41c.39.39.9.59 1.41.59.51 0 1.02-.2 1.41-.59l7.78-7.78 2.81-2.81c.8-.78.8-2.07 0-2.86zM5.41 20L4 18.59l7.72-7.72 1.47 1.35L5.41 20z\"/>\n",
       "  </svg>\n",
       "      </button>\n",
       "      \n",
       "  <style>\n",
       "    .colab-df-container {\n",
       "      display:flex;\n",
       "      flex-wrap:wrap;\n",
       "      gap: 12px;\n",
       "    }\n",
       "\n",
       "    .colab-df-convert {\n",
       "      background-color: #E8F0FE;\n",
       "      border: none;\n",
       "      border-radius: 50%;\n",
       "      cursor: pointer;\n",
       "      display: none;\n",
       "      fill: #1967D2;\n",
       "      height: 32px;\n",
       "      padding: 0 0 0 0;\n",
       "      width: 32px;\n",
       "    }\n",
       "\n",
       "    .colab-df-convert:hover {\n",
       "      background-color: #E2EBFA;\n",
       "      box-shadow: 0px 1px 2px rgba(60, 64, 67, 0.3), 0px 1px 3px 1px rgba(60, 64, 67, 0.15);\n",
       "      fill: #174EA6;\n",
       "    }\n",
       "\n",
       "    [theme=dark] .colab-df-convert {\n",
       "      background-color: #3B4455;\n",
       "      fill: #D2E3FC;\n",
       "    }\n",
       "\n",
       "    [theme=dark] .colab-df-convert:hover {\n",
       "      background-color: #434B5C;\n",
       "      box-shadow: 0px 1px 3px 1px rgba(0, 0, 0, 0.15);\n",
       "      filter: drop-shadow(0px 1px 2px rgba(0, 0, 0, 0.3));\n",
       "      fill: #FFFFFF;\n",
       "    }\n",
       "  </style>\n",
       "\n",
       "      <script>\n",
       "        const buttonEl =\n",
       "          document.querySelector('#df-9ef004f3-5afc-4f8e-9d4c-6d8c33ab5a72 button.colab-df-convert');\n",
       "        buttonEl.style.display =\n",
       "          google.colab.kernel.accessAllowed ? 'block' : 'none';\n",
       "\n",
       "        async function convertToInteractive(key) {\n",
       "          const element = document.querySelector('#df-9ef004f3-5afc-4f8e-9d4c-6d8c33ab5a72');\n",
       "          const dataTable =\n",
       "            await google.colab.kernel.invokeFunction('convertToInteractive',\n",
       "                                                     [key], {});\n",
       "          if (!dataTable) return;\n",
       "\n",
       "          const docLinkHtml = 'Like what you see? Visit the ' +\n",
       "            '<a target=\"_blank\" href=https://colab.research.google.com/notebooks/data_table.ipynb>data table notebook</a>'\n",
       "            + ' to learn more about interactive tables.';\n",
       "          element.innerHTML = '';\n",
       "          dataTable['output_type'] = 'display_data';\n",
       "          await google.colab.output.renderOutput(dataTable, element);\n",
       "          const docLink = document.createElement('div');\n",
       "          docLink.innerHTML = docLinkHtml;\n",
       "          element.appendChild(docLink);\n",
       "        }\n",
       "      </script>\n",
       "    </div>\n",
       "  </div>\n",
       "  "
      ],
      "text/plain": [
       "                 created_at  \\\n",
       "0  2020-09-06T15:01:05.000Z   \n",
       "1  2020-09-28T19:55:41.000Z   \n",
       "2  2020-09-17T04:18:41.000Z   \n",
       "3  2020-09-24T01:20:07.000Z   \n",
       "4  2020-09-13T18:46:27.000Z   \n",
       "\n",
       "                                                text               source  \\\n",
       "0  I’m all for vaccines but this COVID one seems ...   Twitter for iPhone   \n",
       "1  Y’all taking that mark of the beast vaccine wh...   Twitter for iPhone   \n",
       "2  2. Ventilation: \\nA good supply of outside air...      Twitter for Mac   \n",
       "3  BREAKING: Trump announced today he will overru...   Twitter for iPhone   \n",
       "4  They doing free Corona testing at George Floyd...  Twitter for Android   \n",
       "\n",
       "   public_metrics.retweet_count  public_metrics.reply_count  \\\n",
       "0                          8344                          60   \n",
       "1                           122                          22   \n",
       "2                             0                           1   \n",
       "3                          7185                        1285   \n",
       "4                           509                          13   \n",
       "\n",
       "   public_metrics.like_count  public_metrics.quote_count        country  \\\n",
       "0                      27251                         352  United States   \n",
       "1                        677                          14  United States   \n",
       "2                          0                           0  United States   \n",
       "3                      23549                        1049  United States   \n",
       "4                        943                           1  United States   \n",
       "\n",
       "         full_name    Timeline  \n",
       "0      Atlanta, GA  Before_Sep  \n",
       "1      Atlanta, GA  Before_Sep  \n",
       "2      Atlanta, GA  Before_Sep  \n",
       "3  Minneapolis, MN  Before_Sep  \n",
       "4  Minneapolis, MN  Before_Sep  "
      ]
     },
     "execution_count": 238,
     "metadata": {},
     "output_type": "execute_result"
    }
   ],
   "source": [
    "full_combined_df.head()"
   ]
  },
  {
   "cell_type": "markdown",
   "id": "U7q10J4gyrUR",
   "metadata": {
    "id": "U7q10J4gyrUR"
   },
   "source": [
    "## Data Cleaning\n",
    "\n",
    "Removing URL's and Usernames "
   ]
  },
  {
   "cell_type": "code",
   "execution_count": null,
   "id": "15f36d47",
   "metadata": {
    "colab": {
     "base_uri": "https://localhost:8080/"
    },
    "id": "15f36d47",
    "outputId": "6b448bc0-b647-4701-e914-5a96f9523292"
   },
   "outputs": [
    {
     "name": "stderr",
     "output_type": "stream",
     "text": [
      "<input>:5: DeprecationWarning: invalid escape sequence \\s\n",
      "<input>:5: DeprecationWarning: invalid escape sequence \\s\n",
      "<input>:6: DeprecationWarning: invalid escape sequence \\s\n",
      "<input>:5: DeprecationWarning: invalid escape sequence \\s\n",
      "<input>:6: DeprecationWarning: invalid escape sequence \\s\n",
      "<input>:5: DeprecationWarning: invalid escape sequence \\s\n",
      "<input>:6: DeprecationWarning: invalid escape sequence \\s\n",
      "<ipython-input-239-eab75717a999>:5: DeprecationWarning: invalid escape sequence \\s\n",
      "  tweet = re.sub('http[^\\s]+','',tweet)\n",
      "<ipython-input-239-eab75717a999>:6: DeprecationWarning: invalid escape sequence \\s\n",
      "  tweet = re.sub('@[^\\s]+','',tweet)\n"
     ]
    }
   ],
   "source": [
    "\n",
    "\n",
    "def clean_usernames_links(tweet):\n",
    "    \n",
    "    tweet = re.sub('http[^\\s]+','',tweet)\n",
    "    tweet = re.sub('@[^\\s]+','',tweet)\n",
    "    return tweet\n",
    "\n"
   ]
  },
  {
   "cell_type": "code",
   "execution_count": null,
   "id": "e6f37e52",
   "metadata": {
    "id": "e6f37e52"
   },
   "outputs": [],
   "source": [
    "full_combined_df['cleaned_tweet_text'] = full_combined_df['text'].apply(clean_usernames_links)\n"
   ]
  },
  {
   "cell_type": "markdown",
   "id": "JFFjOkDFtSsT",
   "metadata": {
    "id": "JFFjOkDFtSsT"
   },
   "source": [
    "Removing Punctuations and keeping text in lowercase"
   ]
  },
  {
   "cell_type": "code",
   "execution_count": null,
   "id": "x6lt_XKSr6Nj",
   "metadata": {
    "colab": {
     "base_uri": "https://localhost:8080/",
     "height": 35
    },
    "id": "x6lt_XKSr6Nj",
    "outputId": "91f0cffd-9b5b-43c4-dbb2-15ca8a67d3e7"
   },
   "outputs": [
    {
     "data": {
      "application/vnd.google.colaboratory.intrinsic+json": {
       "type": "string"
      },
      "text/plain": [
       "'!\"#$%&\\'()*+,-./:;<=>?@[\\\\]^_`{|}~'"
      ]
     },
     "execution_count": 241,
     "metadata": {},
     "output_type": "execute_result"
    }
   ],
   "source": [
    "\n",
    "string.punctuation"
   ]
  },
  {
   "cell_type": "code",
   "execution_count": null,
   "id": "hOYxskpMux4y",
   "metadata": {
    "id": "hOYxskpMux4y"
   },
   "outputs": [],
   "source": [
    "punctuations = '['+ string.punctuation+ ']'"
   ]
  },
  {
   "cell_type": "code",
   "execution_count": null,
   "id": "IzaMFi1Qu7na",
   "metadata": {
    "colab": {
     "base_uri": "https://localhost:8080/",
     "height": 35
    },
    "id": "IzaMFi1Qu7na",
    "outputId": "9a519eab-4eba-458e-cfed-de8f256f2a05"
   },
   "outputs": [
    {
     "data": {
      "application/vnd.google.colaboratory.intrinsic+json": {
       "type": "string"
      },
      "text/plain": [
       "'[!\"#$%&\\'()*+,-./:;<=>?@[\\\\]^_`{|}~]'"
      ]
     },
     "execution_count": 243,
     "metadata": {},
     "output_type": "execute_result"
    }
   ],
   "source": [
    "punctuations"
   ]
  },
  {
   "cell_type": "code",
   "execution_count": null,
   "id": "4NBC0Zvitbpv",
   "metadata": {
    "id": "4NBC0Zvitbpv"
   },
   "outputs": [],
   "source": [
    "\n",
    "full_combined_df['cleaned_tweet_text'] = full_combined_df['cleaned_tweet_text'].map(lambda x: re.sub(punctuations, '', x).lower())\n"
   ]
  },
  {
   "cell_type": "markdown",
   "id": "pl07cGL2r9tP",
   "metadata": {
    "id": "pl07cGL2r9tP"
   },
   "source": [
    " Removing Stopwords "
   ]
  },
  {
   "cell_type": "code",
   "execution_count": null,
   "id": "vMYmbwwZsZXD",
   "metadata": {
    "id": "vMYmbwwZsZXD"
   },
   "outputs": [],
   "source": [
    "stopwords = stopwords.words('english')"
   ]
  },
  {
   "cell_type": "code",
   "execution_count": null,
   "id": "oAnFDeZUsjoG",
   "metadata": {
    "id": "oAnFDeZUsjoG"
   },
   "outputs": [],
   "source": [
    "full_combined_df['cleaned_tweet_text']= full_combined_df['cleaned_tweet_text'].apply(lambda x: ' '.join([word for word in x.lower().split() if word not in (stopwords)]))\n"
   ]
  },
  {
   "cell_type": "markdown",
   "id": "X0JAzvmD_Hps",
   "metadata": {
    "id": "X0JAzvmD_Hps"
   },
   "source": [
    "Remove Emoticons"
   ]
  },
  {
   "cell_type": "code",
   "execution_count": null,
   "id": "67NSd2lA_PnW",
   "metadata": {
    "id": "67NSd2lA_PnW"
   },
   "outputs": [],
   "source": [
    "full_combined_df[\"cleaned_tweet_text\"] = full_combined_df[\"cleaned_tweet_text\"].apply(lambda x: x.encode('ascii', 'ignore').decode('ascii'))\n"
   ]
  },
  {
   "cell_type": "markdown",
   "id": "-BkDGA5ocxe4",
   "metadata": {
    "id": "-BkDGA5ocxe4"
   },
   "source": [
    "Removing numbers and words with length less than 4 and tweet Search keywords"
   ]
  },
  {
   "cell_type": "code",
   "execution_count": null,
   "id": "TQbGDr6rh8WM",
   "metadata": {
    "id": "TQbGDr6rh8WM"
   },
   "outputs": [],
   "source": [
    "tweet_search_keyword = ['CovidVaccine','vaccination','vaccinations','vaccine','vaccines','immunization',\n",
    "'vaccinate','vaccinated','covid','COVID-19','covid-19','Vaccines','SARS-CoV-2','vaccination Refusal','Pandemic',\n",
    "'vaccination drive','immunity','immune','rollout ','side effect','immunise','immunize','immunisation','moderna',\n",
    "'pfizer','biontech','astrazeneca','novavax','pfizerbiontech','coronavirus','CORONA']"
   ]
  },
  {
   "cell_type": "code",
   "execution_count": null,
   "id": "qjCs0Fs6nP5a",
   "metadata": {
    "id": "qjCs0Fs6nP5a"
   },
   "outputs": [],
   "source": [
    "tweet_search_keyword = [x.lower() for x in tweet_search_keyword]"
   ]
  },
  {
   "cell_type": "code",
   "execution_count": null,
   "id": "xpjqT6hsc3mA",
   "metadata": {
    "id": "xpjqT6hsc3mA"
   },
   "outputs": [],
   "source": [
    "\n",
    "full_combined_df['cleaned_tweet_text'] = full_combined_df['cleaned_tweet_text'].apply(lambda x : ' '.join(i for i in x.split() if  not i.isdigit() and len(i)>4 ))\n"
   ]
  },
  {
   "cell_type": "code",
   "execution_count": null,
   "id": "EfAqVHEkxLBO",
   "metadata": {
    "id": "EfAqVHEkxLBO"
   },
   "outputs": [],
   "source": [
    "full_combined_df['LDA_clean_text'] = full_combined_df['cleaned_tweet_text'].apply(lambda x : ' '.join(i for i in x.split() if  i not in tweet_search_keyword  ))\n"
   ]
  },
  {
   "cell_type": "markdown",
   "id": "z0Tw73SawH5P",
   "metadata": {
    "id": "z0Tw73SawH5P"
   },
   "source": [
    " Getting Date from the timestamp"
   ]
  },
  {
   "cell_type": "code",
   "execution_count": null,
   "id": "aQnFg8ERwD9J",
   "metadata": {
    "id": "aQnFg8ERwD9J"
   },
   "outputs": [],
   "source": [
    "full_combined_df['created_at'] = full_combined_df['created_at'].astype('datetime64[ns]').dt.date\n",
    "# full_combined_df['created_at'] = full_combined_df['created_at']."
   ]
  },
  {
   "cell_type": "code",
   "execution_count": null,
   "id": "62533693",
   "metadata": {
    "colab": {
     "base_uri": "https://localhost:8080/",
     "height": 617
    },
    "id": "62533693",
    "outputId": "b77f4387-4730-40e4-9b0b-7e7444ad12b6"
   },
   "outputs": [
    {
     "data": {
      "text/html": [
       "\n",
       "  <div id=\"df-82fbc759-64cc-4f36-a42a-3fe0c02092d5\">\n",
       "    <div class=\"colab-df-container\">\n",
       "      <div>\n",
       "<style scoped>\n",
       "    .dataframe tbody tr th:only-of-type {\n",
       "        vertical-align: middle;\n",
       "    }\n",
       "\n",
       "    .dataframe tbody tr th {\n",
       "        vertical-align: top;\n",
       "    }\n",
       "\n",
       "    .dataframe thead th {\n",
       "        text-align: right;\n",
       "    }\n",
       "</style>\n",
       "<table border=\"1\" class=\"dataframe\">\n",
       "  <thead>\n",
       "    <tr style=\"text-align: right;\">\n",
       "      <th></th>\n",
       "      <th>created_at</th>\n",
       "      <th>text</th>\n",
       "      <th>source</th>\n",
       "      <th>public_metrics.retweet_count</th>\n",
       "      <th>public_metrics.reply_count</th>\n",
       "      <th>public_metrics.like_count</th>\n",
       "      <th>public_metrics.quote_count</th>\n",
       "      <th>country</th>\n",
       "      <th>full_name</th>\n",
       "      <th>Timeline</th>\n",
       "      <th>cleaned_tweet_text</th>\n",
       "      <th>LDA_clean_text</th>\n",
       "    </tr>\n",
       "  </thead>\n",
       "  <tbody>\n",
       "    <tr>\n",
       "      <th>0</th>\n",
       "      <td>2020-09-06</td>\n",
       "      <td>I’m all for vaccines but this COVID one seems ...</td>\n",
       "      <td>Twitter for iPhone</td>\n",
       "      <td>8344</td>\n",
       "      <td>60</td>\n",
       "      <td>27251</td>\n",
       "      <td>352</td>\n",
       "      <td>United States</td>\n",
       "      <td>Atlanta, GA</td>\n",
       "      <td>Before_Sep</td>\n",
       "      <td>vaccines covid seems turned</td>\n",
       "      <td>seems turned</td>\n",
       "    </tr>\n",
       "    <tr>\n",
       "      <th>1</th>\n",
       "      <td>2020-09-28</td>\n",
       "      <td>Y’all taking that mark of the beast vaccine wh...</td>\n",
       "      <td>Twitter for iPhone</td>\n",
       "      <td>122</td>\n",
       "      <td>22</td>\n",
       "      <td>677</td>\n",
       "      <td>14</td>\n",
       "      <td>United States</td>\n",
       "      <td>Atlanta, GA</td>\n",
       "      <td>Before_Sep</td>\n",
       "      <td>taking beast vaccine drops</td>\n",
       "      <td>taking beast drops</td>\n",
       "    </tr>\n",
       "    <tr>\n",
       "      <th>2</th>\n",
       "      <td>2020-09-17</td>\n",
       "      <td>2. Ventilation: \\nA good supply of outside air...</td>\n",
       "      <td>Twitter for Mac</td>\n",
       "      <td>0</td>\n",
       "      <td>1</td>\n",
       "      <td>0</td>\n",
       "      <td>0</td>\n",
       "      <td>United States</td>\n",
       "      <td>Atlanta, GA</td>\n",
       "      <td>Before_Sep</td>\n",
       "      <td>ventilation supply outside accordance ashrae d...</td>\n",
       "      <td>ventilation supply outside accordance ashrae d...</td>\n",
       "    </tr>\n",
       "    <tr>\n",
       "      <th>3</th>\n",
       "      <td>2020-09-24</td>\n",
       "      <td>BREAKING: Trump announced today he will overru...</td>\n",
       "      <td>Twitter for iPhone</td>\n",
       "      <td>7185</td>\n",
       "      <td>1285</td>\n",
       "      <td>23549</td>\n",
       "      <td>1049</td>\n",
       "      <td>United States</td>\n",
       "      <td>Minneapolis, MN</td>\n",
       "      <td>Before_Sep</td>\n",
       "      <td>breaking trump announced today overrule vaccin...</td>\n",
       "      <td>breaking trump announced today overrule disagr...</td>\n",
       "    </tr>\n",
       "    <tr>\n",
       "      <th>4</th>\n",
       "      <td>2020-09-13</td>\n",
       "      <td>They doing free Corona testing at George Floyd...</td>\n",
       "      <td>Twitter for Android</td>\n",
       "      <td>509</td>\n",
       "      <td>13</td>\n",
       "      <td>943</td>\n",
       "      <td>1</td>\n",
       "      <td>United States</td>\n",
       "      <td>Minneapolis, MN</td>\n",
       "      <td>Before_Sep</td>\n",
       "      <td>corona testing george floyds memorial sundays ...</td>\n",
       "      <td>testing george floyds memorial sundays 124pm b...</td>\n",
       "    </tr>\n",
       "  </tbody>\n",
       "</table>\n",
       "</div>\n",
       "      <button class=\"colab-df-convert\" onclick=\"convertToInteractive('df-82fbc759-64cc-4f36-a42a-3fe0c02092d5')\"\n",
       "              title=\"Convert this dataframe to an interactive table.\"\n",
       "              style=\"display:none;\">\n",
       "        \n",
       "  <svg xmlns=\"http://www.w3.org/2000/svg\" height=\"24px\"viewBox=\"0 0 24 24\"\n",
       "       width=\"24px\">\n",
       "    <path d=\"M0 0h24v24H0V0z\" fill=\"none\"/>\n",
       "    <path d=\"M18.56 5.44l.94 2.06.94-2.06 2.06-.94-2.06-.94-.94-2.06-.94 2.06-2.06.94zm-11 1L8.5 8.5l.94-2.06 2.06-.94-2.06-.94L8.5 2.5l-.94 2.06-2.06.94zm10 10l.94 2.06.94-2.06 2.06-.94-2.06-.94-.94-2.06-.94 2.06-2.06.94z\"/><path d=\"M17.41 7.96l-1.37-1.37c-.4-.4-.92-.59-1.43-.59-.52 0-1.04.2-1.43.59L10.3 9.45l-7.72 7.72c-.78.78-.78 2.05 0 2.83L4 21.41c.39.39.9.59 1.41.59.51 0 1.02-.2 1.41-.59l7.78-7.78 2.81-2.81c.8-.78.8-2.07 0-2.86zM5.41 20L4 18.59l7.72-7.72 1.47 1.35L5.41 20z\"/>\n",
       "  </svg>\n",
       "      </button>\n",
       "      \n",
       "  <style>\n",
       "    .colab-df-container {\n",
       "      display:flex;\n",
       "      flex-wrap:wrap;\n",
       "      gap: 12px;\n",
       "    }\n",
       "\n",
       "    .colab-df-convert {\n",
       "      background-color: #E8F0FE;\n",
       "      border: none;\n",
       "      border-radius: 50%;\n",
       "      cursor: pointer;\n",
       "      display: none;\n",
       "      fill: #1967D2;\n",
       "      height: 32px;\n",
       "      padding: 0 0 0 0;\n",
       "      width: 32px;\n",
       "    }\n",
       "\n",
       "    .colab-df-convert:hover {\n",
       "      background-color: #E2EBFA;\n",
       "      box-shadow: 0px 1px 2px rgba(60, 64, 67, 0.3), 0px 1px 3px 1px rgba(60, 64, 67, 0.15);\n",
       "      fill: #174EA6;\n",
       "    }\n",
       "\n",
       "    [theme=dark] .colab-df-convert {\n",
       "      background-color: #3B4455;\n",
       "      fill: #D2E3FC;\n",
       "    }\n",
       "\n",
       "    [theme=dark] .colab-df-convert:hover {\n",
       "      background-color: #434B5C;\n",
       "      box-shadow: 0px 1px 3px 1px rgba(0, 0, 0, 0.15);\n",
       "      filter: drop-shadow(0px 1px 2px rgba(0, 0, 0, 0.3));\n",
       "      fill: #FFFFFF;\n",
       "    }\n",
       "  </style>\n",
       "\n",
       "      <script>\n",
       "        const buttonEl =\n",
       "          document.querySelector('#df-82fbc759-64cc-4f36-a42a-3fe0c02092d5 button.colab-df-convert');\n",
       "        buttonEl.style.display =\n",
       "          google.colab.kernel.accessAllowed ? 'block' : 'none';\n",
       "\n",
       "        async function convertToInteractive(key) {\n",
       "          const element = document.querySelector('#df-82fbc759-64cc-4f36-a42a-3fe0c02092d5');\n",
       "          const dataTable =\n",
       "            await google.colab.kernel.invokeFunction('convertToInteractive',\n",
       "                                                     [key], {});\n",
       "          if (!dataTable) return;\n",
       "\n",
       "          const docLinkHtml = 'Like what you see? Visit the ' +\n",
       "            '<a target=\"_blank\" href=https://colab.research.google.com/notebooks/data_table.ipynb>data table notebook</a>'\n",
       "            + ' to learn more about interactive tables.';\n",
       "          element.innerHTML = '';\n",
       "          dataTable['output_type'] = 'display_data';\n",
       "          await google.colab.output.renderOutput(dataTable, element);\n",
       "          const docLink = document.createElement('div');\n",
       "          docLink.innerHTML = docLinkHtml;\n",
       "          element.appendChild(docLink);\n",
       "        }\n",
       "      </script>\n",
       "    </div>\n",
       "  </div>\n",
       "  "
      ],
      "text/plain": [
       "   created_at                                               text  \\\n",
       "0  2020-09-06  I’m all for vaccines but this COVID one seems ...   \n",
       "1  2020-09-28  Y’all taking that mark of the beast vaccine wh...   \n",
       "2  2020-09-17  2. Ventilation: \\nA good supply of outside air...   \n",
       "3  2020-09-24  BREAKING: Trump announced today he will overru...   \n",
       "4  2020-09-13  They doing free Corona testing at George Floyd...   \n",
       "\n",
       "                source  public_metrics.retweet_count  \\\n",
       "0   Twitter for iPhone                          8344   \n",
       "1   Twitter for iPhone                           122   \n",
       "2      Twitter for Mac                             0   \n",
       "3   Twitter for iPhone                          7185   \n",
       "4  Twitter for Android                           509   \n",
       "\n",
       "   public_metrics.reply_count  public_metrics.like_count  \\\n",
       "0                          60                      27251   \n",
       "1                          22                        677   \n",
       "2                           1                          0   \n",
       "3                        1285                      23549   \n",
       "4                          13                        943   \n",
       "\n",
       "   public_metrics.quote_count        country        full_name    Timeline  \\\n",
       "0                         352  United States      Atlanta, GA  Before_Sep   \n",
       "1                          14  United States      Atlanta, GA  Before_Sep   \n",
       "2                           0  United States      Atlanta, GA  Before_Sep   \n",
       "3                        1049  United States  Minneapolis, MN  Before_Sep   \n",
       "4                           1  United States  Minneapolis, MN  Before_Sep   \n",
       "\n",
       "                                  cleaned_tweet_text  \\\n",
       "0                        vaccines covid seems turned   \n",
       "1                         taking beast vaccine drops   \n",
       "2  ventilation supply outside accordance ashrae d...   \n",
       "3  breaking trump announced today overrule vaccin...   \n",
       "4  corona testing george floyds memorial sundays ...   \n",
       "\n",
       "                                      LDA_clean_text  \n",
       "0                                       seems turned  \n",
       "1                                 taking beast drops  \n",
       "2  ventilation supply outside accordance ashrae d...  \n",
       "3  breaking trump announced today overrule disagr...  \n",
       "4  testing george floyds memorial sundays 124pm b...  "
      ]
     },
     "execution_count": 253,
     "metadata": {},
     "output_type": "execute_result"
    }
   ],
   "source": [
    "full_combined_df.head()"
   ]
  },
  {
   "cell_type": "markdown",
   "id": "DyMmH67qIVrs",
   "metadata": {
    "id": "DyMmH67qIVrs"
   },
   "source": [
    "## EMPATH"
   ]
  },
  {
   "cell_type": "markdown",
   "id": "6V5wCg8S9eZK",
   "metadata": {
    "id": "6V5wCg8S9eZK"
   },
   "source": [
    "https://github.com/Ejhfast/empath-client"
   ]
  },
  {
   "cell_type": "code",
   "execution_count": null,
   "id": "Mjk_x1zfIXzn",
   "metadata": {
    "id": "Mjk_x1zfIXzn"
   },
   "outputs": [],
   "source": [
    "\n",
    "empath_mod = Empath()\n",
    "\n"
   ]
  },
  {
   "cell_type": "markdown",
   "id": "4UV5KJLQOAQP",
   "metadata": {
    "id": "4UV5KJLQOAQP"
   },
   "source": [
    "Creating 10 Category with few added seed words and in response there are more associated by EMPATH neural embedding\n",
    "\n",
    "The Categories and majority of seed words were taken from below Paper\n",
    "\n",
    "Chopra, H., Vashishtha, A., Pal, R., Ashima, Tyagi, A., & Sethi, T. (2021). Mining Trends of COVID-19 Vaccine Beliefs on Twitter with Lexical Embeddings. ArXiv, abs/2104.01131.\n"
   ]
  },
  {
   "cell_type": "code",
   "execution_count": null,
   "id": "0AmcAOIF2_h1",
   "metadata": {
    "colab": {
     "base_uri": "https://localhost:8080/"
    },
    "id": "0AmcAOIF2_h1",
    "outputId": "a6855db0-0a70-4392-8fd8-cfcf679e19c5"
   },
   "outputs": [
    {
     "name": "stdout",
     "output_type": "stream",
     "text": [
      "[\"scheme\", \"method\", \"conspiracy\", \"theory\", \"trickery\", \"motive\", \"illusions\", \"purpose\", \"hoax\", \"deception\", \"killing\", \"false\", \"potential\", \"basis\", \"master_plan\", \"attachment\", \"mindset\", \"methods\", \"tactic\", \"proof\", \"delusion\", \"claims\", \"speculation\", \"schemes\", \"necessity\", \"villain\", \"part\", \"ruse\", \"complication\", \"mutation\", \"consequence\", \"act\", \"ploy\", \"downfall\", \"failure\", \"hypothesis\", \"catalyst\", \"fraud\", \"otherwise\", \"corrupt\", \"appeal\", \"capability\", \"phenomenon\", \"justice\", \"capabilities\", \"blackmail\", \"might\", \"ultimately\", \"theories\", \"aspects\", \"threat\", \"sources\", \"Furthermore\", \"illusion\", \"conversion\", \"vampirism\", \"significance\", \"time_travel\", \"creations\", \"accidental\", \"glitch\", \"probability\", \"human_nature\", \"free_will\", \"experiment\", \"representation\", \"context\", \"scam\", \"corruption\", \"potential\", \"origins\", \"victim\", \"extent\", \"limitations\", \"association\", \"origin\", \"essentially\", \"moral\", \"scenario\", \"conflict\", \"last_resort\", \"sorcery\", \"resolution\", \"defect\", \"delusions\", \"manipulating\", \"strategy\", \"WICKED\", \"identity\", \"heroine\", \"humanity\", \"justification\", \"potentially\", \"oneself\", \"yagya\", \"prophecies\", \"involvement\", \"surely\"]\n"
     ]
    }
   ],
   "source": [
    "empath_mod.create_category(\"Misinformation\",[\"propaganda\", \"conspiracy\",\"fraud\", \"fake\", \"poison\", \"deception\", \n",
    "                                  \"plot\", \"trick\", \"plan\", \"frame-up\", \"false\"])"
   ]
  },
  {
   "cell_type": "code",
   "execution_count": null,
   "id": "FPeDu6lJZFOZ",
   "metadata": {
    "colab": {
     "base_uri": "https://localhost:8080/"
    },
    "id": "FPeDu6lJZFOZ",
    "outputId": "048e303d-5ed6-4f5d-e5f3-f43adf0537da"
   },
   "outputs": [
    {
     "name": "stdout",
     "output_type": "stream",
     "text": [
      "[\"wary\", \"fearful\", \"suspicion\", \"afraid\", \"uncertain\", \"threat\", \"knowing\", \"fear\", \"anxious\", \"frightened\", \"reluctance\", \"unsure\", \"intentions\", \"uncertainty\", \"certainty\", \"fear\", \"reluctant\", \"hostility\", \"doubt\", \"cautious\", \"possibility\", \"worried\", \"danger\", \"hesitant\", \"doubts\", \"uneasy\", \"terrified\", \"apprehensive\", \"situation\", \"certain\", \"dilemma\", \"fearing\", \"reasoning\", \"Yet\", \"frightened\", \"notion\", \"emotion\", \"Caine\", \"caution\", \"Yet\", \"remorse\", \"curious\", \"doubtful\", \"rejection\", \"troubled\", \"consequences\", \"intent\", \"angry\", \"hopeful\", \"intention\", \"resistance\", \"relieved\", \"feared\", \"animosity\", \"anxiety\", \"guilt\", \"questioning\", \"unwilling\", \"curiosity\", \"unhappy\", \"guilty\", \"Syndil\", \"unease\", \"compelled\", \"uneasiness\", \"current_state\", \"simply\", \"question\", \"scared\", \"motives\", \"suspicious\", \"confrontation\", \"current_situation\", \"terrified\", \"wanting\", \"disappointed\", \"conviction\", \"predicament\", \"expectation\", \"pity\", \"surely\", \"determined\", \"weary\", \"Nevertheless\", \"Dimitri\", \"knew\", \"understood\", \"indication\", \"knowledge\", \"vulnerability\", \"consequence\", \"However\", \"adamant\", \"judgement\", \"discouraged\", \"hostile\", \"Nikolai\"]\n"
     ]
    }
   ],
   "source": [
    "empath_mod.create_category(\"Hesitation\",[\"anxious\", \"nervous\", \"fear\",\n",
    "\"consequences\", \"uncertain\",\"reluctant\",\n",
    "\"hesitation\", \"suspicion\", \"harm\"])"
   ]
  },
  {
   "cell_type": "code",
   "execution_count": null,
   "id": "4dirwcBXZCWY",
   "metadata": {
    "colab": {
     "base_uri": "https://localhost:8080/"
    },
    "id": "4dirwcBXZCWY",
    "outputId": "53096e2b-2e8d-4a87-be8b-cc8c25e2d62a"
   },
   "outputs": [
    {
     "name": "stdout",
     "output_type": "stream",
     "text": [
      "[\"sad\", \"hopeless\", \"hurt\", \"unhappy\", \"miserable\", \"terrible\", \"disappointment\", \"pity\", \"guilty\", \"sadness\", \"horrible\", \"angry\", \"guilt\", \"depressed\", \"worst\", \"betrayal\", \"upset\", \"heartbreaking\", \"heartbroken\", \"regret\", \"ashamed\", \"heartbreak\", \"denial\", \"disappointed\", \"rejection\", \"awful\", \"saddened\", \"truly\", \"sick\", \"loneliness\", \"heart_break\", \"sorrow\", \"scared\", \"failure\", \"Yet\", \"grief\", \"bad\", \"sympathy\", \"mixed_emotions\", \"disappointed\", \"knowing\", \"unhappiness\", \"happy\", \"emotional\", \"Yet\", \"shameful\", \"honestly\", \"devastating\", \"worse\", \"reason\", \"pitiful\", \"though\", \"hurt\", \"despair\", \"Pity\", \"humiliation\", \"heartache\", \"happiness\", \"bitter\", \"misery\", \"distraught\", \"terrified\", \"though\", \"pitied\", \"dreadful\", \"insecurity\", \"pathetic\", \"afraid\", \"emotion\", \"hurt\", \"heartbreaking\", \"fear\", \"suffering\", \"dissapointment\", \"worried\", \"hatred\", \"infatuation\", \"remorse\", \"so_much_pain\", \"depression\", \"unwanted\", \"depressed\", \"Though\", \"depressing\", \"shame\", \"dying\", \"anymore\", \"troubled\", \"loss\", \"lonely\", \"terrified\", \"selfish\"]\n"
     ]
    }
   ],
   "source": [
    "empath_mod.create_category(\"Sorrow\", [\"sad\", \"hopeless\", \"worst\",\"dissatisfaction\",\n",
    "\"disappointment\", \"setback\"])"
   ]
  },
  {
   "cell_type": "code",
   "execution_count": null,
   "id": "o18h7iObY_pc",
   "metadata": {
    "colab": {
     "base_uri": "https://localhost:8080/"
    },
    "id": "o18h7iObY_pc",
    "outputId": "24618954-9aa6-4d44-fb96-12115d61ad05"
   },
   "outputs": [
    {
     "name": "stdout",
     "output_type": "stream",
     "text": [
      "[\"faith\", \"truly\", \"trust\", \"potential\", \"understand\", \"grateful\", \"accept\", \"free_will\", \"knowledge\", \"benefit\", \"trust\", \"Yet\", \"belief\", \"sacrifice\", \"loyalty\", \"human_life\", \"certainty\", \"independence\", \"commitment\", \"morals\", \"good_intentions\", \"redemption\", \"sacrifices\", \"downfall\", \"regardless\", \"succeed\", \"closure\", \"believed\", \"rely\", \"ambition\", \"potential\", \"responsibility\", \"mindset\", \"depend\", \"judgement\", \"willing\", \"fear\", \"Because\", \"surely\", \"Therefore\", \"compromise\", \"hardship\", \"risks\", \"strive\", \"extremes\", \"guidance\", \"faults\", \"virtue\", \"achieve\", \"good_fortune\", \"Though\", \"selfishly\", \"measure\", \"Regardless\", \"doubts\", \"limitations\", \"trusted\", \"responsibilities\", \"meant\", \"understood\", \"immortality\", \"resent\", \"capacity\", \"necessity\", \"benefit\", \"greater_good\", \"justice\", \"hope\", \"assure\", \"hardships\", \"common_sense\", \"saving\", \"failures\", \"Perhaps\", \"humanity\", \"simple_fact\", \"certainly\", \"consolation\", \"assurance\", \"experience\", \"believe\", \"devotion\", \"ignorance\", \"Moreover\", \"generosity\", \"responsible\", \"Yet\", \"reasoning\", \"terms\", \"capability\", \"little_hope\", \"thankful\", \"companionship\", \"beneficial\", \"judgment\", \"attain\", \"wish\", \"worthwhile\"]\n"
     ]
    }
   ],
   "source": [
    "empath_mod.create_category(\"Faith\", [\"faith\", \"optimism\", \"vaccines\",\"trust\",\"belief\",\n",
    "\"work\", \"assurance\",\n",
    "\"grateful\"])"
   ]
  },
  {
   "cell_type": "code",
   "execution_count": null,
   "id": "aybuYWyUY7pd",
   "metadata": {
    "colab": {
     "base_uri": "https://localhost:8080/"
    },
    "id": "aybuYWyUY7pd",
    "outputId": "be6a8015-7d0e-4aea-ef6e-416c86e7f2ba"
   },
   "outputs": [
    {
     "name": "stdout",
     "output_type": "stream",
     "text": [
      "[\"happy\", \"proud\", \"grateful\", \"glad\", \"happiness\", \"thankful\", \"joy\", \"pride\", \"pleased\", \"good\", \"great\", \"thrilled\", \"gratitude\", \"truly\", \"wonderful\", \"appreciative\", \"blessed\", \"kindness\", \"delighted\", \"overjoyed\", \"achievement\", \"disappointed\", \"accomplishment\", \"hope\", \"knowing\", \"ecstatic\", \"much\", \"praise\", \"contented\", \"actually\", \"loved\", \"understanding\", \"honored\", \"generosity\", \"well\", \"greatful\", \"appreciate\", \"good\", \"enjoyment\", \"unhappy\", \"acceptance\", \"wish\", \"enthusiasm\", \"best\", \"pleased\", \"Yet\", \"Because\", \"satisfactory\", \"certainly\", \"success\", \"loving\", \"help\", \"satisfaction\", \"certainty\", \"accept\", \"satisfied\", \"positivity\", \"independence\", \"appreciated\", \"consolation\", \"enough\", \"wanted\", \"understood\", \"meant\", \"appreciation\", \"willing\", \"own\", \"much\", \"rejoice\", \"benefit\", \"ashamed\", \"generous\", \"delighted\", \"accepting\", \"overjoyed\", \"worthy\", \"worth\", \"though\", \"bravery\", \"compassion\", \"true_happiness\", \"special\", \"optimism\", \"amazing\", \"excited\", \"hard_work\", \"pity\", \"satisfied\"]\n"
     ]
    }
   ],
   "source": [
    "empath_mod.create_category(\"Contentment\", [\"satisfy\", \"glad\", \"proud\",\n",
    "\"gratitude\", \"great\", \"joy\"])\n"
   ]
  },
  {
   "cell_type": "code",
   "execution_count": null,
   "id": "kEBUaXLlY5Oh",
   "metadata": {
    "colab": {
     "base_uri": "https://localhost:8080/"
    },
    "id": "kEBUaXLlY5Oh",
    "outputId": "8fe25566-5bc9-426f-88ec-8f55c4e187e6"
   },
   "outputs": [
    {
     "name": "stdout",
     "output_type": "stream",
     "text": [
      "[\"crucial\", \"anticipate\", \"prepared\", \"vital\", \"await\", \"ensure\", \"quick\", \"determined\", \"receive\", \"thorough\", \"delay\", \"guaranteed\", \"calculated\", \"surely\", \"conclude\", \"Therefore\", \"required\", \"ensured\", \"aid\", \"allow\", \"priority\", \"dictated\", \"resolution\", \"determine\", \"imperative\", \"critical\", \"certain\", \"essential\", \"survival\", \"necessity\", \"quickest\", \"brief\", \"require\", \"objective\", \"resolved\", \"delaying\", \"necessary\", \"eager\", \"prepare\", \"conduct\", \"heed\", \"protocol\", \"depart\", \"requires\", \"insure\", \"compromised\", \"Perhaps\", \"yield\", \"execute\", \"prepared\", \"determining\", \"ensuring\", \"return\", \"prolong\", \"Given\", \"initiate\", \"reserve\", \"however\", \"advising\", \"sufficient\", \"eliminate\", \"hindrance\", \"instruction\", \"successful\", \"consult\", \"determines\", \"immediate\", \"order\", \"obtain\", \"concerning\", \"summons\", \"enable\", \"progress\", \"Zanoba\", \"campaign\", \"hopefully\", \"might\", \"limited\", \"accounted\", \"reinforce\", \"demand\", \"provide\", \"permit\", \"motivated\", \"able\", \"calculate\", \"final_stage\", \"unfortunate\", \"top_priority\", \"acquire\", \"disastrous\", \"predicting\", \"perhaps\", \"hasten\", \"complete\", \"indefinitely\"]\n"
     ]
    }
   ],
   "source": [
    "empath_mod.create_category(\"Anticipation\", [\"anticipate\", \"urgently\",\"expectancy\",\n",
    "\"priority\", \"quick\", \"await\"]) "
   ]
  },
  {
   "cell_type": "code",
   "execution_count": null,
   "id": "Xy89N-DfY01A",
   "metadata": {
    "colab": {
     "base_uri": "https://localhost:8080/"
    },
    "id": "Xy89N-DfY01A",
    "outputId": "6fe988ba-d2ee-423b-d56b-b95d0c661d8b"
   },
   "outputs": [
    {
     "name": "stdout",
     "output_type": "stream",
     "text": [
      "[\"angry\", \"mad\", \"upset\", \"annoyed\", \"pissed\", \"stupid\", \"annoyed\", \"hate\", \"frustrated\", \"furious\", \"upset\", \"scared\", \"sad\", \"pathetic\", \"disgusted\", \"jealous\", \"irritated\", \"pissed\", \"seriously\", \"hurt\", \"unhappy\", \"mean\", \"irritated\", \"guilty\", \"hating\", \"care\", \"annoying\", \"bad\", \"selfish\", \"disappointed\", \"hurt\", \"sick\", \"honestly\", \"angered\", \"horrible\", \"ashamed\", \"serious\", \"rude\", \"worried\", \"frustrated\", \"understand\", \"why\", \"aggravated\", \"Because\", \"upset\", \"infuriated\", \"insulted\", \"depressed\", \"annoying\", \"dissapointed\", \"embarrassed\", \"hated\", \"hurt\", \"stubborn\", \"ridiculous\", \"anymore\", \"jerk\", \"heartbroken\", \"blame\", \"disappointed\", \"mean\", \"happy\", \"defensive\", \"harsh\", \"awful\", \"disgusted\", \"terrible\", \"childish\", \"scared\", \"confused\", \"Honestly\", \"miserable\", \"wrong\", \"unfair\", \"obvious\", \"crazy\", \"reason\", \"insulting\", \"idiotic\", \"pissy\", \"knowing\", \"afraid\", \"dumb\", \"hates\", \"so_much_hate\", \"offended\"]\n"
     ]
    }
   ],
   "source": [
    "empath_mod.create_category(\"Rage\", [\"angry\", \"annoyance\", \"hate\",\n",
    "\"mad\", \"pathetic\"])"
   ]
  },
  {
   "cell_type": "code",
   "execution_count": null,
   "id": "Fkv_tfHTYvid",
   "metadata": {
    "colab": {
     "base_uri": "https://localhost:8080/"
    },
    "id": "Fkv_tfHTYvid",
    "outputId": "f2459399-5778-451c-db1c-5a34adaf20f5"
   },
   "outputs": [
    {
     "name": "stdout",
     "output_type": "stream",
     "text": [
      "[\"supply\", \"amounts\", \"large_amount\", \"portion\", \"large_amounts\", \"mass\", \"variety\", \"masses\", \"various_types\", \"massive_amounts\", \"minerals\", \"amount\", \"stocks\", \"disposal\", \"trading\", \"abundance\", \"materials\", \"product\", \"weaponry\", \"metals\", \"plethora\", \"grain\", \"craft\", \"sorts\", \"housing\", \"maintenance\", \"production\", \"functions\", \"areas\", \"multitude\", \"majority\", \"primarily\", \"properties\", \"factories\", \"substances\", \"quantity\", \"massive_amount\", \"various\", \"certain_amount\", \"vessels\", \"resources\", \"providing\", \"provides\", \"stock\", \"facilities\", \"wide_range\", \"form\", \"requiring\", \"other_types\", \"goods\", \"cases\", \"reserve\", \"income\", \"most\", \"function\", \"livestock\", \"propaganda\", \"surplus\", \"fair_amount\", \"limited\", \"mechanics\", \"transport\", \"components\", \"profit\", \"bulk\", \"manipulation\", \"markets\", \"factory\", \"merchants\", \"shortage\", \"required\", \"portions\", \"technology\", \"constructing\", \"vessel\", \"bacteria\", \"bases\", \"consumption\", \"trade\", \"machinery\", \"addition\", \"other_type\", \"producing\", \"supplying\", \"products\", \"excess\", \"produce\", \"essentially\", \"provisions\", \"result\", \"businesses\", \"farming\", \"necessity\", \"construction\", \"growth\", \"different_kinds\", \"percentage\", \"poisons\"]\n"
     ]
    }
   ],
   "source": [
    "empath_mod.create_category(\"Vaccine Rollout\", [\"vaccinate\", \"distribution\",\n",
    "\"supply\", \"mass\", \"dose\", \"vaccine rollout\",\"vaccine campaign\",\n",
    "\"vaccination drive\"])"
   ]
  },
  {
   "cell_type": "code",
   "execution_count": null,
   "id": "pPldw47pYr4Y",
   "metadata": {
    "colab": {
     "base_uri": "https://localhost:8080/"
    },
    "id": "pPldw47pYr4Y",
    "outputId": "939c7079-21fc-4793-b4ee-5e94b83686a2"
   },
   "outputs": [
    {
     "name": "stdout",
     "output_type": "stream",
     "text": [
      "[\"deprive\", \"racism\", \"discrimination\", \"glorify\", \"influencing\", \"constitute\", \"prejudice\", \"outweigh\", \"harbor\", \"condone\", \"equality\", \"detrimental\", \"homosexuality\", \"spiritual\", \"such_people\", \"exploitation\", \"Muslims\", \"derive\", \"morality\", \"corrupt\", \"human_nature\", \"abstinence\", \"merit\", \"benefited\", \"yagya\", \"neglect\", \"synonymous\", \"delusions\", \"influences\", \"immoral\", \"deserving\", \"democracy\", \"political\", \"condemn\", \"benefits\", \"vices\", \"morals\", \"unjust\", \"attribute\", \"moral\", \"conformity\", \"subject\", \"worst_kind\", \"sexism\", \"conform\", \"extremes\", \"degrade\", \"causes\", \"exclude\", \"terrorism\", \"satisfies\", \"most_cases\", \"prejudices\", \"thrives\", \"persecution\", \"shortcomings\", \"limitation\", \"upper_class\", \"degraded\", \"ridicule\", \"universal\", \"glorified\", \"pettiness\", \"influence\", \"contributing\", \"believers\", \"discriminate\", \"deserving\", \"worshipper\", \"associated\", \"yog\", \"conducive\", \"other_type\", \"corrupting\", \"incite\", \"successes\", \"transcend\", \"representation\", \"influences\", \"delusion\", \"depriving\", \"basis\", \"ethics\", \"homosexuals\", \"lack\", \"everyday_life\", \"Christianity\", \"superstition\", \"undermine\", \"stealing\", \"alienated\"]\n"
     ]
    }
   ],
   "source": [
    "empath_mod.create_category(\"Inequities\", [\"socioeconomic\", \"deprive\",\n",
    "\"racial_injustice\", \"racism\",\n",
    "\"underrepresented\"])"
   ]
  },
  {
   "cell_type": "code",
   "execution_count": null,
   "id": "3JxQnebOf6D9",
   "metadata": {
    "colab": {
     "base_uri": "https://localhost:8080/"
    },
    "id": "3JxQnebOf6D9",
    "outputId": "77d29378-bcdd-411d-9def-6c1083a7756f"
   },
   "outputs": [
    {
     "name": "stdout",
     "output_type": "stream",
     "text": [
      "[\"nausea\", \"migraine\", \"dizziness\", \"headache\", \"drowsiness\", \"tiredness\", \"numbness\", \"fatigue\", \"burning_sensation\", \"dull_ache\", \"burning_feeling\", \"ache\", \"excruciating_pain\", \"intense_pain\", \"fever\", \"exhaustion\", \"extreme_pain\", \"pain\", \"numb_feeling\", \"vertigo\", \"soreness\", \"throbbing\", \"horrible_pain\", \"stinging\", \"heaviness\", \"burning\", \"tremors\", \"anxiety\", \"burn\", \"immense_pain\", \"pains\", \"cold_feeling\", \"dull_pain\", \"coldness\", \"unbearable_pain\", \"sting\", \"familiar_feeling\", \"aches\", \"aching\", \"burning_pain\", \"terrible_pain\", \"vomiting\", \"swelling\", \"headaches\", \"massive_headache\", \"slight_pain\", \"Exhaustion\", \"ache\", \"throbbing_pain\", \"weariness\", \"slight_headache\", \"aching_pain\", \"dull_throb\", \"sleepiness\", \"blood_loss\", \"euphoria\", \"agonizing_pain\", \"stinging\", \"spasm\", \"dizzy\", \"sore_throat\", \"cramps\", \"uncomfortable_feeling\", \"stinging\", \"tremor\", \"numbed\", \"severe_pain\", \"entire_body\", \"woozy\", \"swelling\", \"stiffness\", \"shaking\", \"coughing\", \"numb\", \"strange_sensation\", \"stinging_pain\", \"pounding_headache\", \"searing_pain\", \"paranoia\", \"ache\", \"whole_body\", \"strain\", \"convulsions\", \"anxiousness\", \"lightheaded\", \"pounding_head\", \"exertion\", \"sharp_pains\", \"heavy_feeling\", \"adrenaline\", \"great_pain\", \"spasms\", \"sudden_pain\", \"tingling\", \"head_ache\", \"sudden_shock\", \"sick_feeling\", \"throbbing\"]\n"
     ]
    }
   ],
   "source": [
    "empath_mod.create_category(\"Health Effects\", [\"nausea\",\"swelling\",\"muscle pain\", \"vomitting\",\"chills\",\"malaise\",\"high temperature\",\n",
    "                \"sneeze\",   \"cough\", \"nasal congestion\", \"dizziness\",\"headache\", \"fatigue\", \"inflammation\", \"fever\", \"bodyache\",\"drowsiness\"])"
   ]
  },
  {
   "cell_type": "code",
   "execution_count": null,
   "id": "sPmgf6dmZPWW",
   "metadata": {
    "id": "sPmgf6dmZPWW"
   },
   "outputs": [],
   "source": [
    "categories = ['Hesitation', 'Sorrow', \n",
    "        'Faith', 'Contentment', 'Anticipation', \n",
    "        'Rage',   'Vaccine Rollout','Inequities',\n",
    "           \n",
    "         'Health Effects','Misinformation'\n",
    "          ]"
   ]
  },
  {
   "cell_type": "code",
   "execution_count": null,
   "id": "MBzq0d7SZfz8",
   "metadata": {
    "colab": {
     "base_uri": "https://localhost:8080/"
    },
    "id": "MBzq0d7SZfz8",
    "outputId": "eaefb1b3-382f-44ba-a06d-d55196a4bb16"
   },
   "outputs": [
    {
     "data": {
      "text/plain": [
       "10"
      ]
     },
     "execution_count": 266,
     "metadata": {},
     "output_type": "execute_result"
    }
   ],
   "source": [
    "len(categories)"
   ]
  },
  {
   "cell_type": "code",
   "execution_count": null,
   "id": "KiaYayWmSd1l",
   "metadata": {
    "id": "KiaYayWmSd1l"
   },
   "outputs": [],
   "source": [
    "# categories = ['anticipation', 'positive_emotion', \n",
    "#         'contentment', 'negative_emotion', 'disappointment', \n",
    "#         'fear',   'trust','science',\n",
    "#           'confusion', \n",
    "#          'health','optimism','misinformation',\n",
    "#           'government']\n"
   ]
  },
  {
   "cell_type": "code",
   "execution_count": null,
   "id": "04YYRgRYjkzz",
   "metadata": {
    "id": "04YYRgRYjkzz"
   },
   "outputs": [],
   "source": [
    "full_combined_df['EMPATH_scores'] = full_combined_df['cleaned_tweet_text'].apply(lambda x: empath_mod.analyze(x, categories= categories, normalize=True))\n"
   ]
  },
  {
   "cell_type": "code",
   "execution_count": null,
   "id": "tf9jJBh9e7t2",
   "metadata": {
    "id": "tf9jJBh9e7t2"
   },
   "outputs": [],
   "source": [
    "# full_combined_df['EMPATH_text_scores'] = full_combined_df['text'].apply(lambda x: empath_mod.analyze(x, categories= categories, normalize=True))\n"
   ]
  },
  {
   "cell_type": "code",
   "execution_count": null,
   "id": "Wu7zeZ43liZA",
   "metadata": {
    "colab": {
     "base_uri": "https://localhost:8080/",
     "height": 617
    },
    "id": "Wu7zeZ43liZA",
    "outputId": "d3d98b2c-68c6-4723-e4ab-47a5c03f2a4f"
   },
   "outputs": [
    {
     "data": {
      "text/html": [
       "\n",
       "  <div id=\"df-756b8056-b1f2-413d-ba07-192034a87f64\">\n",
       "    <div class=\"colab-df-container\">\n",
       "      <div>\n",
       "<style scoped>\n",
       "    .dataframe tbody tr th:only-of-type {\n",
       "        vertical-align: middle;\n",
       "    }\n",
       "\n",
       "    .dataframe tbody tr th {\n",
       "        vertical-align: top;\n",
       "    }\n",
       "\n",
       "    .dataframe thead th {\n",
       "        text-align: right;\n",
       "    }\n",
       "</style>\n",
       "<table border=\"1\" class=\"dataframe\">\n",
       "  <thead>\n",
       "    <tr style=\"text-align: right;\">\n",
       "      <th></th>\n",
       "      <th>created_at</th>\n",
       "      <th>text</th>\n",
       "      <th>source</th>\n",
       "      <th>public_metrics.retweet_count</th>\n",
       "      <th>public_metrics.reply_count</th>\n",
       "      <th>public_metrics.like_count</th>\n",
       "      <th>public_metrics.quote_count</th>\n",
       "      <th>country</th>\n",
       "      <th>full_name</th>\n",
       "      <th>Timeline</th>\n",
       "      <th>cleaned_tweet_text</th>\n",
       "      <th>LDA_clean_text</th>\n",
       "      <th>EMPATH_scores</th>\n",
       "    </tr>\n",
       "  </thead>\n",
       "  <tbody>\n",
       "    <tr>\n",
       "      <th>0</th>\n",
       "      <td>2020-09-06</td>\n",
       "      <td>I’m all for vaccines but this COVID one seems ...</td>\n",
       "      <td>Twitter for iPhone</td>\n",
       "      <td>8344</td>\n",
       "      <td>60</td>\n",
       "      <td>27251</td>\n",
       "      <td>352</td>\n",
       "      <td>United States</td>\n",
       "      <td>Atlanta, GA</td>\n",
       "      <td>Before_Sep</td>\n",
       "      <td>vaccines covid seems turned</td>\n",
       "      <td>seems turned</td>\n",
       "      <td>{'Hesitation': 0.0, 'Sorrow': 0.0, 'Faith': 0....</td>\n",
       "    </tr>\n",
       "    <tr>\n",
       "      <th>1</th>\n",
       "      <td>2020-09-28</td>\n",
       "      <td>Y’all taking that mark of the beast vaccine wh...</td>\n",
       "      <td>Twitter for iPhone</td>\n",
       "      <td>122</td>\n",
       "      <td>22</td>\n",
       "      <td>677</td>\n",
       "      <td>14</td>\n",
       "      <td>United States</td>\n",
       "      <td>Atlanta, GA</td>\n",
       "      <td>Before_Sep</td>\n",
       "      <td>taking beast vaccine drops</td>\n",
       "      <td>taking beast drops</td>\n",
       "      <td>{'Hesitation': 0.0, 'Sorrow': 0.0, 'Faith': 0....</td>\n",
       "    </tr>\n",
       "    <tr>\n",
       "      <th>2</th>\n",
       "      <td>2020-09-17</td>\n",
       "      <td>2. Ventilation: \\nA good supply of outside air...</td>\n",
       "      <td>Twitter for Mac</td>\n",
       "      <td>0</td>\n",
       "      <td>1</td>\n",
       "      <td>0</td>\n",
       "      <td>0</td>\n",
       "      <td>United States</td>\n",
       "      <td>Atlanta, GA</td>\n",
       "      <td>Before_Sep</td>\n",
       "      <td>ventilation supply outside accordance ashrae d...</td>\n",
       "      <td>ventilation supply outside accordance ashrae d...</td>\n",
       "      <td>{'Hesitation': 0.0, 'Sorrow': 0.0, 'Faith': 0....</td>\n",
       "    </tr>\n",
       "    <tr>\n",
       "      <th>3</th>\n",
       "      <td>2020-09-24</td>\n",
       "      <td>BREAKING: Trump announced today he will overru...</td>\n",
       "      <td>Twitter for iPhone</td>\n",
       "      <td>7185</td>\n",
       "      <td>1285</td>\n",
       "      <td>23549</td>\n",
       "      <td>1049</td>\n",
       "      <td>United States</td>\n",
       "      <td>Minneapolis, MN</td>\n",
       "      <td>Before_Sep</td>\n",
       "      <td>breaking trump announced today overrule vaccin...</td>\n",
       "      <td>breaking trump announced today overrule disagr...</td>\n",
       "      <td>{'Hesitation': 0.0, 'Sorrow': 0.0, 'Faith': 0....</td>\n",
       "    </tr>\n",
       "    <tr>\n",
       "      <th>4</th>\n",
       "      <td>2020-09-13</td>\n",
       "      <td>They doing free Corona testing at George Floyd...</td>\n",
       "      <td>Twitter for Android</td>\n",
       "      <td>509</td>\n",
       "      <td>13</td>\n",
       "      <td>943</td>\n",
       "      <td>1</td>\n",
       "      <td>United States</td>\n",
       "      <td>Minneapolis, MN</td>\n",
       "      <td>Before_Sep</td>\n",
       "      <td>corona testing george floyds memorial sundays ...</td>\n",
       "      <td>testing george floyds memorial sundays 124pm b...</td>\n",
       "      <td>{'Hesitation': 0.0, 'Sorrow': 0.0, 'Faith': 0....</td>\n",
       "    </tr>\n",
       "  </tbody>\n",
       "</table>\n",
       "</div>\n",
       "      <button class=\"colab-df-convert\" onclick=\"convertToInteractive('df-756b8056-b1f2-413d-ba07-192034a87f64')\"\n",
       "              title=\"Convert this dataframe to an interactive table.\"\n",
       "              style=\"display:none;\">\n",
       "        \n",
       "  <svg xmlns=\"http://www.w3.org/2000/svg\" height=\"24px\"viewBox=\"0 0 24 24\"\n",
       "       width=\"24px\">\n",
       "    <path d=\"M0 0h24v24H0V0z\" fill=\"none\"/>\n",
       "    <path d=\"M18.56 5.44l.94 2.06.94-2.06 2.06-.94-2.06-.94-.94-2.06-.94 2.06-2.06.94zm-11 1L8.5 8.5l.94-2.06 2.06-.94-2.06-.94L8.5 2.5l-.94 2.06-2.06.94zm10 10l.94 2.06.94-2.06 2.06-.94-2.06-.94-.94-2.06-.94 2.06-2.06.94z\"/><path d=\"M17.41 7.96l-1.37-1.37c-.4-.4-.92-.59-1.43-.59-.52 0-1.04.2-1.43.59L10.3 9.45l-7.72 7.72c-.78.78-.78 2.05 0 2.83L4 21.41c.39.39.9.59 1.41.59.51 0 1.02-.2 1.41-.59l7.78-7.78 2.81-2.81c.8-.78.8-2.07 0-2.86zM5.41 20L4 18.59l7.72-7.72 1.47 1.35L5.41 20z\"/>\n",
       "  </svg>\n",
       "      </button>\n",
       "      \n",
       "  <style>\n",
       "    .colab-df-container {\n",
       "      display:flex;\n",
       "      flex-wrap:wrap;\n",
       "      gap: 12px;\n",
       "    }\n",
       "\n",
       "    .colab-df-convert {\n",
       "      background-color: #E8F0FE;\n",
       "      border: none;\n",
       "      border-radius: 50%;\n",
       "      cursor: pointer;\n",
       "      display: none;\n",
       "      fill: #1967D2;\n",
       "      height: 32px;\n",
       "      padding: 0 0 0 0;\n",
       "      width: 32px;\n",
       "    }\n",
       "\n",
       "    .colab-df-convert:hover {\n",
       "      background-color: #E2EBFA;\n",
       "      box-shadow: 0px 1px 2px rgba(60, 64, 67, 0.3), 0px 1px 3px 1px rgba(60, 64, 67, 0.15);\n",
       "      fill: #174EA6;\n",
       "    }\n",
       "\n",
       "    [theme=dark] .colab-df-convert {\n",
       "      background-color: #3B4455;\n",
       "      fill: #D2E3FC;\n",
       "    }\n",
       "\n",
       "    [theme=dark] .colab-df-convert:hover {\n",
       "      background-color: #434B5C;\n",
       "      box-shadow: 0px 1px 3px 1px rgba(0, 0, 0, 0.15);\n",
       "      filter: drop-shadow(0px 1px 2px rgba(0, 0, 0, 0.3));\n",
       "      fill: #FFFFFF;\n",
       "    }\n",
       "  </style>\n",
       "\n",
       "      <script>\n",
       "        const buttonEl =\n",
       "          document.querySelector('#df-756b8056-b1f2-413d-ba07-192034a87f64 button.colab-df-convert');\n",
       "        buttonEl.style.display =\n",
       "          google.colab.kernel.accessAllowed ? 'block' : 'none';\n",
       "\n",
       "        async function convertToInteractive(key) {\n",
       "          const element = document.querySelector('#df-756b8056-b1f2-413d-ba07-192034a87f64');\n",
       "          const dataTable =\n",
       "            await google.colab.kernel.invokeFunction('convertToInteractive',\n",
       "                                                     [key], {});\n",
       "          if (!dataTable) return;\n",
       "\n",
       "          const docLinkHtml = 'Like what you see? Visit the ' +\n",
       "            '<a target=\"_blank\" href=https://colab.research.google.com/notebooks/data_table.ipynb>data table notebook</a>'\n",
       "            + ' to learn more about interactive tables.';\n",
       "          element.innerHTML = '';\n",
       "          dataTable['output_type'] = 'display_data';\n",
       "          await google.colab.output.renderOutput(dataTable, element);\n",
       "          const docLink = document.createElement('div');\n",
       "          docLink.innerHTML = docLinkHtml;\n",
       "          element.appendChild(docLink);\n",
       "        }\n",
       "      </script>\n",
       "    </div>\n",
       "  </div>\n",
       "  "
      ],
      "text/plain": [
       "   created_at                                               text  \\\n",
       "0  2020-09-06  I’m all for vaccines but this COVID one seems ...   \n",
       "1  2020-09-28  Y’all taking that mark of the beast vaccine wh...   \n",
       "2  2020-09-17  2. Ventilation: \\nA good supply of outside air...   \n",
       "3  2020-09-24  BREAKING: Trump announced today he will overru...   \n",
       "4  2020-09-13  They doing free Corona testing at George Floyd...   \n",
       "\n",
       "                source  public_metrics.retweet_count  \\\n",
       "0   Twitter for iPhone                          8344   \n",
       "1   Twitter for iPhone                           122   \n",
       "2      Twitter for Mac                             0   \n",
       "3   Twitter for iPhone                          7185   \n",
       "4  Twitter for Android                           509   \n",
       "\n",
       "   public_metrics.reply_count  public_metrics.like_count  \\\n",
       "0                          60                      27251   \n",
       "1                          22                        677   \n",
       "2                           1                          0   \n",
       "3                        1285                      23549   \n",
       "4                          13                        943   \n",
       "\n",
       "   public_metrics.quote_count        country        full_name    Timeline  \\\n",
       "0                         352  United States      Atlanta, GA  Before_Sep   \n",
       "1                          14  United States      Atlanta, GA  Before_Sep   \n",
       "2                           0  United States      Atlanta, GA  Before_Sep   \n",
       "3                        1049  United States  Minneapolis, MN  Before_Sep   \n",
       "4                           1  United States  Minneapolis, MN  Before_Sep   \n",
       "\n",
       "                                  cleaned_tweet_text  \\\n",
       "0                        vaccines covid seems turned   \n",
       "1                         taking beast vaccine drops   \n",
       "2  ventilation supply outside accordance ashrae d...   \n",
       "3  breaking trump announced today overrule vaccin...   \n",
       "4  corona testing george floyds memorial sundays ...   \n",
       "\n",
       "                                      LDA_clean_text  \\\n",
       "0                                       seems turned   \n",
       "1                                 taking beast drops   \n",
       "2  ventilation supply outside accordance ashrae d...   \n",
       "3  breaking trump announced today overrule disagr...   \n",
       "4  testing george floyds memorial sundays 124pm b...   \n",
       "\n",
       "                                       EMPATH_scores  \n",
       "0  {'Hesitation': 0.0, 'Sorrow': 0.0, 'Faith': 0....  \n",
       "1  {'Hesitation': 0.0, 'Sorrow': 0.0, 'Faith': 0....  \n",
       "2  {'Hesitation': 0.0, 'Sorrow': 0.0, 'Faith': 0....  \n",
       "3  {'Hesitation': 0.0, 'Sorrow': 0.0, 'Faith': 0....  \n",
       "4  {'Hesitation': 0.0, 'Sorrow': 0.0, 'Faith': 0....  "
      ]
     },
     "execution_count": 270,
     "metadata": {},
     "output_type": "execute_result"
    }
   ],
   "source": [
    "full_combined_df.head()"
   ]
  },
  {
   "cell_type": "code",
   "execution_count": null,
   "id": "Pt8RVAiJlseA",
   "metadata": {
    "id": "Pt8RVAiJlseA"
   },
   "outputs": [],
   "source": [
    "def separate_columns(data,column_str,  column, key_val, final_col_name, column_keys):\n",
    "  for category in column_keys:\n",
    "    data[column_str + str(category)] = data[column].apply(lambda x: x[category] if category in x  else 0 )\n",
    "  \n",
    "  if final_col_name == 'LDA_topic':\n",
    "    data[final_col_name] = data[column].apply(lambda x: max(zip(x.values(),x.keys()))[key_val] +1 )\n",
    "  else:\n",
    "    data[final_col_name] = data[column].apply(lambda x: max(zip(x.values(),x.keys()))[key_val])\n",
    "  \n",
    "  return data\n"
   ]
  },
  {
   "cell_type": "code",
   "execution_count": null,
   "id": "nCvFV-_dmNm2",
   "metadata": {
    "colab": {
     "base_uri": "https://localhost:8080/"
    },
    "id": "nCvFV-_dmNm2",
    "outputId": "99c9338a-e755-4e65-9e8a-e9c946504922"
   },
   "outputs": [
    {
     "data": {
      "text/plain": [
       "['Hesitation',\n",
       " 'Sorrow',\n",
       " 'Faith',\n",
       " 'Contentment',\n",
       " 'Anticipation',\n",
       " 'Rage',\n",
       " 'Vaccine Rollout',\n",
       " 'Inequities',\n",
       " 'Health Effects',\n",
       " 'Misinformation']"
      ]
     },
     "execution_count": 272,
     "metadata": {},
     "output_type": "execute_result"
    }
   ],
   "source": [
    "categories"
   ]
  },
  {
   "cell_type": "code",
   "execution_count": null,
   "id": "kgvEB9Z5lvaD",
   "metadata": {
    "id": "kgvEB9Z5lvaD"
   },
   "outputs": [],
   "source": [
    "full_combined_df = separate_columns(full_combined_df, '', 'EMPATH_scores', 1, 'final_category',categories)\n"
   ]
  },
  {
   "cell_type": "code",
   "execution_count": null,
   "id": "OXEVNee0UVjn",
   "metadata": {
    "id": "OXEVNee0UVjn"
   },
   "outputs": [],
   "source": [
    "\n",
    "# full_combined_df = separate_columns(full_combined_df, 'original_', 'EMPATH_text_scores', 1, 'final_category_original',categories)\n"
   ]
  },
  {
   "cell_type": "code",
   "execution_count": null,
   "id": "2PwOsnFXmE5C",
   "metadata": {
    "colab": {
     "base_uri": "https://localhost:8080/",
     "height": 664
    },
    "id": "2PwOsnFXmE5C",
    "outputId": "ba43d899-a5b8-4e09-d8cf-1b68faaaeab6"
   },
   "outputs": [
    {
     "data": {
      "text/html": [
       "\n",
       "  <div id=\"df-fc9d4af5-0e63-4220-a474-cebc566fd70b\">\n",
       "    <div class=\"colab-df-container\">\n",
       "      <div>\n",
       "<style scoped>\n",
       "    .dataframe tbody tr th:only-of-type {\n",
       "        vertical-align: middle;\n",
       "    }\n",
       "\n",
       "    .dataframe tbody tr th {\n",
       "        vertical-align: top;\n",
       "    }\n",
       "\n",
       "    .dataframe thead th {\n",
       "        text-align: right;\n",
       "    }\n",
       "</style>\n",
       "<table border=\"1\" class=\"dataframe\">\n",
       "  <thead>\n",
       "    <tr style=\"text-align: right;\">\n",
       "      <th></th>\n",
       "      <th>created_at</th>\n",
       "      <th>text</th>\n",
       "      <th>source</th>\n",
       "      <th>public_metrics.retweet_count</th>\n",
       "      <th>public_metrics.reply_count</th>\n",
       "      <th>public_metrics.like_count</th>\n",
       "      <th>public_metrics.quote_count</th>\n",
       "      <th>country</th>\n",
       "      <th>full_name</th>\n",
       "      <th>Timeline</th>\n",
       "      <th>...</th>\n",
       "      <th>Sorrow</th>\n",
       "      <th>Faith</th>\n",
       "      <th>Contentment</th>\n",
       "      <th>Anticipation</th>\n",
       "      <th>Rage</th>\n",
       "      <th>Vaccine Rollout</th>\n",
       "      <th>Inequities</th>\n",
       "      <th>Health Effects</th>\n",
       "      <th>Misinformation</th>\n",
       "      <th>final_category</th>\n",
       "    </tr>\n",
       "  </thead>\n",
       "  <tbody>\n",
       "    <tr>\n",
       "      <th>0</th>\n",
       "      <td>2020-09-06</td>\n",
       "      <td>I’m all for vaccines but this COVID one seems ...</td>\n",
       "      <td>Twitter for iPhone</td>\n",
       "      <td>8344</td>\n",
       "      <td>60</td>\n",
       "      <td>27251</td>\n",
       "      <td>352</td>\n",
       "      <td>United States</td>\n",
       "      <td>Atlanta, GA</td>\n",
       "      <td>Before_Sep</td>\n",
       "      <td>...</td>\n",
       "      <td>0.0</td>\n",
       "      <td>0.0</td>\n",
       "      <td>0.0</td>\n",
       "      <td>0.0</td>\n",
       "      <td>0.0</td>\n",
       "      <td>0.00</td>\n",
       "      <td>0.0</td>\n",
       "      <td>0.0</td>\n",
       "      <td>0.0</td>\n",
       "      <td>Vaccine Rollout</td>\n",
       "    </tr>\n",
       "    <tr>\n",
       "      <th>1</th>\n",
       "      <td>2020-09-28</td>\n",
       "      <td>Y’all taking that mark of the beast vaccine wh...</td>\n",
       "      <td>Twitter for iPhone</td>\n",
       "      <td>122</td>\n",
       "      <td>22</td>\n",
       "      <td>677</td>\n",
       "      <td>14</td>\n",
       "      <td>United States</td>\n",
       "      <td>Atlanta, GA</td>\n",
       "      <td>Before_Sep</td>\n",
       "      <td>...</td>\n",
       "      <td>0.0</td>\n",
       "      <td>0.0</td>\n",
       "      <td>0.0</td>\n",
       "      <td>0.0</td>\n",
       "      <td>0.0</td>\n",
       "      <td>0.00</td>\n",
       "      <td>0.0</td>\n",
       "      <td>0.0</td>\n",
       "      <td>0.0</td>\n",
       "      <td>Vaccine Rollout</td>\n",
       "    </tr>\n",
       "    <tr>\n",
       "      <th>2</th>\n",
       "      <td>2020-09-17</td>\n",
       "      <td>2. Ventilation: \\nA good supply of outside air...</td>\n",
       "      <td>Twitter for Mac</td>\n",
       "      <td>0</td>\n",
       "      <td>1</td>\n",
       "      <td>0</td>\n",
       "      <td>0</td>\n",
       "      <td>United States</td>\n",
       "      <td>Atlanta, GA</td>\n",
       "      <td>Before_Sep</td>\n",
       "      <td>...</td>\n",
       "      <td>0.0</td>\n",
       "      <td>0.0</td>\n",
       "      <td>0.0</td>\n",
       "      <td>0.0</td>\n",
       "      <td>0.0</td>\n",
       "      <td>0.05</td>\n",
       "      <td>0.0</td>\n",
       "      <td>0.0</td>\n",
       "      <td>0.0</td>\n",
       "      <td>Vaccine Rollout</td>\n",
       "    </tr>\n",
       "    <tr>\n",
       "      <th>3</th>\n",
       "      <td>2020-09-24</td>\n",
       "      <td>BREAKING: Trump announced today he will overru...</td>\n",
       "      <td>Twitter for iPhone</td>\n",
       "      <td>7185</td>\n",
       "      <td>1285</td>\n",
       "      <td>23549</td>\n",
       "      <td>1049</td>\n",
       "      <td>United States</td>\n",
       "      <td>Minneapolis, MN</td>\n",
       "      <td>Before_Sep</td>\n",
       "      <td>...</td>\n",
       "      <td>0.0</td>\n",
       "      <td>0.0</td>\n",
       "      <td>0.0</td>\n",
       "      <td>0.0</td>\n",
       "      <td>0.0</td>\n",
       "      <td>0.00</td>\n",
       "      <td>0.0</td>\n",
       "      <td>0.0</td>\n",
       "      <td>0.0</td>\n",
       "      <td>Vaccine Rollout</td>\n",
       "    </tr>\n",
       "    <tr>\n",
       "      <th>4</th>\n",
       "      <td>2020-09-13</td>\n",
       "      <td>They doing free Corona testing at George Floyd...</td>\n",
       "      <td>Twitter for Android</td>\n",
       "      <td>509</td>\n",
       "      <td>13</td>\n",
       "      <td>943</td>\n",
       "      <td>1</td>\n",
       "      <td>United States</td>\n",
       "      <td>Minneapolis, MN</td>\n",
       "      <td>Before_Sep</td>\n",
       "      <td>...</td>\n",
       "      <td>0.0</td>\n",
       "      <td>0.0</td>\n",
       "      <td>0.0</td>\n",
       "      <td>0.0</td>\n",
       "      <td>0.0</td>\n",
       "      <td>0.00</td>\n",
       "      <td>0.0</td>\n",
       "      <td>0.0</td>\n",
       "      <td>0.0</td>\n",
       "      <td>Vaccine Rollout</td>\n",
       "    </tr>\n",
       "  </tbody>\n",
       "</table>\n",
       "<p>5 rows × 24 columns</p>\n",
       "</div>\n",
       "      <button class=\"colab-df-convert\" onclick=\"convertToInteractive('df-fc9d4af5-0e63-4220-a474-cebc566fd70b')\"\n",
       "              title=\"Convert this dataframe to an interactive table.\"\n",
       "              style=\"display:none;\">\n",
       "        \n",
       "  <svg xmlns=\"http://www.w3.org/2000/svg\" height=\"24px\"viewBox=\"0 0 24 24\"\n",
       "       width=\"24px\">\n",
       "    <path d=\"M0 0h24v24H0V0z\" fill=\"none\"/>\n",
       "    <path d=\"M18.56 5.44l.94 2.06.94-2.06 2.06-.94-2.06-.94-.94-2.06-.94 2.06-2.06.94zm-11 1L8.5 8.5l.94-2.06 2.06-.94-2.06-.94L8.5 2.5l-.94 2.06-2.06.94zm10 10l.94 2.06.94-2.06 2.06-.94-2.06-.94-.94-2.06-.94 2.06-2.06.94z\"/><path d=\"M17.41 7.96l-1.37-1.37c-.4-.4-.92-.59-1.43-.59-.52 0-1.04.2-1.43.59L10.3 9.45l-7.72 7.72c-.78.78-.78 2.05 0 2.83L4 21.41c.39.39.9.59 1.41.59.51 0 1.02-.2 1.41-.59l7.78-7.78 2.81-2.81c.8-.78.8-2.07 0-2.86zM5.41 20L4 18.59l7.72-7.72 1.47 1.35L5.41 20z\"/>\n",
       "  </svg>\n",
       "      </button>\n",
       "      \n",
       "  <style>\n",
       "    .colab-df-container {\n",
       "      display:flex;\n",
       "      flex-wrap:wrap;\n",
       "      gap: 12px;\n",
       "    }\n",
       "\n",
       "    .colab-df-convert {\n",
       "      background-color: #E8F0FE;\n",
       "      border: none;\n",
       "      border-radius: 50%;\n",
       "      cursor: pointer;\n",
       "      display: none;\n",
       "      fill: #1967D2;\n",
       "      height: 32px;\n",
       "      padding: 0 0 0 0;\n",
       "      width: 32px;\n",
       "    }\n",
       "\n",
       "    .colab-df-convert:hover {\n",
       "      background-color: #E2EBFA;\n",
       "      box-shadow: 0px 1px 2px rgba(60, 64, 67, 0.3), 0px 1px 3px 1px rgba(60, 64, 67, 0.15);\n",
       "      fill: #174EA6;\n",
       "    }\n",
       "\n",
       "    [theme=dark] .colab-df-convert {\n",
       "      background-color: #3B4455;\n",
       "      fill: #D2E3FC;\n",
       "    }\n",
       "\n",
       "    [theme=dark] .colab-df-convert:hover {\n",
       "      background-color: #434B5C;\n",
       "      box-shadow: 0px 1px 3px 1px rgba(0, 0, 0, 0.15);\n",
       "      filter: drop-shadow(0px 1px 2px rgba(0, 0, 0, 0.3));\n",
       "      fill: #FFFFFF;\n",
       "    }\n",
       "  </style>\n",
       "\n",
       "      <script>\n",
       "        const buttonEl =\n",
       "          document.querySelector('#df-fc9d4af5-0e63-4220-a474-cebc566fd70b button.colab-df-convert');\n",
       "        buttonEl.style.display =\n",
       "          google.colab.kernel.accessAllowed ? 'block' : 'none';\n",
       "\n",
       "        async function convertToInteractive(key) {\n",
       "          const element = document.querySelector('#df-fc9d4af5-0e63-4220-a474-cebc566fd70b');\n",
       "          const dataTable =\n",
       "            await google.colab.kernel.invokeFunction('convertToInteractive',\n",
       "                                                     [key], {});\n",
       "          if (!dataTable) return;\n",
       "\n",
       "          const docLinkHtml = 'Like what you see? Visit the ' +\n",
       "            '<a target=\"_blank\" href=https://colab.research.google.com/notebooks/data_table.ipynb>data table notebook</a>'\n",
       "            + ' to learn more about interactive tables.';\n",
       "          element.innerHTML = '';\n",
       "          dataTable['output_type'] = 'display_data';\n",
       "          await google.colab.output.renderOutput(dataTable, element);\n",
       "          const docLink = document.createElement('div');\n",
       "          docLink.innerHTML = docLinkHtml;\n",
       "          element.appendChild(docLink);\n",
       "        }\n",
       "      </script>\n",
       "    </div>\n",
       "  </div>\n",
       "  "
      ],
      "text/plain": [
       "   created_at                                               text  \\\n",
       "0  2020-09-06  I’m all for vaccines but this COVID one seems ...   \n",
       "1  2020-09-28  Y’all taking that mark of the beast vaccine wh...   \n",
       "2  2020-09-17  2. Ventilation: \\nA good supply of outside air...   \n",
       "3  2020-09-24  BREAKING: Trump announced today he will overru...   \n",
       "4  2020-09-13  They doing free Corona testing at George Floyd...   \n",
       "\n",
       "                source  public_metrics.retweet_count  \\\n",
       "0   Twitter for iPhone                          8344   \n",
       "1   Twitter for iPhone                           122   \n",
       "2      Twitter for Mac                             0   \n",
       "3   Twitter for iPhone                          7185   \n",
       "4  Twitter for Android                           509   \n",
       "\n",
       "   public_metrics.reply_count  public_metrics.like_count  \\\n",
       "0                          60                      27251   \n",
       "1                          22                        677   \n",
       "2                           1                          0   \n",
       "3                        1285                      23549   \n",
       "4                          13                        943   \n",
       "\n",
       "   public_metrics.quote_count        country        full_name    Timeline  \\\n",
       "0                         352  United States      Atlanta, GA  Before_Sep   \n",
       "1                          14  United States      Atlanta, GA  Before_Sep   \n",
       "2                           0  United States      Atlanta, GA  Before_Sep   \n",
       "3                        1049  United States  Minneapolis, MN  Before_Sep   \n",
       "4                           1  United States  Minneapolis, MN  Before_Sep   \n",
       "\n",
       "   ... Sorrow Faith Contentment  Anticipation  Rage  Vaccine Rollout  \\\n",
       "0  ...    0.0   0.0         0.0           0.0   0.0             0.00   \n",
       "1  ...    0.0   0.0         0.0           0.0   0.0             0.00   \n",
       "2  ...    0.0   0.0         0.0           0.0   0.0             0.05   \n",
       "3  ...    0.0   0.0         0.0           0.0   0.0             0.00   \n",
       "4  ...    0.0   0.0         0.0           0.0   0.0             0.00   \n",
       "\n",
       "   Inequities  Health Effects  Misinformation   final_category  \n",
       "0         0.0             0.0             0.0  Vaccine Rollout  \n",
       "1         0.0             0.0             0.0  Vaccine Rollout  \n",
       "2         0.0             0.0             0.0  Vaccine Rollout  \n",
       "3         0.0             0.0             0.0  Vaccine Rollout  \n",
       "4         0.0             0.0             0.0  Vaccine Rollout  \n",
       "\n",
       "[5 rows x 24 columns]"
      ]
     },
     "execution_count": 275,
     "metadata": {},
     "output_type": "execute_result"
    }
   ],
   "source": [
    "full_combined_df.head()"
   ]
  },
  {
   "cell_type": "code",
   "execution_count": null,
   "id": "EKxvbF7Vnosg",
   "metadata": {
    "colab": {
     "base_uri": "https://localhost:8080/"
    },
    "id": "EKxvbF7Vnosg",
    "outputId": "92774032-a4d0-4da8-e5de-9116474d1bca"
   },
   "outputs": [
    {
     "data": {
      "text/plain": [
       "Vaccine Rollout    2897\n",
       "Contentment         299\n",
       "Anticipation        273\n",
       "Faith               214\n",
       "Misinformation      213\n",
       "Sorrow              206\n",
       "Hesitation          113\n",
       "Rage                105\n",
       "Inequities           74\n",
       "Health Effects       36\n",
       "Name: final_category, dtype: int64"
      ]
     },
     "execution_count": 276,
     "metadata": {},
     "output_type": "execute_result"
    }
   ],
   "source": [
    "full_combined_df['final_category'].value_counts()"
   ]
  },
  {
   "cell_type": "code",
   "execution_count": null,
   "id": "LBl62_ddfEjX",
   "metadata": {
    "id": "LBl62_ddfEjX"
   },
   "outputs": [],
   "source": [
    "# full_combined_df['final_category_original'].value_counts()\n"
   ]
  },
  {
   "cell_type": "code",
   "execution_count": null,
   "id": "nkY12oYbopcv",
   "metadata": {
    "id": "nkY12oYbopcv"
   },
   "outputs": [],
   "source": [
    "full_combined_df.to_csv(\"All_data_with_EMPATH.csv\")"
   ]
  },
  {
   "cell_type": "code",
   "execution_count": null,
   "id": "yH9K1gPZWgYA",
   "metadata": {
    "colab": {
     "base_uri": "https://localhost:8080/"
    },
    "id": "yH9K1gPZWgYA",
    "outputId": "7ad9e05a-da91-4e80-c87c-83e10a4015ef"
   },
   "outputs": [
    {
     "data": {
      "text/plain": [
       "Index(['created_at', 'text', 'source', 'public_metrics.retweet_count',\n",
       "       'public_metrics.reply_count', 'public_metrics.like_count',\n",
       "       'public_metrics.quote_count', 'country', 'full_name', 'Timeline',\n",
       "       'cleaned_tweet_text', 'LDA_clean_text', 'EMPATH_scores', 'Hesitation',\n",
       "       'Sorrow', 'Faith', 'Contentment', 'Anticipation', 'Rage',\n",
       "       'Vaccine Rollout', 'Inequities', 'Health Effects', 'Misinformation',\n",
       "       'final_category'],\n",
       "      dtype='object')"
      ]
     },
     "execution_count": 279,
     "metadata": {},
     "output_type": "execute_result"
    }
   ],
   "source": [
    "full_combined_df.columns"
   ]
  },
  {
   "cell_type": "markdown",
   "id": "1TJujIpF7jAS",
   "metadata": {
    "id": "1TJujIpF7jAS"
   },
   "source": [
    "## LDA"
   ]
  },
  {
   "cell_type": "markdown",
   "id": "xyXMoOr5MfTF",
   "metadata": {
    "id": "xyXMoOr5MfTF"
   },
   "source": [
    "Lemmetizing For LDA"
   ]
  },
  {
   "cell_type": "code",
   "execution_count": null,
   "id": "8NZAAMy7Yce6",
   "metadata": {
    "id": "8NZAAMy7Yce6"
   },
   "outputs": [],
   "source": [
    "\n",
    "wordnetLemma = nltk.WordNetLemmatizer()\n",
    "full_combined_df['Lematized'] = full_combined_df['LDA_clean_text'].apply(lambda x :[wordnetLemma.lemmatize(word) for word in x.split()])\n"
   ]
  },
  {
   "cell_type": "markdown",
   "id": "FSFVfRSLMI9A",
   "metadata": {
    "id": "FSFVfRSLMI9A"
   },
   "source": [
    "Creating the dictionary corpus from the Lematized text and filtering the dictionary from 10K words to 500 words"
   ]
  },
  {
   "cell_type": "code",
   "execution_count": null,
   "id": "Pw2YgiEearT1",
   "metadata": {
    "colab": {
     "base_uri": "https://localhost:8080/"
    },
    "id": "Pw2YgiEearT1",
    "outputId": "e12c992e-5f60-475e-c8db-3f5563ec5897"
   },
   "outputs": [
    {
     "data": {
      "text/plain": [
       "9849"
      ]
     },
     "execution_count": 281,
     "metadata": {},
     "output_type": "execute_result"
    }
   ],
   "source": [
    " \n",
    "corpus_dict = corpora.Dictionary(full_combined_df['Lematized'], prune_at= 5000)\n",
    "\n",
    "len(corpus_dict)"
   ]
  },
  {
   "cell_type": "code",
   "execution_count": null,
   "id": "CUlpcWUcMV0L",
   "metadata": {
    "colab": {
     "base_uri": "https://localhost:8080/"
    },
    "id": "CUlpcWUcMV0L",
    "outputId": "321f6880-9dd9-4858-d036-2b356b938941"
   },
   "outputs": [
    {
     "data": {
      "text/plain": [
       "500"
      ]
     },
     "execution_count": 282,
     "metadata": {},
     "output_type": "execute_result"
    }
   ],
   "source": [
    "\n",
    "corpus_dict.filter_extremes( no_above=0.9, keep_n=500)\n",
    "len(corpus_dict)"
   ]
  },
  {
   "cell_type": "code",
   "execution_count": null,
   "id": "2hCILoW2STbV",
   "metadata": {
    "colab": {
     "base_uri": "https://localhost:8080/"
    },
    "id": "2hCILoW2STbV",
    "outputId": "adf70748-3750-43a2-e8d4-14f956f11cdc"
   },
   "outputs": [
    {
     "name": "stdout",
     "output_type": "stream",
     "text": [
      "0 seems\n",
      "1 taking\n",
      "2 building\n",
      "3 first\n",
      "4 outside\n",
      "5 sarscov2\n",
      "6 supply\n",
      "7 transmission\n",
      "8 announced\n",
      "9 breaking\n",
      "10 company\n",
      "11 today\n",
      "12 trump\n",
      "13 please\n",
      "14 testing\n",
      "15 cell\n",
      "16 effect\n",
      "17 infection\n",
      "18 possible\n",
      "19 protein\n",
      "20 viral\n",
      "21 working\n",
      "22 colleague\n",
      "23 healthcare\n",
      "24 partner\n",
      "25 think\n",
      "26 worker\n",
      "27 highly\n",
      "28 administration\n",
      "29 covid19\n",
      "30 created\n",
      "31 speed\n",
      "32 therapeutic\n",
      "33 virus\n",
      "34 death\n",
      "35 january\n",
      "36 nearly\n",
      "37 within\n",
      "38 country\n",
      "39 every\n",
      "40 offering\n",
      "41 president\n",
      "42 week\n",
      "43 would\n",
      "44 biden\n",
      "45 fight\n",
      "46 health\n",
      "47 house\n",
      "48 moment\n",
      "49 nation\n",
      "50 weekend\n",
      "51 white\n",
      "52 american\n",
      "53 believe\n",
      "54 normal\n",
      "55 thing\n",
      "56 election\n",
      "57 debate\n",
      "58 life\n",
      "59 measure\n",
      "60 million\n",
      "61 others\n",
      "62 people\n",
      "63 political\n",
      "64 protect\n",
      "65 thats\n",
      "66 dying\n",
      "67 member\n",
      "68 night\n",
      "69 number\n",
      "70 service\n",
      "71 still\n",
      "72 time\n",
      "73 anyone\n",
      "74 medium\n",
      "75 question\n",
      "76 safety\n",
      "77 round\n",
      "78 school\n",
      "79 second\n",
      "80 reason\n",
      "81 there\n",
      "82 business\n",
      "83 discus\n",
      "84 impact\n",
      "85 including\n",
      "86 response\n",
      "87 hearing\n",
      "88 fauci\n",
      "89 reading\n",
      "90 work\n",
      "91 change\n",
      "92 mask\n",
      "93 across\n",
      "94 grateful\n",
      "95 science\n",
      "96 world\n",
      "97 another\n",
      "98 infected\n",
      "99 public\n",
      "100 strain\n",
      "101 understand\n",
      "102 entire\n",
      "103 likely\n",
      "104 problem\n",
      "105 developed\n",
      "106 doesnt\n",
      "107 effective\n",
      "108 need\n",
      "109 population\n",
      "110 trust\n",
      "111 belief\n",
      "112 close\n",
      "113 show\n",
      "114 study\n",
      "115 global\n",
      "116 matter\n",
      "117 national\n",
      "118 young\n",
      "119 never\n",
      "120 official\n",
      "121 follow\n",
      "122 trial\n",
      "123 making\n",
      "124 return\n",
      "125 spread\n",
      "126 start\n",
      "127 thought\n",
      "128 year\n",
      "129 really\n",
      "130 child\n",
      "131 older\n",
      "132 process\n",
      "133 small\n",
      "134 anything\n",
      "135 remember\n",
      "136 answer\n",
      "137 short\n",
      "138 cause\n",
      "139 concern\n",
      "140 event\n",
      "141 expected\n",
      "142 severe\n",
      "143 since\n",
      "144 fact\n",
      "145 based\n",
      "146 individual\n",
      "147 reach\n",
      "148 watch\n",
      "149 better\n",
      "150 important\n",
      "151 private\n",
      "152 enough\n",
      "153 leader\n",
      "154 around\n",
      "155 become\n",
      "156 could\n",
      "157 however\n",
      "158 phase\n",
      "159 continue\n",
      "160 related\n",
      "161 woman\n",
      "162 medical\n",
      "163 wanted\n",
      "164 yesterday\n",
      "165 spreading\n",
      "166 donald\n",
      "167 scientist\n",
      "168 access\n",
      "169 result\n",
      "170 thread\n",
      "171 whether\n",
      "172 clinical\n",
      "173 disease\n",
      "174 patient\n",
      "175 expert\n",
      "176 either\n",
      "177 probably\n",
      "178 want\n",
      "179 policy\n",
      "180 local\n",
      "181 potential\n",
      "182 receive\n",
      "183 volunteer\n",
      "184 article\n",
      "185 evidence\n",
      "186 least\n",
      "187 little\n",
      "188 might\n",
      "189 beginning\n",
      "190 everything\n",
      "191 happy\n",
      "192 spike\n",
      "193 found\n",
      "194 called\n",
      "195 community\n",
      "196 distribution\n",
      "197 human\n",
      "198 mutation\n",
      "199 vaccineswork\n",
      "200 campaign\n",
      "201 tonight\n",
      "202 family\n",
      "203 whats\n",
      "204 going\n",
      "205 clinic\n",
      "206 hand\n",
      "207 actually\n",
      "208 maybe\n",
      "209 cancer\n",
      "210 proud\n",
      "211 without\n",
      "212 information\n",
      "213 shot\n",
      "214 case\n",
      "215 prevent\n",
      "216 bring\n",
      "217 ready\n",
      "218 saturday\n",
      "219 claim\n",
      "220 everyone\n",
      "221 youre\n",
      "222 stupid\n",
      "223 right\n",
      "224 difference\n",
      "225 didnt\n",
      "226 here\n",
      "227 early\n",
      "228 currently\n",
      "229 later\n",
      "230 looking\n",
      "231 medicine\n",
      "232 update\n",
      "233 asymptomatic\n",
      "234 partnership\n",
      "235 test\n",
      "236 respiratory\n",
      "237 governor\n",
      "238 adult\n",
      "239 antibody\n",
      "240 different\n",
      "241 point\n",
      "242 ahead\n",
      "243 learn\n",
      "244 started\n",
      "245 month\n",
      "246 congress\n",
      "247 great\n",
      "248 mean\n",
      "249 rollout\n",
      "250 happening\n",
      "251 research\n",
      "252 thankful\n",
      "253 staff\n",
      "254 student\n",
      "255 university\n",
      "256 available\n",
      "257 contact\n",
      "258 distancing\n",
      "259 california\n",
      "260 check\n",
      "261 develop\n",
      "262 doctor\n",
      "263 feel\n",
      "264 provide\n",
      "265 state\n",
      "266 person\n",
      "267 received\n",
      "268 report\n",
      "269 come\n",
      "270 development\n",
      "271 friend\n",
      "272 twitter\n",
      "273 researcher\n",
      "274 gonna\n",
      "275 rally\n",
      "276 america\n",
      "277 effort\n",
      "278 forward\n",
      "279 register\n",
      "280 tomorrow\n",
      "281 front\n",
      "282 absolutely\n",
      "283 starting\n",
      "284 story\n",
      "285 three\n",
      "286 protection\n",
      "287 instead\n",
      "288 trying\n",
      "289 county\n",
      "290 china\n",
      "291 comment\n",
      "292 according\n",
      "293 united\n",
      "294 asking\n",
      "295 federal\n",
      "296 fully\n",
      "297 tuesday\n",
      "298 false\n",
      "299 asked\n",
      "300 deadly\n",
      "301 relief\n",
      "302 senate\n",
      "303 following\n",
      "304 quickly\n",
      "305 republican\n",
      "306 citizen\n",
      "307 getting\n",
      "308 thousand\n",
      "309 wouldnt\n",
      "310 someone\n",
      "311 cannot\n",
      "312 literally\n",
      "313 longer\n",
      "314 thank\n",
      "315 history\n",
      "316 among\n",
      "317 essential\n",
      "318 present\n",
      "319 saying\n",
      "320 teacher\n",
      "321 heard\n",
      "322 reaction\n",
      "323 place\n",
      "324 office\n",
      "325 hour\n",
      "326 theyre\n",
      "327 experience\n",
      "328 clear\n",
      "329 given\n",
      "330 resident\n",
      "331 black\n",
      "332 group\n",
      "333 florida\n",
      "334 control\n",
      "335 needed\n",
      "336 giving\n",
      "337 government\n",
      "338 always\n",
      "339 wearing\n",
      "340 effectiveness\n",
      "341 ensure\n",
      "342 april\n",
      "343 minute\n",
      "344 phone\n",
      "345 happen\n",
      "346 whole\n",
      "347 illness\n",
      "348 video\n",
      "349 distance\n",
      "350 money\n",
      "351 preventing\n",
      "352 general\n",
      "353 condition\n",
      "354 symptom\n",
      "355 administer\n",
      "356 talking\n",
      "357 approved\n",
      "358 arent\n",
      "359 issue\n",
      "360 wrong\n",
      "361 order\n",
      "362 allow\n",
      "363 force\n",
      "364 folk\n",
      "365 system\n",
      "366 treatment\n",
      "367 negative\n",
      "368 positive\n",
      "369 multiple\n",
      "370 leadership\n",
      "371 coming\n",
      "372 latest\n",
      "373 certain\n",
      "374 similar\n",
      "375 produce\n",
      "376 site\n",
      "377 future\n",
      "378 social\n",
      "379 finally\n",
      "380 nothing\n",
      "381 something\n",
      "382 center\n",
      "383 though\n",
      "384 texas\n",
      "385 elderly\n",
      "386 level\n",
      "387 common\n",
      "388 travel\n",
      "389 wednesday\n",
      "390 youve\n",
      "391 qualified\n",
      "392 sense\n",
      "393 chance\n",
      "394 tested\n",
      "395 super\n",
      "396 waiting\n",
      "397 behind\n",
      "398 already\n",
      "399 require\n",
      "400 choice\n",
      "401 efficacy\n",
      "402 hospital\n",
      "403 havent\n",
      "404 current\n",
      "405 interesting\n",
      "406 india\n",
      "407 reported\n",
      "408 almost\n",
      "409 scientific\n",
      "410 worry\n",
      "411 december\n",
      "412 infectious\n",
      "413 hundred\n",
      "414 using\n",
      "415 department\n",
      "416 delivery\n",
      "417 program\n",
      "418 economy\n",
      "419 light\n",
      "420 monday\n",
      "421 reopening\n",
      "422 especially\n",
      "423 support\n",
      "424 guidance\n",
      "425 location\n",
      "426 single\n",
      "427 college\n",
      "428 guess\n",
      "429 living\n",
      "430 responsibility\n",
      "431 frontline\n",
      "432 drivethru\n",
      "433 make\n",
      "434 drive\n",
      "435 calling\n",
      "436 healthy\n",
      "437 nurse\n",
      "438 tweet\n",
      "439 sharing\n",
      "440 receiving\n",
      "441 march\n",
      "442 pharmacy\n",
      "443 mandate\n",
      "444 offer\n",
      "445 parent\n",
      "446 police\n",
      "447 share\n",
      "448 emergency\n",
      "449 hospitalization\n",
      "450 required\n",
      "451 pregnant\n",
      "452 jampj\n",
      "453 visit\n",
      "454 record\n",
      "455 priority\n",
      "456 variant\n",
      "457 dos\n",
      "458 status\n",
      "459 large\n",
      "460 scheduled\n",
      "461 strong\n",
      "462 morning\n",
      "463 friday\n",
      "464 vulnerable\n",
      "465 south\n",
      "466 decision\n",
      "467 putting\n",
      "468 feeling\n",
      "469 amazing\n",
      "470 increase\n",
      "471 profit\n",
      "472 excited\n",
      "473 johnson\n",
      "474 distributed\n",
      "475 together\n",
      "476 thanks\n",
      "477 welcome\n",
      "478 helping\n",
      "479 website\n",
      "480 seeing\n",
      "481 nursing\n",
      "482 capacity\n",
      "483 church\n",
      "484 special\n",
      "485 schedule\n",
      "486 detail\n",
      "487 administering\n",
      "488 employee\n",
      "489 appointment\n",
      "490 administered\n",
      "491 senior\n",
      "492 eligible\n",
      "493 encourage\n",
      "494 opportunity\n",
      "495 commit\n",
      "496 peoplesvaccine\n",
      "497 themespecially\n",
      "498 eligibility\n",
      "499 passport\n"
     ]
    }
   ],
   "source": [
    "for k,v in corpus_dict.items():\n",
    " \n",
    "    print(k,v)"
   ]
  },
  {
   "cell_type": "markdown",
   "id": "uJ01drFQMe0-",
   "metadata": {
    "id": "uJ01drFQMe0-"
   },
   "source": [
    "Using the dictionary corpus we create a Document Term Matrix"
   ]
  },
  {
   "cell_type": "code",
   "execution_count": null,
   "id": "w0Q0RUTPf48l",
   "metadata": {
    "id": "w0Q0RUTPf48l"
   },
   "outputs": [],
   "source": [
    "\n",
    "dtm_matrix = [corpus_dict.doc2bow(doc) for doc in full_combined_df['Lematized']]\n"
   ]
  },
  {
   "cell_type": "code",
   "execution_count": null,
   "id": "41PIjb00GBMW",
   "metadata": {
    "id": "41PIjb00GBMW"
   },
   "outputs": [],
   "source": [
    "full_combined_df['dtm_matrix'] = full_combined_df['Lematized'].apply(lambda x : corpus_dict.doc2bow(x))"
   ]
  },
  {
   "cell_type": "code",
   "execution_count": null,
   "id": "qZj0Fl4bGOjj",
   "metadata": {
    "colab": {
     "base_uri": "https://localhost:8080/",
     "height": 681
    },
    "id": "qZj0Fl4bGOjj",
    "outputId": "d59b88d9-f22b-4a2c-8700-3281f02d3122"
   },
   "outputs": [
    {
     "data": {
      "text/html": [
       "\n",
       "  <div id=\"df-c110c770-3b35-4e4b-ac53-d01519cfb7ba\">\n",
       "    <div class=\"colab-df-container\">\n",
       "      <div>\n",
       "<style scoped>\n",
       "    .dataframe tbody tr th:only-of-type {\n",
       "        vertical-align: middle;\n",
       "    }\n",
       "\n",
       "    .dataframe tbody tr th {\n",
       "        vertical-align: top;\n",
       "    }\n",
       "\n",
       "    .dataframe thead th {\n",
       "        text-align: right;\n",
       "    }\n",
       "</style>\n",
       "<table border=\"1\" class=\"dataframe\">\n",
       "  <thead>\n",
       "    <tr style=\"text-align: right;\">\n",
       "      <th></th>\n",
       "      <th>created_at</th>\n",
       "      <th>text</th>\n",
       "      <th>source</th>\n",
       "      <th>public_metrics.retweet_count</th>\n",
       "      <th>public_metrics.reply_count</th>\n",
       "      <th>public_metrics.like_count</th>\n",
       "      <th>public_metrics.quote_count</th>\n",
       "      <th>country</th>\n",
       "      <th>full_name</th>\n",
       "      <th>Timeline</th>\n",
       "      <th>...</th>\n",
       "      <th>Contentment</th>\n",
       "      <th>Anticipation</th>\n",
       "      <th>Rage</th>\n",
       "      <th>Vaccine Rollout</th>\n",
       "      <th>Inequities</th>\n",
       "      <th>Health Effects</th>\n",
       "      <th>Misinformation</th>\n",
       "      <th>final_category</th>\n",
       "      <th>Lematized</th>\n",
       "      <th>dtm_matrix</th>\n",
       "    </tr>\n",
       "  </thead>\n",
       "  <tbody>\n",
       "    <tr>\n",
       "      <th>0</th>\n",
       "      <td>2020-09-06</td>\n",
       "      <td>I’m all for vaccines but this COVID one seems ...</td>\n",
       "      <td>Twitter for iPhone</td>\n",
       "      <td>8344</td>\n",
       "      <td>60</td>\n",
       "      <td>27251</td>\n",
       "      <td>352</td>\n",
       "      <td>United States</td>\n",
       "      <td>Atlanta, GA</td>\n",
       "      <td>Before_Sep</td>\n",
       "      <td>...</td>\n",
       "      <td>0.0</td>\n",
       "      <td>0.0</td>\n",
       "      <td>0.0</td>\n",
       "      <td>0.00</td>\n",
       "      <td>0.0</td>\n",
       "      <td>0.0</td>\n",
       "      <td>0.0</td>\n",
       "      <td>Vaccine Rollout</td>\n",
       "      <td>[seems, turned]</td>\n",
       "      <td>[(0, 1)]</td>\n",
       "    </tr>\n",
       "    <tr>\n",
       "      <th>1</th>\n",
       "      <td>2020-09-28</td>\n",
       "      <td>Y’all taking that mark of the beast vaccine wh...</td>\n",
       "      <td>Twitter for iPhone</td>\n",
       "      <td>122</td>\n",
       "      <td>22</td>\n",
       "      <td>677</td>\n",
       "      <td>14</td>\n",
       "      <td>United States</td>\n",
       "      <td>Atlanta, GA</td>\n",
       "      <td>Before_Sep</td>\n",
       "      <td>...</td>\n",
       "      <td>0.0</td>\n",
       "      <td>0.0</td>\n",
       "      <td>0.0</td>\n",
       "      <td>0.00</td>\n",
       "      <td>0.0</td>\n",
       "      <td>0.0</td>\n",
       "      <td>0.0</td>\n",
       "      <td>Vaccine Rollout</td>\n",
       "      <td>[taking, beast, drop]</td>\n",
       "      <td>[(1, 1)]</td>\n",
       "    </tr>\n",
       "    <tr>\n",
       "      <th>2</th>\n",
       "      <td>2020-09-17</td>\n",
       "      <td>2. Ventilation: \\nA good supply of outside air...</td>\n",
       "      <td>Twitter for Mac</td>\n",
       "      <td>0</td>\n",
       "      <td>1</td>\n",
       "      <td>0</td>\n",
       "      <td>0</td>\n",
       "      <td>United States</td>\n",
       "      <td>Atlanta, GA</td>\n",
       "      <td>Before_Sep</td>\n",
       "      <td>...</td>\n",
       "      <td>0.0</td>\n",
       "      <td>0.0</td>\n",
       "      <td>0.0</td>\n",
       "      <td>0.05</td>\n",
       "      <td>0.0</td>\n",
       "      <td>0.0</td>\n",
       "      <td>0.0</td>\n",
       "      <td>Vaccine Rollout</td>\n",
       "      <td>[ventilation, supply, outside, accordance, ash...</td>\n",
       "      <td>[(2, 1), (3, 1), (4, 1), (5, 1), (6, 1), (7, 1)]</td>\n",
       "    </tr>\n",
       "    <tr>\n",
       "      <th>3</th>\n",
       "      <td>2020-09-24</td>\n",
       "      <td>BREAKING: Trump announced today he will overru...</td>\n",
       "      <td>Twitter for iPhone</td>\n",
       "      <td>7185</td>\n",
       "      <td>1285</td>\n",
       "      <td>23549</td>\n",
       "      <td>1049</td>\n",
       "      <td>United States</td>\n",
       "      <td>Minneapolis, MN</td>\n",
       "      <td>Before_Sep</td>\n",
       "      <td>...</td>\n",
       "      <td>0.0</td>\n",
       "      <td>0.0</td>\n",
       "      <td>0.0</td>\n",
       "      <td>0.00</td>\n",
       "      <td>0.0</td>\n",
       "      <td>0.0</td>\n",
       "      <td>0.0</td>\n",
       "      <td>Vaccine Rollout</td>\n",
       "      <td>[breaking, trump, announced, today, overrule, ...</td>\n",
       "      <td>[(8, 1), (9, 1), (10, 1), (11, 1), (12, 1)]</td>\n",
       "    </tr>\n",
       "    <tr>\n",
       "      <th>4</th>\n",
       "      <td>2020-09-13</td>\n",
       "      <td>They doing free Corona testing at George Floyd...</td>\n",
       "      <td>Twitter for Android</td>\n",
       "      <td>509</td>\n",
       "      <td>13</td>\n",
       "      <td>943</td>\n",
       "      <td>1</td>\n",
       "      <td>United States</td>\n",
       "      <td>Minneapolis, MN</td>\n",
       "      <td>Before_Sep</td>\n",
       "      <td>...</td>\n",
       "      <td>0.0</td>\n",
       "      <td>0.0</td>\n",
       "      <td>0.0</td>\n",
       "      <td>0.00</td>\n",
       "      <td>0.0</td>\n",
       "      <td>0.0</td>\n",
       "      <td>0.0</td>\n",
       "      <td>Vaccine Rollout</td>\n",
       "      <td>[testing, george, floyds, memorial, sunday, 12...</td>\n",
       "      <td>[(13, 1), (14, 1)]</td>\n",
       "    </tr>\n",
       "  </tbody>\n",
       "</table>\n",
       "<p>5 rows × 26 columns</p>\n",
       "</div>\n",
       "      <button class=\"colab-df-convert\" onclick=\"convertToInteractive('df-c110c770-3b35-4e4b-ac53-d01519cfb7ba')\"\n",
       "              title=\"Convert this dataframe to an interactive table.\"\n",
       "              style=\"display:none;\">\n",
       "        \n",
       "  <svg xmlns=\"http://www.w3.org/2000/svg\" height=\"24px\"viewBox=\"0 0 24 24\"\n",
       "       width=\"24px\">\n",
       "    <path d=\"M0 0h24v24H0V0z\" fill=\"none\"/>\n",
       "    <path d=\"M18.56 5.44l.94 2.06.94-2.06 2.06-.94-2.06-.94-.94-2.06-.94 2.06-2.06.94zm-11 1L8.5 8.5l.94-2.06 2.06-.94-2.06-.94L8.5 2.5l-.94 2.06-2.06.94zm10 10l.94 2.06.94-2.06 2.06-.94-2.06-.94-.94-2.06-.94 2.06-2.06.94z\"/><path d=\"M17.41 7.96l-1.37-1.37c-.4-.4-.92-.59-1.43-.59-.52 0-1.04.2-1.43.59L10.3 9.45l-7.72 7.72c-.78.78-.78 2.05 0 2.83L4 21.41c.39.39.9.59 1.41.59.51 0 1.02-.2 1.41-.59l7.78-7.78 2.81-2.81c.8-.78.8-2.07 0-2.86zM5.41 20L4 18.59l7.72-7.72 1.47 1.35L5.41 20z\"/>\n",
       "  </svg>\n",
       "      </button>\n",
       "      \n",
       "  <style>\n",
       "    .colab-df-container {\n",
       "      display:flex;\n",
       "      flex-wrap:wrap;\n",
       "      gap: 12px;\n",
       "    }\n",
       "\n",
       "    .colab-df-convert {\n",
       "      background-color: #E8F0FE;\n",
       "      border: none;\n",
       "      border-radius: 50%;\n",
       "      cursor: pointer;\n",
       "      display: none;\n",
       "      fill: #1967D2;\n",
       "      height: 32px;\n",
       "      padding: 0 0 0 0;\n",
       "      width: 32px;\n",
       "    }\n",
       "\n",
       "    .colab-df-convert:hover {\n",
       "      background-color: #E2EBFA;\n",
       "      box-shadow: 0px 1px 2px rgba(60, 64, 67, 0.3), 0px 1px 3px 1px rgba(60, 64, 67, 0.15);\n",
       "      fill: #174EA6;\n",
       "    }\n",
       "\n",
       "    [theme=dark] .colab-df-convert {\n",
       "      background-color: #3B4455;\n",
       "      fill: #D2E3FC;\n",
       "    }\n",
       "\n",
       "    [theme=dark] .colab-df-convert:hover {\n",
       "      background-color: #434B5C;\n",
       "      box-shadow: 0px 1px 3px 1px rgba(0, 0, 0, 0.15);\n",
       "      filter: drop-shadow(0px 1px 2px rgba(0, 0, 0, 0.3));\n",
       "      fill: #FFFFFF;\n",
       "    }\n",
       "  </style>\n",
       "\n",
       "      <script>\n",
       "        const buttonEl =\n",
       "          document.querySelector('#df-c110c770-3b35-4e4b-ac53-d01519cfb7ba button.colab-df-convert');\n",
       "        buttonEl.style.display =\n",
       "          google.colab.kernel.accessAllowed ? 'block' : 'none';\n",
       "\n",
       "        async function convertToInteractive(key) {\n",
       "          const element = document.querySelector('#df-c110c770-3b35-4e4b-ac53-d01519cfb7ba');\n",
       "          const dataTable =\n",
       "            await google.colab.kernel.invokeFunction('convertToInteractive',\n",
       "                                                     [key], {});\n",
       "          if (!dataTable) return;\n",
       "\n",
       "          const docLinkHtml = 'Like what you see? Visit the ' +\n",
       "            '<a target=\"_blank\" href=https://colab.research.google.com/notebooks/data_table.ipynb>data table notebook</a>'\n",
       "            + ' to learn more about interactive tables.';\n",
       "          element.innerHTML = '';\n",
       "          dataTable['output_type'] = 'display_data';\n",
       "          await google.colab.output.renderOutput(dataTable, element);\n",
       "          const docLink = document.createElement('div');\n",
       "          docLink.innerHTML = docLinkHtml;\n",
       "          element.appendChild(docLink);\n",
       "        }\n",
       "      </script>\n",
       "    </div>\n",
       "  </div>\n",
       "  "
      ],
      "text/plain": [
       "   created_at                                               text  \\\n",
       "0  2020-09-06  I’m all for vaccines but this COVID one seems ...   \n",
       "1  2020-09-28  Y’all taking that mark of the beast vaccine wh...   \n",
       "2  2020-09-17  2. Ventilation: \\nA good supply of outside air...   \n",
       "3  2020-09-24  BREAKING: Trump announced today he will overru...   \n",
       "4  2020-09-13  They doing free Corona testing at George Floyd...   \n",
       "\n",
       "                source  public_metrics.retweet_count  \\\n",
       "0   Twitter for iPhone                          8344   \n",
       "1   Twitter for iPhone                           122   \n",
       "2      Twitter for Mac                             0   \n",
       "3   Twitter for iPhone                          7185   \n",
       "4  Twitter for Android                           509   \n",
       "\n",
       "   public_metrics.reply_count  public_metrics.like_count  \\\n",
       "0                          60                      27251   \n",
       "1                          22                        677   \n",
       "2                           1                          0   \n",
       "3                        1285                      23549   \n",
       "4                          13                        943   \n",
       "\n",
       "   public_metrics.quote_count        country        full_name    Timeline  \\\n",
       "0                         352  United States      Atlanta, GA  Before_Sep   \n",
       "1                          14  United States      Atlanta, GA  Before_Sep   \n",
       "2                           0  United States      Atlanta, GA  Before_Sep   \n",
       "3                        1049  United States  Minneapolis, MN  Before_Sep   \n",
       "4                           1  United States  Minneapolis, MN  Before_Sep   \n",
       "\n",
       "   ... Contentment Anticipation Rage  Vaccine Rollout  Inequities  \\\n",
       "0  ...         0.0          0.0  0.0             0.00         0.0   \n",
       "1  ...         0.0          0.0  0.0             0.00         0.0   \n",
       "2  ...         0.0          0.0  0.0             0.05         0.0   \n",
       "3  ...         0.0          0.0  0.0             0.00         0.0   \n",
       "4  ...         0.0          0.0  0.0             0.00         0.0   \n",
       "\n",
       "   Health Effects  Misinformation   final_category  \\\n",
       "0             0.0             0.0  Vaccine Rollout   \n",
       "1             0.0             0.0  Vaccine Rollout   \n",
       "2             0.0             0.0  Vaccine Rollout   \n",
       "3             0.0             0.0  Vaccine Rollout   \n",
       "4             0.0             0.0  Vaccine Rollout   \n",
       "\n",
       "                                           Lematized  \\\n",
       "0                                    [seems, turned]   \n",
       "1                              [taking, beast, drop]   \n",
       "2  [ventilation, supply, outside, accordance, ash...   \n",
       "3  [breaking, trump, announced, today, overrule, ...   \n",
       "4  [testing, george, floyds, memorial, sunday, 12...   \n",
       "\n",
       "                                         dtm_matrix  \n",
       "0                                          [(0, 1)]  \n",
       "1                                          [(1, 1)]  \n",
       "2  [(2, 1), (3, 1), (4, 1), (5, 1), (6, 1), (7, 1)]  \n",
       "3       [(8, 1), (9, 1), (10, 1), (11, 1), (12, 1)]  \n",
       "4                                [(13, 1), (14, 1)]  \n",
       "\n",
       "[5 rows x 26 columns]"
      ]
     },
     "execution_count": 286,
     "metadata": {},
     "output_type": "execute_result"
    }
   ],
   "source": [
    "full_combined_df.head()"
   ]
  },
  {
   "cell_type": "markdown",
   "id": "gQLirUw7M0Ow",
   "metadata": {
    "id": "gQLirUw7M0Ow"
   },
   "source": [
    "Running and training The LDA model "
   ]
  },
  {
   "cell_type": "code",
   "execution_count": null,
   "id": "pdyxKmMjTqLX",
   "metadata": {
    "colab": {
     "base_uri": "https://localhost:8080/"
    },
    "id": "pdyxKmMjTqLX",
    "outputId": "e0911b44-01e5-436e-fe88-7bc5410528c2"
   },
   "outputs": [],
   "source": [
    "\n",
    "lda = LdaMulticore(dtm_matrix, num_topics=5, id2word = corpus_dict, passes=100, chunksize= 500)"
   ]
  },
  {
   "cell_type": "code",
   "execution_count": null,
   "id": "5pupbAkYybUG",
   "metadata": {
    "colab": {
     "base_uri": "https://localhost:8080/"
    },
    "id": "5pupbAkYybUG",
    "outputId": "628774cf-41b1-4b5f-8fb8-aebd1abfd87a"
   },
   "outputs": [
    {
     "name": "stdout",
     "output_type": "stream",
     "text": [
      " Topic  0\n",
      "0.088*\"covid19\" + 0.038*\"first\" + 0.037*\"fully\" + 0.035*\"community\" + 0.030*\"school\" + 0.024*\"biden\" + 0.020*\"health\" + 0.020*\"public\" + 0.019*\"center\" + 0.018*\"president\"\n",
      " Topic  1\n",
      "0.140*\"sarscov2\" + 0.074*\"covid19\" + 0.048*\"virus\" + 0.028*\"infection\" + 0.019*\"variant\" + 0.018*\"spread\" + 0.018*\"response\" + 0.018*\"patient\" + 0.016*\"effective\" + 0.014*\"antibody\"\n",
      " Topic  2\n",
      "0.145*\"covid19\" + 0.056*\"today\" + 0.027*\"first\" + 0.025*\"health\" + 0.021*\"appointment\" + 0.019*\"county\" + 0.018*\"getting\" + 0.017*\"clinic\" + 0.016*\"worker\" + 0.011*\"eligible\"\n",
      " Topic  3\n",
      "0.080*\"covid19\" + 0.074*\"people\" + 0.049*\"state\" + 0.025*\"available\" + 0.024*\"million\" + 0.021*\"dos\" + 0.019*\"everyone\" + 0.018*\"country\" + 0.018*\"science\" + 0.016*\"family\"\n",
      " Topic  4\n",
      "0.047*\"effect\" + 0.039*\"people\" + 0.037*\"trump\" + 0.026*\"still\" + 0.025*\"going\" + 0.022*\"youre\" + 0.022*\"right\" + 0.021*\"would\" + 0.021*\"think\" + 0.020*\"thing\"\n"
     ]
    }
   ],
   "source": [
    "for k, v in lda.print_topics(num_topics=5):\n",
    "  print(\" Topic \", k)\n",
    "  print(v)"
   ]
  },
  {
   "cell_type": "code",
   "execution_count": null,
   "id": "gCYiDPG61RNh",
   "metadata": {
    "id": "gCYiDPG61RNh"
   },
   "outputs": [],
   "source": [
    "full_combined_df['LDA_topic_vals'] = full_combined_df['dtm_matrix'].apply(lambda x : dict(lda[x]))"
   ]
  },
  {
   "cell_type": "code",
   "execution_count": null,
   "id": "tfwuaTgRFBjc",
   "metadata": {
    "colab": {
     "base_uri": "https://localhost:8080/",
     "height": 681
    },
    "id": "tfwuaTgRFBjc",
    "outputId": "68ea2ce9-4c8f-4fd7-a7d7-2f89597cd9ca"
   },
   "outputs": [
    {
     "data": {
      "text/html": [
       "\n",
       "  <div id=\"df-cdd034be-af94-49ae-9ac7-8f2c59e7e948\">\n",
       "    <div class=\"colab-df-container\">\n",
       "      <div>\n",
       "<style scoped>\n",
       "    .dataframe tbody tr th:only-of-type {\n",
       "        vertical-align: middle;\n",
       "    }\n",
       "\n",
       "    .dataframe tbody tr th {\n",
       "        vertical-align: top;\n",
       "    }\n",
       "\n",
       "    .dataframe thead th {\n",
       "        text-align: right;\n",
       "    }\n",
       "</style>\n",
       "<table border=\"1\" class=\"dataframe\">\n",
       "  <thead>\n",
       "    <tr style=\"text-align: right;\">\n",
       "      <th></th>\n",
       "      <th>created_at</th>\n",
       "      <th>text</th>\n",
       "      <th>source</th>\n",
       "      <th>public_metrics.retweet_count</th>\n",
       "      <th>public_metrics.reply_count</th>\n",
       "      <th>public_metrics.like_count</th>\n",
       "      <th>public_metrics.quote_count</th>\n",
       "      <th>country</th>\n",
       "      <th>full_name</th>\n",
       "      <th>Timeline</th>\n",
       "      <th>...</th>\n",
       "      <th>Anticipation</th>\n",
       "      <th>Rage</th>\n",
       "      <th>Vaccine Rollout</th>\n",
       "      <th>Inequities</th>\n",
       "      <th>Health Effects</th>\n",
       "      <th>Misinformation</th>\n",
       "      <th>final_category</th>\n",
       "      <th>Lematized</th>\n",
       "      <th>dtm_matrix</th>\n",
       "      <th>LDA_topic_vals</th>\n",
       "    </tr>\n",
       "  </thead>\n",
       "  <tbody>\n",
       "    <tr>\n",
       "      <th>0</th>\n",
       "      <td>2020-09-06</td>\n",
       "      <td>I’m all for vaccines but this COVID one seems ...</td>\n",
       "      <td>Twitter for iPhone</td>\n",
       "      <td>8344</td>\n",
       "      <td>60</td>\n",
       "      <td>27251</td>\n",
       "      <td>352</td>\n",
       "      <td>United States</td>\n",
       "      <td>Atlanta, GA</td>\n",
       "      <td>Before_Sep</td>\n",
       "      <td>...</td>\n",
       "      <td>0.0</td>\n",
       "      <td>0.0</td>\n",
       "      <td>0.00</td>\n",
       "      <td>0.0</td>\n",
       "      <td>0.0</td>\n",
       "      <td>0.0</td>\n",
       "      <td>Vaccine Rollout</td>\n",
       "      <td>[seems, turned]</td>\n",
       "      <td>[(0, 1)]</td>\n",
       "      <td>{0: 0.1000013, 1: 0.10127927, 2: 0.10000103, 3...</td>\n",
       "    </tr>\n",
       "    <tr>\n",
       "      <th>1</th>\n",
       "      <td>2020-09-28</td>\n",
       "      <td>Y’all taking that mark of the beast vaccine wh...</td>\n",
       "      <td>Twitter for iPhone</td>\n",
       "      <td>122</td>\n",
       "      <td>22</td>\n",
       "      <td>677</td>\n",
       "      <td>14</td>\n",
       "      <td>United States</td>\n",
       "      <td>Atlanta, GA</td>\n",
       "      <td>Before_Sep</td>\n",
       "      <td>...</td>\n",
       "      <td>0.0</td>\n",
       "      <td>0.0</td>\n",
       "      <td>0.00</td>\n",
       "      <td>0.0</td>\n",
       "      <td>0.0</td>\n",
       "      <td>0.0</td>\n",
       "      <td>Vaccine Rollout</td>\n",
       "      <td>[taking, beast, drop]</td>\n",
       "      <td>[(1, 1)]</td>\n",
       "      <td>{0: 0.59856844, 1: 0.10143015, 2: 0.10000039, ...</td>\n",
       "    </tr>\n",
       "    <tr>\n",
       "      <th>2</th>\n",
       "      <td>2020-09-17</td>\n",
       "      <td>2. Ventilation: \\nA good supply of outside air...</td>\n",
       "      <td>Twitter for Mac</td>\n",
       "      <td>0</td>\n",
       "      <td>1</td>\n",
       "      <td>0</td>\n",
       "      <td>0</td>\n",
       "      <td>United States</td>\n",
       "      <td>Atlanta, GA</td>\n",
       "      <td>Before_Sep</td>\n",
       "      <td>...</td>\n",
       "      <td>0.0</td>\n",
       "      <td>0.0</td>\n",
       "      <td>0.05</td>\n",
       "      <td>0.0</td>\n",
       "      <td>0.0</td>\n",
       "      <td>0.0</td>\n",
       "      <td>Vaccine Rollout</td>\n",
       "      <td>[ventilation, supply, outside, accordance, ash...</td>\n",
       "      <td>[(2, 1), (3, 1), (4, 1), (5, 1), (6, 1), (7, 1)]</td>\n",
       "      <td>{0: 0.028977264, 1: 0.3144106, 2: 0.45649832, ...</td>\n",
       "    </tr>\n",
       "    <tr>\n",
       "      <th>3</th>\n",
       "      <td>2020-09-24</td>\n",
       "      <td>BREAKING: Trump announced today he will overru...</td>\n",
       "      <td>Twitter for iPhone</td>\n",
       "      <td>7185</td>\n",
       "      <td>1285</td>\n",
       "      <td>23549</td>\n",
       "      <td>1049</td>\n",
       "      <td>United States</td>\n",
       "      <td>Minneapolis, MN</td>\n",
       "      <td>Before_Sep</td>\n",
       "      <td>...</td>\n",
       "      <td>0.0</td>\n",
       "      <td>0.0</td>\n",
       "      <td>0.00</td>\n",
       "      <td>0.0</td>\n",
       "      <td>0.0</td>\n",
       "      <td>0.0</td>\n",
       "      <td>Vaccine Rollout</td>\n",
       "      <td>[breaking, trump, announced, today, overrule, ...</td>\n",
       "      <td>[(8, 1), (9, 1), (10, 1), (11, 1), (12, 1)]</td>\n",
       "      <td>{0: 0.03388661, 1: 0.033333655, 2: 0.67067724,...</td>\n",
       "    </tr>\n",
       "    <tr>\n",
       "      <th>4</th>\n",
       "      <td>2020-09-13</td>\n",
       "      <td>They doing free Corona testing at George Floyd...</td>\n",
       "      <td>Twitter for Android</td>\n",
       "      <td>509</td>\n",
       "      <td>13</td>\n",
       "      <td>943</td>\n",
       "      <td>1</td>\n",
       "      <td>United States</td>\n",
       "      <td>Minneapolis, MN</td>\n",
       "      <td>Before_Sep</td>\n",
       "      <td>...</td>\n",
       "      <td>0.0</td>\n",
       "      <td>0.0</td>\n",
       "      <td>0.00</td>\n",
       "      <td>0.0</td>\n",
       "      <td>0.0</td>\n",
       "      <td>0.0</td>\n",
       "      <td>Vaccine Rollout</td>\n",
       "      <td>[testing, george, floyds, memorial, sunday, 12...</td>\n",
       "      <td>[(13, 1), (14, 1)]</td>\n",
       "      <td>{0: 0.39999315, 1: 0.06666712, 2: 0.066667005,...</td>\n",
       "    </tr>\n",
       "  </tbody>\n",
       "</table>\n",
       "<p>5 rows × 27 columns</p>\n",
       "</div>\n",
       "      <button class=\"colab-df-convert\" onclick=\"convertToInteractive('df-cdd034be-af94-49ae-9ac7-8f2c59e7e948')\"\n",
       "              title=\"Convert this dataframe to an interactive table.\"\n",
       "              style=\"display:none;\">\n",
       "        \n",
       "  <svg xmlns=\"http://www.w3.org/2000/svg\" height=\"24px\"viewBox=\"0 0 24 24\"\n",
       "       width=\"24px\">\n",
       "    <path d=\"M0 0h24v24H0V0z\" fill=\"none\"/>\n",
       "    <path d=\"M18.56 5.44l.94 2.06.94-2.06 2.06-.94-2.06-.94-.94-2.06-.94 2.06-2.06.94zm-11 1L8.5 8.5l.94-2.06 2.06-.94-2.06-.94L8.5 2.5l-.94 2.06-2.06.94zm10 10l.94 2.06.94-2.06 2.06-.94-2.06-.94-.94-2.06-.94 2.06-2.06.94z\"/><path d=\"M17.41 7.96l-1.37-1.37c-.4-.4-.92-.59-1.43-.59-.52 0-1.04.2-1.43.59L10.3 9.45l-7.72 7.72c-.78.78-.78 2.05 0 2.83L4 21.41c.39.39.9.59 1.41.59.51 0 1.02-.2 1.41-.59l7.78-7.78 2.81-2.81c.8-.78.8-2.07 0-2.86zM5.41 20L4 18.59l7.72-7.72 1.47 1.35L5.41 20z\"/>\n",
       "  </svg>\n",
       "      </button>\n",
       "      \n",
       "  <style>\n",
       "    .colab-df-container {\n",
       "      display:flex;\n",
       "      flex-wrap:wrap;\n",
       "      gap: 12px;\n",
       "    }\n",
       "\n",
       "    .colab-df-convert {\n",
       "      background-color: #E8F0FE;\n",
       "      border: none;\n",
       "      border-radius: 50%;\n",
       "      cursor: pointer;\n",
       "      display: none;\n",
       "      fill: #1967D2;\n",
       "      height: 32px;\n",
       "      padding: 0 0 0 0;\n",
       "      width: 32px;\n",
       "    }\n",
       "\n",
       "    .colab-df-convert:hover {\n",
       "      background-color: #E2EBFA;\n",
       "      box-shadow: 0px 1px 2px rgba(60, 64, 67, 0.3), 0px 1px 3px 1px rgba(60, 64, 67, 0.15);\n",
       "      fill: #174EA6;\n",
       "    }\n",
       "\n",
       "    [theme=dark] .colab-df-convert {\n",
       "      background-color: #3B4455;\n",
       "      fill: #D2E3FC;\n",
       "    }\n",
       "\n",
       "    [theme=dark] .colab-df-convert:hover {\n",
       "      background-color: #434B5C;\n",
       "      box-shadow: 0px 1px 3px 1px rgba(0, 0, 0, 0.15);\n",
       "      filter: drop-shadow(0px 1px 2px rgba(0, 0, 0, 0.3));\n",
       "      fill: #FFFFFF;\n",
       "    }\n",
       "  </style>\n",
       "\n",
       "      <script>\n",
       "        const buttonEl =\n",
       "          document.querySelector('#df-cdd034be-af94-49ae-9ac7-8f2c59e7e948 button.colab-df-convert');\n",
       "        buttonEl.style.display =\n",
       "          google.colab.kernel.accessAllowed ? 'block' : 'none';\n",
       "\n",
       "        async function convertToInteractive(key) {\n",
       "          const element = document.querySelector('#df-cdd034be-af94-49ae-9ac7-8f2c59e7e948');\n",
       "          const dataTable =\n",
       "            await google.colab.kernel.invokeFunction('convertToInteractive',\n",
       "                                                     [key], {});\n",
       "          if (!dataTable) return;\n",
       "\n",
       "          const docLinkHtml = 'Like what you see? Visit the ' +\n",
       "            '<a target=\"_blank\" href=https://colab.research.google.com/notebooks/data_table.ipynb>data table notebook</a>'\n",
       "            + ' to learn more about interactive tables.';\n",
       "          element.innerHTML = '';\n",
       "          dataTable['output_type'] = 'display_data';\n",
       "          await google.colab.output.renderOutput(dataTable, element);\n",
       "          const docLink = document.createElement('div');\n",
       "          docLink.innerHTML = docLinkHtml;\n",
       "          element.appendChild(docLink);\n",
       "        }\n",
       "      </script>\n",
       "    </div>\n",
       "  </div>\n",
       "  "
      ],
      "text/plain": [
       "   created_at                                               text  \\\n",
       "0  2020-09-06  I’m all for vaccines but this COVID one seems ...   \n",
       "1  2020-09-28  Y’all taking that mark of the beast vaccine wh...   \n",
       "2  2020-09-17  2. Ventilation: \\nA good supply of outside air...   \n",
       "3  2020-09-24  BREAKING: Trump announced today he will overru...   \n",
       "4  2020-09-13  They doing free Corona testing at George Floyd...   \n",
       "\n",
       "                source  public_metrics.retweet_count  \\\n",
       "0   Twitter for iPhone                          8344   \n",
       "1   Twitter for iPhone                           122   \n",
       "2      Twitter for Mac                             0   \n",
       "3   Twitter for iPhone                          7185   \n",
       "4  Twitter for Android                           509   \n",
       "\n",
       "   public_metrics.reply_count  public_metrics.like_count  \\\n",
       "0                          60                      27251   \n",
       "1                          22                        677   \n",
       "2                           1                          0   \n",
       "3                        1285                      23549   \n",
       "4                          13                        943   \n",
       "\n",
       "   public_metrics.quote_count        country        full_name    Timeline  \\\n",
       "0                         352  United States      Atlanta, GA  Before_Sep   \n",
       "1                          14  United States      Atlanta, GA  Before_Sep   \n",
       "2                           0  United States      Atlanta, GA  Before_Sep   \n",
       "3                        1049  United States  Minneapolis, MN  Before_Sep   \n",
       "4                           1  United States  Minneapolis, MN  Before_Sep   \n",
       "\n",
       "   ... Anticipation Rage Vaccine Rollout  Inequities  Health Effects  \\\n",
       "0  ...          0.0  0.0            0.00         0.0             0.0   \n",
       "1  ...          0.0  0.0            0.00         0.0             0.0   \n",
       "2  ...          0.0  0.0            0.05         0.0             0.0   \n",
       "3  ...          0.0  0.0            0.00         0.0             0.0   \n",
       "4  ...          0.0  0.0            0.00         0.0             0.0   \n",
       "\n",
       "   Misinformation   final_category  \\\n",
       "0             0.0  Vaccine Rollout   \n",
       "1             0.0  Vaccine Rollout   \n",
       "2             0.0  Vaccine Rollout   \n",
       "3             0.0  Vaccine Rollout   \n",
       "4             0.0  Vaccine Rollout   \n",
       "\n",
       "                                           Lematized  \\\n",
       "0                                    [seems, turned]   \n",
       "1                              [taking, beast, drop]   \n",
       "2  [ventilation, supply, outside, accordance, ash...   \n",
       "3  [breaking, trump, announced, today, overrule, ...   \n",
       "4  [testing, george, floyds, memorial, sunday, 12...   \n",
       "\n",
       "                                         dtm_matrix  \\\n",
       "0                                          [(0, 1)]   \n",
       "1                                          [(1, 1)]   \n",
       "2  [(2, 1), (3, 1), (4, 1), (5, 1), (6, 1), (7, 1)]   \n",
       "3       [(8, 1), (9, 1), (10, 1), (11, 1), (12, 1)]   \n",
       "4                                [(13, 1), (14, 1)]   \n",
       "\n",
       "                                      LDA_topic_vals  \n",
       "0  {0: 0.1000013, 1: 0.10127927, 2: 0.10000103, 3...  \n",
       "1  {0: 0.59856844, 1: 0.10143015, 2: 0.10000039, ...  \n",
       "2  {0: 0.028977264, 1: 0.3144106, 2: 0.45649832, ...  \n",
       "3  {0: 0.03388661, 1: 0.033333655, 2: 0.67067724,...  \n",
       "4  {0: 0.39999315, 1: 0.06666712, 2: 0.066667005,...  \n",
       "\n",
       "[5 rows x 27 columns]"
      ]
     },
     "execution_count": 290,
     "metadata": {},
     "output_type": "execute_result"
    }
   ],
   "source": [
    "\n",
    "full_combined_df.head()"
   ]
  },
  {
   "cell_type": "markdown",
   "id": "7QKaWGYENK_x",
   "metadata": {
    "id": "7QKaWGYENK_x"
   },
   "source": [
    "Converting the LDA model weights of Documents into columns"
   ]
  },
  {
   "cell_type": "code",
   "execution_count": null,
   "id": "vlVCUdIAthld",
   "metadata": {
    "id": "vlVCUdIAthld"
   },
   "outputs": [],
   "source": [
    "full_combined_df =  separate_columns(full_combined_df, 'Topic_', 'LDA_topic_vals', 1, 'LDA_topic', full_combined_df['LDA_topic_vals'].iloc[0].keys())"
   ]
  },
  {
   "cell_type": "code",
   "execution_count": null,
   "id": "llcXx8pK94B3",
   "metadata": {
    "colab": {
     "base_uri": "https://localhost:8080/",
     "height": 664
    },
    "id": "llcXx8pK94B3",
    "outputId": "7504fd38-9abb-47ad-b555-0864853e4d8f"
   },
   "outputs": [
    {
     "data": {
      "text/html": [
       "\n",
       "  <div id=\"df-dee99da4-b06b-4fb3-8da3-cb9b5b3477dc\">\n",
       "    <div class=\"colab-df-container\">\n",
       "      <div>\n",
       "<style scoped>\n",
       "    .dataframe tbody tr th:only-of-type {\n",
       "        vertical-align: middle;\n",
       "    }\n",
       "\n",
       "    .dataframe tbody tr th {\n",
       "        vertical-align: top;\n",
       "    }\n",
       "\n",
       "    .dataframe thead th {\n",
       "        text-align: right;\n",
       "    }\n",
       "</style>\n",
       "<table border=\"1\" class=\"dataframe\">\n",
       "  <thead>\n",
       "    <tr style=\"text-align: right;\">\n",
       "      <th></th>\n",
       "      <th>created_at</th>\n",
       "      <th>text</th>\n",
       "      <th>source</th>\n",
       "      <th>public_metrics.retweet_count</th>\n",
       "      <th>public_metrics.reply_count</th>\n",
       "      <th>public_metrics.like_count</th>\n",
       "      <th>public_metrics.quote_count</th>\n",
       "      <th>country</th>\n",
       "      <th>full_name</th>\n",
       "      <th>Timeline</th>\n",
       "      <th>...</th>\n",
       "      <th>final_category</th>\n",
       "      <th>Lematized</th>\n",
       "      <th>dtm_matrix</th>\n",
       "      <th>LDA_topic_vals</th>\n",
       "      <th>Topic_0</th>\n",
       "      <th>Topic_1</th>\n",
       "      <th>Topic_2</th>\n",
       "      <th>Topic_3</th>\n",
       "      <th>Topic_4</th>\n",
       "      <th>LDA_topic</th>\n",
       "    </tr>\n",
       "  </thead>\n",
       "  <tbody>\n",
       "    <tr>\n",
       "      <th>0</th>\n",
       "      <td>2020-09-06</td>\n",
       "      <td>I’m all for vaccines but this COVID one seems ...</td>\n",
       "      <td>Twitter for iPhone</td>\n",
       "      <td>8344</td>\n",
       "      <td>60</td>\n",
       "      <td>27251</td>\n",
       "      <td>352</td>\n",
       "      <td>United States</td>\n",
       "      <td>Atlanta, GA</td>\n",
       "      <td>Before_Sep</td>\n",
       "      <td>...</td>\n",
       "      <td>Vaccine Rollout</td>\n",
       "      <td>[seems, turned]</td>\n",
       "      <td>[(0, 1)]</td>\n",
       "      <td>{0: 0.1000013, 1: 0.10127927, 2: 0.10000103, 3...</td>\n",
       "      <td>0.100001</td>\n",
       "      <td>0.101279</td>\n",
       "      <td>0.100001</td>\n",
       "      <td>0.100001</td>\n",
       "      <td>0.598717</td>\n",
       "      <td>5</td>\n",
       "    </tr>\n",
       "    <tr>\n",
       "      <th>1</th>\n",
       "      <td>2020-09-28</td>\n",
       "      <td>Y’all taking that mark of the beast vaccine wh...</td>\n",
       "      <td>Twitter for iPhone</td>\n",
       "      <td>122</td>\n",
       "      <td>22</td>\n",
       "      <td>677</td>\n",
       "      <td>14</td>\n",
       "      <td>United States</td>\n",
       "      <td>Atlanta, GA</td>\n",
       "      <td>Before_Sep</td>\n",
       "      <td>...</td>\n",
       "      <td>Vaccine Rollout</td>\n",
       "      <td>[taking, beast, drop]</td>\n",
       "      <td>[(1, 1)]</td>\n",
       "      <td>{0: 0.59856844, 1: 0.10143015, 2: 0.10000039, ...</td>\n",
       "      <td>0.598568</td>\n",
       "      <td>0.101430</td>\n",
       "      <td>0.100000</td>\n",
       "      <td>0.100000</td>\n",
       "      <td>0.100001</td>\n",
       "      <td>1</td>\n",
       "    </tr>\n",
       "    <tr>\n",
       "      <th>2</th>\n",
       "      <td>2020-09-17</td>\n",
       "      <td>2. Ventilation: \\nA good supply of outside air...</td>\n",
       "      <td>Twitter for Mac</td>\n",
       "      <td>0</td>\n",
       "      <td>1</td>\n",
       "      <td>0</td>\n",
       "      <td>0</td>\n",
       "      <td>United States</td>\n",
       "      <td>Atlanta, GA</td>\n",
       "      <td>Before_Sep</td>\n",
       "      <td>...</td>\n",
       "      <td>Vaccine Rollout</td>\n",
       "      <td>[ventilation, supply, outside, accordance, ash...</td>\n",
       "      <td>[(2, 1), (3, 1), (4, 1), (5, 1), (6, 1), (7, 1)]</td>\n",
       "      <td>{0: 0.028977264, 1: 0.3144106, 2: 0.45649832, ...</td>\n",
       "      <td>0.028977</td>\n",
       "      <td>0.314411</td>\n",
       "      <td>0.456498</td>\n",
       "      <td>0.028809</td>\n",
       "      <td>0.171305</td>\n",
       "      <td>3</td>\n",
       "    </tr>\n",
       "    <tr>\n",
       "      <th>3</th>\n",
       "      <td>2020-09-24</td>\n",
       "      <td>BREAKING: Trump announced today he will overru...</td>\n",
       "      <td>Twitter for iPhone</td>\n",
       "      <td>7185</td>\n",
       "      <td>1285</td>\n",
       "      <td>23549</td>\n",
       "      <td>1049</td>\n",
       "      <td>United States</td>\n",
       "      <td>Minneapolis, MN</td>\n",
       "      <td>Before_Sep</td>\n",
       "      <td>...</td>\n",
       "      <td>Vaccine Rollout</td>\n",
       "      <td>[breaking, trump, announced, today, overrule, ...</td>\n",
       "      <td>[(8, 1), (9, 1), (10, 1), (11, 1), (12, 1)]</td>\n",
       "      <td>{0: 0.03388661, 1: 0.033333655, 2: 0.67067724,...</td>\n",
       "      <td>0.033887</td>\n",
       "      <td>0.033334</td>\n",
       "      <td>0.670677</td>\n",
       "      <td>0.033561</td>\n",
       "      <td>0.228541</td>\n",
       "      <td>3</td>\n",
       "    </tr>\n",
       "    <tr>\n",
       "      <th>4</th>\n",
       "      <td>2020-09-13</td>\n",
       "      <td>They doing free Corona testing at George Floyd...</td>\n",
       "      <td>Twitter for Android</td>\n",
       "      <td>509</td>\n",
       "      <td>13</td>\n",
       "      <td>943</td>\n",
       "      <td>1</td>\n",
       "      <td>United States</td>\n",
       "      <td>Minneapolis, MN</td>\n",
       "      <td>Before_Sep</td>\n",
       "      <td>...</td>\n",
       "      <td>Vaccine Rollout</td>\n",
       "      <td>[testing, george, floyds, memorial, sunday, 12...</td>\n",
       "      <td>[(13, 1), (14, 1)]</td>\n",
       "      <td>{0: 0.39999315, 1: 0.06666712, 2: 0.066667005,...</td>\n",
       "      <td>0.399993</td>\n",
       "      <td>0.066667</td>\n",
       "      <td>0.066667</td>\n",
       "      <td>0.067427</td>\n",
       "      <td>0.399246</td>\n",
       "      <td>1</td>\n",
       "    </tr>\n",
       "  </tbody>\n",
       "</table>\n",
       "<p>5 rows × 33 columns</p>\n",
       "</div>\n",
       "      <button class=\"colab-df-convert\" onclick=\"convertToInteractive('df-dee99da4-b06b-4fb3-8da3-cb9b5b3477dc')\"\n",
       "              title=\"Convert this dataframe to an interactive table.\"\n",
       "              style=\"display:none;\">\n",
       "        \n",
       "  <svg xmlns=\"http://www.w3.org/2000/svg\" height=\"24px\"viewBox=\"0 0 24 24\"\n",
       "       width=\"24px\">\n",
       "    <path d=\"M0 0h24v24H0V0z\" fill=\"none\"/>\n",
       "    <path d=\"M18.56 5.44l.94 2.06.94-2.06 2.06-.94-2.06-.94-.94-2.06-.94 2.06-2.06.94zm-11 1L8.5 8.5l.94-2.06 2.06-.94-2.06-.94L8.5 2.5l-.94 2.06-2.06.94zm10 10l.94 2.06.94-2.06 2.06-.94-2.06-.94-.94-2.06-.94 2.06-2.06.94z\"/><path d=\"M17.41 7.96l-1.37-1.37c-.4-.4-.92-.59-1.43-.59-.52 0-1.04.2-1.43.59L10.3 9.45l-7.72 7.72c-.78.78-.78 2.05 0 2.83L4 21.41c.39.39.9.59 1.41.59.51 0 1.02-.2 1.41-.59l7.78-7.78 2.81-2.81c.8-.78.8-2.07 0-2.86zM5.41 20L4 18.59l7.72-7.72 1.47 1.35L5.41 20z\"/>\n",
       "  </svg>\n",
       "      </button>\n",
       "      \n",
       "  <style>\n",
       "    .colab-df-container {\n",
       "      display:flex;\n",
       "      flex-wrap:wrap;\n",
       "      gap: 12px;\n",
       "    }\n",
       "\n",
       "    .colab-df-convert {\n",
       "      background-color: #E8F0FE;\n",
       "      border: none;\n",
       "      border-radius: 50%;\n",
       "      cursor: pointer;\n",
       "      display: none;\n",
       "      fill: #1967D2;\n",
       "      height: 32px;\n",
       "      padding: 0 0 0 0;\n",
       "      width: 32px;\n",
       "    }\n",
       "\n",
       "    .colab-df-convert:hover {\n",
       "      background-color: #E2EBFA;\n",
       "      box-shadow: 0px 1px 2px rgba(60, 64, 67, 0.3), 0px 1px 3px 1px rgba(60, 64, 67, 0.15);\n",
       "      fill: #174EA6;\n",
       "    }\n",
       "\n",
       "    [theme=dark] .colab-df-convert {\n",
       "      background-color: #3B4455;\n",
       "      fill: #D2E3FC;\n",
       "    }\n",
       "\n",
       "    [theme=dark] .colab-df-convert:hover {\n",
       "      background-color: #434B5C;\n",
       "      box-shadow: 0px 1px 3px 1px rgba(0, 0, 0, 0.15);\n",
       "      filter: drop-shadow(0px 1px 2px rgba(0, 0, 0, 0.3));\n",
       "      fill: #FFFFFF;\n",
       "    }\n",
       "  </style>\n",
       "\n",
       "      <script>\n",
       "        const buttonEl =\n",
       "          document.querySelector('#df-dee99da4-b06b-4fb3-8da3-cb9b5b3477dc button.colab-df-convert');\n",
       "        buttonEl.style.display =\n",
       "          google.colab.kernel.accessAllowed ? 'block' : 'none';\n",
       "\n",
       "        async function convertToInteractive(key) {\n",
       "          const element = document.querySelector('#df-dee99da4-b06b-4fb3-8da3-cb9b5b3477dc');\n",
       "          const dataTable =\n",
       "            await google.colab.kernel.invokeFunction('convertToInteractive',\n",
       "                                                     [key], {});\n",
       "          if (!dataTable) return;\n",
       "\n",
       "          const docLinkHtml = 'Like what you see? Visit the ' +\n",
       "            '<a target=\"_blank\" href=https://colab.research.google.com/notebooks/data_table.ipynb>data table notebook</a>'\n",
       "            + ' to learn more about interactive tables.';\n",
       "          element.innerHTML = '';\n",
       "          dataTable['output_type'] = 'display_data';\n",
       "          await google.colab.output.renderOutput(dataTable, element);\n",
       "          const docLink = document.createElement('div');\n",
       "          docLink.innerHTML = docLinkHtml;\n",
       "          element.appendChild(docLink);\n",
       "        }\n",
       "      </script>\n",
       "    </div>\n",
       "  </div>\n",
       "  "
      ],
      "text/plain": [
       "   created_at                                               text  \\\n",
       "0  2020-09-06  I’m all for vaccines but this COVID one seems ...   \n",
       "1  2020-09-28  Y’all taking that mark of the beast vaccine wh...   \n",
       "2  2020-09-17  2. Ventilation: \\nA good supply of outside air...   \n",
       "3  2020-09-24  BREAKING: Trump announced today he will overru...   \n",
       "4  2020-09-13  They doing free Corona testing at George Floyd...   \n",
       "\n",
       "                source  public_metrics.retweet_count  \\\n",
       "0   Twitter for iPhone                          8344   \n",
       "1   Twitter for iPhone                           122   \n",
       "2      Twitter for Mac                             0   \n",
       "3   Twitter for iPhone                          7185   \n",
       "4  Twitter for Android                           509   \n",
       "\n",
       "   public_metrics.reply_count  public_metrics.like_count  \\\n",
       "0                          60                      27251   \n",
       "1                          22                        677   \n",
       "2                           1                          0   \n",
       "3                        1285                      23549   \n",
       "4                          13                        943   \n",
       "\n",
       "   public_metrics.quote_count        country        full_name    Timeline  \\\n",
       "0                         352  United States      Atlanta, GA  Before_Sep   \n",
       "1                          14  United States      Atlanta, GA  Before_Sep   \n",
       "2                           0  United States      Atlanta, GA  Before_Sep   \n",
       "3                        1049  United States  Minneapolis, MN  Before_Sep   \n",
       "4                           1  United States  Minneapolis, MN  Before_Sep   \n",
       "\n",
       "   ...   final_category                                          Lematized  \\\n",
       "0  ...  Vaccine Rollout                                    [seems, turned]   \n",
       "1  ...  Vaccine Rollout                              [taking, beast, drop]   \n",
       "2  ...  Vaccine Rollout  [ventilation, supply, outside, accordance, ash...   \n",
       "3  ...  Vaccine Rollout  [breaking, trump, announced, today, overrule, ...   \n",
       "4  ...  Vaccine Rollout  [testing, george, floyds, memorial, sunday, 12...   \n",
       "\n",
       "                                         dtm_matrix  \\\n",
       "0                                          [(0, 1)]   \n",
       "1                                          [(1, 1)]   \n",
       "2  [(2, 1), (3, 1), (4, 1), (5, 1), (6, 1), (7, 1)]   \n",
       "3       [(8, 1), (9, 1), (10, 1), (11, 1), (12, 1)]   \n",
       "4                                [(13, 1), (14, 1)]   \n",
       "\n",
       "                                      LDA_topic_vals   Topic_0   Topic_1  \\\n",
       "0  {0: 0.1000013, 1: 0.10127927, 2: 0.10000103, 3...  0.100001  0.101279   \n",
       "1  {0: 0.59856844, 1: 0.10143015, 2: 0.10000039, ...  0.598568  0.101430   \n",
       "2  {0: 0.028977264, 1: 0.3144106, 2: 0.45649832, ...  0.028977  0.314411   \n",
       "3  {0: 0.03388661, 1: 0.033333655, 2: 0.67067724,...  0.033887  0.033334   \n",
       "4  {0: 0.39999315, 1: 0.06666712, 2: 0.066667005,...  0.399993  0.066667   \n",
       "\n",
       "    Topic_2   Topic_3   Topic_4  LDA_topic  \n",
       "0  0.100001  0.100001  0.598717          5  \n",
       "1  0.100000  0.100000  0.100001          1  \n",
       "2  0.456498  0.028809  0.171305          3  \n",
       "3  0.670677  0.033561  0.228541          3  \n",
       "4  0.066667  0.067427  0.399246          1  \n",
       "\n",
       "[5 rows x 33 columns]"
      ]
     },
     "execution_count": 292,
     "metadata": {},
     "output_type": "execute_result"
    }
   ],
   "source": [
    "full_combined_df.head()"
   ]
  },
  {
   "cell_type": "code",
   "execution_count": null,
   "id": "J3Dy_Jh4wHbL",
   "metadata": {
    "colab": {
     "base_uri": "https://localhost:8080/"
    },
    "id": "J3Dy_Jh4wHbL",
    "outputId": "a13fa795-f6b6-434b-e997-c7e95576b581"
   },
   "outputs": [
    {
     "data": {
      "text/plain": [
       "3    1082\n",
       "5     955\n",
       "2     902\n",
       "4     763\n",
       "1     728\n",
       "Name: LDA_topic, dtype: int64"
      ]
     },
     "execution_count": 293,
     "metadata": {},
     "output_type": "execute_result"
    }
   ],
   "source": [
    "full_combined_df['LDA_topic'].value_counts()"
   ]
  },
  {
   "cell_type": "markdown",
   "id": "VUaZoHe2NZjy",
   "metadata": {
    "id": "VUaZoHe2NZjy"
   },
   "source": [
    "Using PyLDAvis library to create a vizualization and anlyze if any of the topics are overlapping each other "
   ]
  },
  {
   "cell_type": "code",
   "execution_count": null,
   "id": "75NwBcu0uiAC",
   "metadata": {
    "colab": {
     "base_uri": "https://localhost:8080/",
     "height": 916
    },
    "id": "75NwBcu0uiAC",
    "outputId": "84b15732-fde8-42d9-9c98-6f15716e48ce"
   },
   "outputs": [
    {
     "name": "stderr",
     "output_type": "stream",
     "text": [
      "/usr/local/lib/python3.7/dist-packages/pyLDAvis/_prepare.py:247: FutureWarning: In a future version of pandas all arguments of DataFrame.drop except for the argument 'labels' will be keyword-only\n",
      "  by='saliency', ascending=False).head(R).drop('saliency', 1)\n"
     ]
    },
    {
     "data": {
      "text/html": [
       "\n",
       "<link rel=\"stylesheet\" type=\"text/css\" href=\"https://cdn.jsdelivr.net/gh/bmabey/pyLDAvis@3.3.1/pyLDAvis/js/ldavis.v1.0.0.css\">\n",
       "\n",
       "\n",
       "<div id=\"ldavis_el581406048737517606389381581\"></div>\n",
       "<script type=\"text/javascript\">\n",
       "\n",
       "var ldavis_el581406048737517606389381581_data = {\"mdsDat\": {\"x\": [0.1666951546644598, -0.017120647048233108, 0.029935312563631123, -0.3728225956734102, 0.1933127754935523], \"y\": [-0.13673504564162767, 0.0798448708464487, 0.3112880431742197, -0.11308235068928578, -0.14131551768975512], \"topics\": [1, 2, 3, 4, 5], \"cluster\": [1, 1, 1, 1, 1], \"Freq\": [23.301124096807794, 19.831832102334406, 19.68563470774353, 18.98873072164039, 18.192678371473882]}, \"tinfo\": {\"Term\": [\"sarscov2\", \"people\", \"covid19\", \"today\", \"state\", \"virus\", \"effect\", \"first\", \"trump\", \"fully\", \"community\", \"school\", \"infection\", \"health\", \"million\", \"going\", \"biden\", \"youre\", \"available\", \"appointment\", \"right\", \"dos\", \"think\", \"thing\", \"county\", \"would\", \"still\", \"getting\", \"variant\", \"center\", \"appointment\", \"county\", \"clinic\", \"worker\", \"eligible\", \"shot\", \"receive\", \"starting\", \"resident\", \"story\", \"older\", \"nurse\", \"tomorrow\", \"administration\", \"administer\", \"march\", \"employee\", \"beginning\", \"giving\", \"phase\", \"rollout\", \"multiple\", \"department\", \"here\", \"schedule\", \"feeling\", \"volunteer\", \"service\", \"three\", \"development\", \"today\", \"covid19\", \"health\", \"april\", \"getting\", \"first\", \"thanks\", \"distribution\", \"great\", \"working\", \"everyone\", \"state\", \"million\", \"dos\", \"country\", \"science\", \"since\", \"morning\", \"number\", \"vulnerable\", \"visit\", \"making\", \"ensure\", \"grateful\", \"tested\", \"united\", \"produce\", \"texas\", \"together\", \"happy\", \"site\", \"responsibility\", \"parent\", \"profit\", \"california\", \"latest\", \"commit\", \"literally\", \"peoplesvaccine\", \"themespecially\", \"anything\", \"available\", \"need\", \"death\", \"people\", \"world\", \"family\", \"everyone\", \"could\", \"american\", \"case\", \"covid19\", \"around\", \"received\", \"sarscov2\", \"virus\", \"infection\", \"variant\", \"spread\", \"response\", \"patient\", \"antibody\", \"report\", \"transmission\", \"disease\", \"information\", \"cause\", \"doesnt\", \"symptom\", \"likely\", \"protein\", \"pharmacy\", \"result\", \"change\", \"choice\", \"strain\", \"prevent\", \"called\", \"test\", \"certain\", \"severe\", \"related\", \"china\", \"thread\", \"others\", \"effective\", \"enough\", \"covid19\", \"would\", \"still\", \"effect\", \"trump\", \"going\", \"youre\", \"right\", \"think\", \"thing\", \"friend\", \"really\", \"anyone\", \"life\", \"without\", \"never\", \"johnson\", \"social\", \"wearing\", \"house\", \"someone\", \"offer\", \"evidence\", \"another\", \"florida\", \"white\", \"normal\", \"order\", \"south\", \"havent\", \"infected\", \"trying\", \"night\", \"mask\", \"still\", \"would\", \"please\", \"year\", \"people\", \"every\", \"getting\", \"better\", \"already\", \"fully\", \"community\", \"school\", \"biden\", \"center\", \"president\", \"student\", \"teacher\", \"child\", \"trial\", \"study\", \"staff\", \"needed\", \"group\", \"testing\", \"expert\", \"whats\", \"provide\", \"share\", \"required\", \"woman\", \"trust\", \"amazing\", \"spike\", \"senior\", \"welcome\", \"detail\", \"leader\", \"especially\", \"thankful\", \"event\", \"public\", \"first\", \"second\", \"covid19\", \"health\", \"thank\", \"week\", \"taking\"], \"Freq\": [669.0, 541.0, 1946.0, 347.0, 234.0, 228.0, 217.0, 324.0, 172.0, 166.0, 155.0, 131.0, 134.0, 231.0, 117.0, 114.0, 106.0, 103.0, 139.0, 117.0, 100.0, 101.0, 96.0, 94.0, 108.0, 154.0, 182.0, 176.0, 93.0, 84.0, 116.79433841995754, 107.44005253866469, 97.30003932575426, 89.70760950863333, 63.59208061142834, 53.297405795431416, 52.9812561824419, 49.959609143544895, 49.73854426117823, 47.539919401950506, 42.719738199553845, 41.25777224889222, 41.01881374649565, 40.30700928436966, 38.33124684011436, 36.78157605809101, 36.647135378979975, 36.02587964510955, 34.95962389282886, 33.63449181718153, 33.5688423418973, 33.2083421700268, 32.317432824190185, 31.944479072316557, 31.382033228522285, 31.631942974286684, 31.1601591929152, 30.87828921199356, 29.40294719392117, 28.04143221491654, 315.5089112210885, 819.311018099711, 141.89560031949807, 42.89051170413433, 101.70821129511614, 154.32701953941827, 50.684489205754595, 43.0178334161367, 42.480281553957155, 35.51231509120692, 37.21706654916766, 233.8396946400948, 116.80396981395529, 100.36008670091176, 85.33242340078621, 85.11432531629848, 73.03766207936327, 58.30775031126917, 53.64505804875023, 52.79948605040818, 50.038040913359666, 49.31752581469282, 48.572702820408544, 42.711108177219174, 40.50713846981989, 39.23950279995436, 39.35783442544527, 39.137376438208406, 37.43286040703044, 35.78943265690211, 34.655261601068936, 33.24303029298743, 33.65087622342349, 30.673051334117112, 30.11230972727898, 27.716609137780967, 26.654704495505893, 26.686009098988844, 26.28930540900422, 25.014231110321102, 25.3566390910473, 119.18056236959679, 50.54192501536951, 76.98167871113769, 358.58594856178604, 65.71733796822176, 77.26211232565655, 91.4736171681687, 71.55390238814616, 73.62790695707261, 66.37479969571707, 384.7272822359608, 46.14594214206604, 43.947163323413406, 668.3897166955575, 227.96495965200435, 134.02382902977138, 92.68092480267481, 87.39754973609254, 87.32930532501976, 86.61287261175295, 65.49026989657864, 63.35772111921911, 59.60512020909968, 59.36322752887068, 56.151055196674335, 52.4301449175386, 52.264450480161024, 46.1408328026198, 43.635113039784365, 39.9515447984224, 41.29030918045277, 40.006139436593976, 39.65666516942388, 37.55587382454674, 37.144414446732135, 36.86146111196834, 35.73735221243001, 33.994247265629916, 33.6013453441544, 31.06672279954774, 30.563438081618955, 29.22828098051842, 27.304567048397473, 54.056685702538964, 78.68968045384318, 53.276755938040374, 353.71272428712865, 55.00882973068833, 42.34372428063263, 216.53221783446656, 171.61833330732821, 113.30943392366548, 103.09792293344384, 99.77106048541789, 95.2801634692901, 94.06616904545767, 72.77068388537829, 70.54853565740747, 63.5482190949709, 61.40822755150973, 59.06288510663081, 55.16400593724875, 54.0277822123111, 52.900330458603186, 51.30403789196022, 47.811904117234164, 45.309052809911805, 46.02225445116826, 43.88100424582153, 40.459127860646085, 38.911811417406746, 37.81843804164471, 36.86035148759574, 33.49472826757866, 32.40833767302816, 31.772185040575103, 30.990523791334965, 30.649913990737442, 30.12425511831654, 82.06691141720869, 122.21010655303061, 98.88491956024043, 65.17503743416945, 50.18896226416458, 182.15545540199233, 57.97812475844743, 74.45262560108026, 43.85014340286638, 42.18423781282582, 165.5691493423066, 154.71144453647486, 130.50946129664044, 105.53696413651141, 84.18230257863486, 79.77469987994102, 72.60644360174729, 67.07519294690084, 63.58231778376076, 55.95684590246336, 55.74782670541569, 53.723259338115575, 51.83327488231585, 49.740736971179984, 47.90277066273357, 42.60802375181553, 41.36766319002598, 40.642899228270764, 40.4559071793072, 38.35478394849581, 36.921858699755795, 33.397119900504514, 33.266885210594346, 32.28530453978199, 30.6741145528991, 30.205940937505844, 28.575094437310238, 28.40454249354509, 28.20835806131436, 28.025726580997112, 44.85927072207304, 88.99500395663023, 169.51179483372147, 59.6304572728092, 388.46337537753294, 89.28539025338317, 46.51750093485788, 35.486324106493115, 34.663660336913445], \"Total\": [669.0, 541.0, 1946.0, 347.0, 234.0, 228.0, 217.0, 324.0, 172.0, 166.0, 155.0, 131.0, 134.0, 231.0, 117.0, 114.0, 106.0, 103.0, 139.0, 117.0, 100.0, 101.0, 96.0, 94.0, 108.0, 154.0, 182.0, 176.0, 93.0, 84.0, 117.59997546892609, 108.24587457704702, 98.10445629142565, 90.51027306704798, 64.3950444998616, 54.10716459734597, 53.789437570625275, 50.76370514473993, 50.54407659696745, 48.35034159487623, 43.52606291936509, 42.06226657518334, 41.82188325299155, 41.11917920785474, 39.133877249584714, 37.58675279588474, 37.45232069590085, 36.83062531027778, 35.7687050617199, 34.43975507290516, 34.37508389941378, 34.02612921655542, 33.121098368121125, 32.75210850978535, 32.184320247764, 32.4436469396235, 31.96775801378454, 31.68399933410381, 30.2210583572417, 28.8507418426793, 347.17435947139876, 1946.4167752725534, 231.79606737770644, 48.66229825073477, 176.7718559082449, 324.4522128696899, 68.61169843140907, 56.396863712616245, 89.76879188063714, 48.73500731418586, 129.30145599149233, 234.63609443299583, 117.6003457907334, 101.15876927008942, 86.12859913569093, 85.91325023188229, 73.83645601214225, 59.10929694226794, 54.44060508260852, 53.592040219395436, 50.840557301689756, 50.11370765859604, 49.362493894462006, 43.51245103244869, 41.30209253015857, 40.02897469262986, 40.151184286811194, 39.931359681755666, 38.233228866455875, 36.587000496686, 35.452965037286425, 34.031742062685446, 34.45099243010667, 31.463096070384108, 30.913605436857292, 28.514978840116253, 27.44093891045116, 27.48192550448809, 27.075611859676403, 25.800370500245396, 26.156561463333567, 139.7457747098548, 56.15672701232025, 91.9834715310371, 541.3406422630926, 81.06286941804682, 102.4797922483545, 129.30145599149233, 106.56813041423138, 116.3311802397037, 100.33839527158455, 1946.4167752725534, 64.71879034614085, 102.55046006983503, 669.1718469001064, 228.7481760054604, 134.8053254437835, 93.46503375678404, 88.18148594823855, 88.11373680788694, 87.40153478509069, 66.27209513523161, 64.14433707979214, 60.38662299395335, 60.14551203632921, 56.94060074995482, 53.212711426133005, 53.05389393142046, 46.92636639957749, 44.420206868983314, 40.73116657158162, 42.10057752271064, 40.7919774145197, 40.44495653115177, 38.34559932966555, 37.925764427525635, 37.64264978716766, 36.52632972421842, 34.77916815908598, 34.39032971112948, 31.848965878891914, 31.345437614111272, 30.010648844072502, 28.08620134774501, 63.3877170645593, 100.11603542532593, 68.75464066010167, 1946.4167752725534, 154.4797928405007, 182.0850251233715, 217.32581940925738, 172.41326669213873, 114.10365437905153, 103.89532910837525, 100.56812667968615, 96.0760111855309, 94.86111942534703, 73.56885631742887, 71.34638033583443, 64.34677563848253, 62.205984953396076, 59.859429542949535, 55.95816725574263, 54.82424274482748, 53.69325715828301, 52.09896800599943, 48.60491773856745, 46.10175013949888, 46.841676201270886, 44.68674377745878, 41.25408791784476, 39.712967559240866, 38.61199794649577, 37.659375171217185, 34.289425038609124, 33.21484015193436, 32.569109953522535, 31.793974585845408, 31.449755739901782, 30.916652267873985, 100.80414388782367, 182.0850251233715, 154.4797928405007, 87.48276656616115, 65.51476559246065, 541.3406422630926, 83.10337887212883, 176.7718559082449, 62.46641856519196, 63.44637386604853, 166.37449816527555, 155.5131303345467, 131.30826369783392, 106.3382379159397, 84.98367930807183, 80.5740054826036, 73.40587693026103, 67.87168438227665, 64.38264890219595, 56.75411939495057, 56.551718855295654, 54.52405967818412, 52.64169109760186, 50.54259054791272, 48.704716188323964, 43.40530188202956, 42.16697656145091, 41.44933594935452, 41.25965800081313, 39.16062718316296, 37.718887213634126, 34.19754938749071, 34.07027981601805, 33.11435274480989, 31.474542849549987, 31.007971987468984, 29.37865047777535, 29.203380266078327, 29.0120957757176, 28.825860938019023, 50.84646838891437, 121.49271280657538, 324.4522128696899, 93.64652096916959, 1946.4167752725534, 231.79606737770644, 93.32869824080007, 56.817659385828094, 50.12785704724391], \"Category\": [\"Default\", \"Default\", \"Default\", \"Default\", \"Default\", \"Default\", \"Default\", \"Default\", \"Default\", \"Default\", \"Default\", \"Default\", \"Default\", \"Default\", \"Default\", \"Default\", \"Default\", \"Default\", \"Default\", \"Default\", \"Default\", \"Default\", \"Default\", \"Default\", \"Default\", \"Default\", \"Default\", \"Default\", \"Default\", \"Default\", \"Topic1\", \"Topic1\", \"Topic1\", \"Topic1\", \"Topic1\", \"Topic1\", \"Topic1\", \"Topic1\", \"Topic1\", \"Topic1\", \"Topic1\", \"Topic1\", \"Topic1\", \"Topic1\", \"Topic1\", \"Topic1\", \"Topic1\", \"Topic1\", \"Topic1\", \"Topic1\", \"Topic1\", \"Topic1\", \"Topic1\", \"Topic1\", \"Topic1\", \"Topic1\", \"Topic1\", \"Topic1\", \"Topic1\", \"Topic1\", \"Topic1\", \"Topic1\", \"Topic1\", \"Topic1\", \"Topic1\", \"Topic1\", \"Topic1\", \"Topic1\", \"Topic1\", \"Topic1\", \"Topic1\", \"Topic2\", \"Topic2\", \"Topic2\", \"Topic2\", \"Topic2\", \"Topic2\", \"Topic2\", \"Topic2\", \"Topic2\", \"Topic2\", \"Topic2\", \"Topic2\", \"Topic2\", \"Topic2\", \"Topic2\", \"Topic2\", \"Topic2\", \"Topic2\", \"Topic2\", \"Topic2\", \"Topic2\", \"Topic2\", \"Topic2\", \"Topic2\", \"Topic2\", \"Topic2\", \"Topic2\", \"Topic2\", \"Topic2\", \"Topic2\", \"Topic2\", \"Topic2\", \"Topic2\", \"Topic2\", \"Topic2\", \"Topic2\", \"Topic2\", \"Topic2\", \"Topic2\", \"Topic2\", \"Topic2\", \"Topic2\", \"Topic2\", \"Topic3\", \"Topic3\", \"Topic3\", \"Topic3\", \"Topic3\", \"Topic3\", \"Topic3\", \"Topic3\", \"Topic3\", \"Topic3\", \"Topic3\", \"Topic3\", \"Topic3\", \"Topic3\", \"Topic3\", \"Topic3\", \"Topic3\", \"Topic3\", \"Topic3\", \"Topic3\", \"Topic3\", \"Topic3\", \"Topic3\", \"Topic3\", \"Topic3\", \"Topic3\", \"Topic3\", \"Topic3\", \"Topic3\", \"Topic3\", \"Topic3\", \"Topic3\", \"Topic3\", \"Topic3\", \"Topic3\", \"Topic3\", \"Topic4\", \"Topic4\", \"Topic4\", \"Topic4\", \"Topic4\", \"Topic4\", \"Topic4\", \"Topic4\", \"Topic4\", \"Topic4\", \"Topic4\", \"Topic4\", \"Topic4\", \"Topic4\", \"Topic4\", \"Topic4\", \"Topic4\", \"Topic4\", \"Topic4\", \"Topic4\", \"Topic4\", \"Topic4\", \"Topic4\", \"Topic4\", \"Topic4\", \"Topic4\", \"Topic4\", \"Topic4\", \"Topic4\", \"Topic4\", \"Topic4\", \"Topic4\", \"Topic4\", \"Topic4\", \"Topic4\", \"Topic4\", \"Topic4\", \"Topic4\", \"Topic4\", \"Topic4\", \"Topic5\", \"Topic5\", \"Topic5\", \"Topic5\", \"Topic5\", \"Topic5\", \"Topic5\", \"Topic5\", \"Topic5\", \"Topic5\", \"Topic5\", \"Topic5\", \"Topic5\", \"Topic5\", \"Topic5\", \"Topic5\", \"Topic5\", \"Topic5\", \"Topic5\", \"Topic5\", \"Topic5\", \"Topic5\", \"Topic5\", \"Topic5\", \"Topic5\", \"Topic5\", \"Topic5\", \"Topic5\", \"Topic5\", \"Topic5\", \"Topic5\", \"Topic5\", \"Topic5\", \"Topic5\", \"Topic5\", \"Topic5\", \"Topic5\", \"Topic5\", \"Topic5\"], \"logprob\": [30.0, 29.0, 28.0, 27.0, 26.0, 25.0, 24.0, 23.0, 22.0, 21.0, 20.0, 19.0, 18.0, 17.0, 16.0, 15.0, 14.0, 13.0, 12.0, 11.0, 10.0, 9.0, 8.0, 7.0, 6.0, 5.0, 4.0, 3.0, 2.0, 1.0, -3.8808, -3.9643, -4.0634, -4.1446, -4.4887, -4.6653, -4.6713, -4.73, -4.7344, -4.7796, -4.8865, -4.9214, -4.9272, -4.9447, -4.9949, -5.0362, -5.0399, -5.057, -5.087, -5.1256, -5.1276, -5.1384, -5.1656, -5.1772, -5.195, -5.187, -5.2021, -5.2111, -5.2601, -5.3075, -2.887, -1.9327, -3.6861, -4.8825, -4.0191, -3.6021, -4.7156, -4.8796, -4.8922, -5.0713, -5.0244, -3.0253, -3.7195, -3.8712, -4.0334, -4.036, -4.189, -4.4142, -4.4976, -4.5135, -4.5672, -4.5817, -4.5969, -4.7255, -4.7785, -4.8103, -4.8073, -4.8129, -4.8574, -4.9023, -4.9345, -4.9761, -4.9639, -5.0566, -5.075, -5.1579, -5.197, -5.1958, -5.2108, -5.2605, -5.2469, -3.6993, -4.5572, -4.1364, -2.5978, -4.2946, -4.1328, -3.9639, -4.2095, -4.181, -4.2847, -2.5274, -4.6482, -4.697, -1.9677, -3.0434, -3.5746, -3.9434, -4.0021, -4.0029, -4.0111, -4.2907, -4.3238, -4.3848, -4.3889, -4.4445, -4.5131, -4.5163, -4.6409, -4.6967, -4.7849, -4.752, -4.7835, -4.7923, -4.8468, -4.8578, -4.8654, -4.8964, -4.9464, -4.958, -5.0364, -5.0528, -5.0974, -5.1655, -4.4825, -4.1071, -4.4971, -2.6041, -4.4651, -4.7268, -3.0588, -3.2913, -3.7064, -3.8009, -3.8337, -3.8797, -3.8925, -4.1492, -4.1802, -4.2847, -4.319, -4.3579, -4.4262, -4.447, -4.4681, -4.4988, -4.5693, -4.623, -4.6074, -4.6551, -4.7362, -4.7752, -4.8037, -4.8294, -4.9251, -4.9581, -4.9779, -5.0029, -5.0139, -5.0312, -4.029, -3.6308, -3.8426, -4.2595, -4.5207, -3.2317, -4.3765, -4.1264, -4.6558, -4.6945, -3.2843, -3.3521, -3.5223, -3.7346, -3.9607, -4.0145, -4.1087, -4.1879, -4.2414, -4.3691, -4.3729, -4.4099, -4.4457, -4.4869, -4.5245, -4.6417, -4.6712, -4.6889, -4.6935, -4.7468, -4.7849, -4.8852, -4.8891, -4.9191, -4.9703, -4.9857, -5.0412, -5.0472, -5.0541, -5.0606, -4.5902, -3.9051, -3.2608, -4.3055, -2.4315, -3.9019, -4.5539, -4.8246, -4.848], \"loglift\": [30.0, 29.0, 28.0, 27.0, 26.0, 25.0, 24.0, 23.0, 22.0, 21.0, 20.0, 19.0, 18.0, 17.0, 16.0, 15.0, 14.0, 13.0, 12.0, 11.0, 10.0, 9.0, 8.0, 7.0, 6.0, 5.0, 4.0, 3.0, 2.0, 1.0, 1.4498, 1.4492, 1.4484, 1.4478, 1.4441, 1.4416, 1.4415, 1.4407, 1.4406, 1.4398, 1.438, 1.4374, 1.4373, 1.4367, 1.4359, 1.435, 1.4349, 1.4346, 1.4338, 1.433, 1.4329, 1.4323, 1.4321, 1.4317, 1.4314, 1.4313, 1.4311, 1.4309, 1.4292, 1.4282, 1.361, 0.5914, 0.9659, 1.3304, 0.9039, 0.7136, 1.1538, 1.1859, 0.7085, 1.1402, 0.2113, 1.6145, 1.6111, 1.61, 1.6086, 1.6085, 1.607, 1.6042, 1.6032, 1.603, 1.602, 1.6019, 1.6018, 1.5993, 1.5984, 1.598, 1.5979, 1.5978, 1.5967, 1.5958, 1.5951, 1.5944, 1.5944, 1.5925, 1.5916, 1.5895, 1.5888, 1.5885, 1.5884, 1.5869, 1.5868, 1.4587, 1.5125, 1.4398, 1.206, 1.408, 1.3354, 1.2718, 1.2195, 1.1605, 1.2047, -0.0033, 1.2796, 0.7705, 1.6241, 1.6219, 1.6195, 1.6169, 1.6164, 1.6163, 1.6162, 1.6134, 1.6129, 1.6123, 1.6122, 1.6113, 1.6105, 1.6103, 1.6084, 1.6074, 1.606, 1.6058, 1.6058, 1.6056, 1.6045, 1.6045, 1.6043, 1.6034, 1.6025, 1.6021, 1.6004, 1.6, 1.5989, 1.5971, 1.466, 1.3845, 1.3702, -0.08, 0.5927, 0.1666, 1.6577, 1.6567, 1.6543, 1.6536, 1.6534, 1.653, 1.6529, 1.6504, 1.6501, 1.6488, 1.6484, 1.6479, 1.647, 1.6467, 1.6464, 1.6459, 1.6449, 1.644, 1.6437, 1.6431, 1.6419, 1.6409, 1.6406, 1.6399, 1.6379, 1.6367, 1.6366, 1.6357, 1.6356, 1.6354, 1.4557, 1.2626, 1.2152, 1.367, 1.3948, 0.5721, 1.3013, 0.7966, 1.3075, 1.2532, 1.6993, 1.699, 1.698, 1.6966, 1.6947, 1.6942, 1.6932, 1.6923, 1.6916, 1.69, 1.6898, 1.6894, 1.6887, 1.6882, 1.6875, 1.6856, 1.685, 1.6845, 1.6845, 1.6834, 1.6828, 1.6805, 1.6803, 1.6788, 1.6784, 1.6779, 1.6764, 1.6764, 1.6761, 1.676, 1.5789, 1.3929, 1.0549, 1.2528, 0.0926, 0.7501, 1.0079, 1.2335, 1.3353]}, \"token.table\": {\"Topic\": [1, 1, 4, 5, 5, 2, 4, 4, 3, 4, 2, 1, 1, 5, 2, 4, 1, 2, 1, 1, 4, 5, 5, 2, 3, 2, 3, 3, 5, 3, 3, 5, 3, 3, 1, 2, 5, 2, 3, 2, 1, 1, 2, 3, 5, 2, 3, 1, 5, 1, 3, 1, 5, 3, 2, 4, 2, 3, 1, 1, 3, 5, 2, 5, 3, 5, 2, 4, 1, 2, 4, 5, 2, 5, 1, 1, 5, 4, 4, 5, 1, 4, 1, 4, 2, 1, 2, 3, 5, 5, 2, 4, 1, 5, 1, 4, 4, 3, 3, 4, 2, 5, 4, 3, 2, 2, 1, 3, 4, 2, 2, 1, 2, 5, 5, 4, 4, 4, 2, 1, 4, 1, 4, 1, 3, 2, 3, 2, 4, 2, 3, 1, 2, 4, 5, 3, 2, 2, 3, 5, 1, 5, 4, 1, 2, 3, 5, 3, 3, 5, 1, 3, 2, 3, 4, 1, 3, 1, 5, 2, 2, 5, 5, 1, 3, 5, 1, 2, 2, 4, 4, 4, 5, 3, 5, 1, 2, 3, 4, 5, 1, 3, 5, 5, 3, 3, 5, 5, 3, 2, 5, 2, 1, 2, 5, 5, 1, 5, 2, 4, 4, 3, 1, 1, 5, 2, 1, 3, 5, 4, 5, 4, 2, 3, 3, 2, 1, 2, 4, 1, 5, 5, 5, 4, 4, 5, 1, 1, 2, 2, 3, 3, 4, 3, 4, 4], \"Freq\": [0.9710256859458835, 0.9727820635184042, 0.6619763658782566, 0.3309881829391283, 0.9685861160578182, 0.6361149250572452, 0.36103820070816617, 0.9696008812425522, 0.9808049657606895, 0.9946108311560038, 0.9557831229095292, 0.9948981667170107, 0.8836409611901289, 0.10274894897559637, 0.7107673019531793, 0.27812633554689625, 0.14311702834325202, 0.8515463186423495, 0.9774474285114569, 0.06403440587562215, 0.7043784646318436, 0.22412042056467749, 0.9968192258723801, 0.9704464935763193, 0.9855904020964514, 0.657774123468476, 0.328887061734238, 0.9772101177776588, 0.9884250797790723, 0.9886500154430574, 0.9889984668222094, 0.9940566455602465, 0.9663236590010575, 0.9909872492357112, 0.9887420374855879, 0.983931347542805, 0.9967004050819193, 0.6756241262761699, 0.31904472629708025, 0.9868963486342918, 0.9884903273966322, 0.4207731922600784, 0.19779936388294286, 0.1818726618560046, 0.19934065762748526, 0.837106914083131, 0.15220125710602384, 0.9661515341169913, 0.987111372659483, 0.9705123061542636, 0.9809543223168955, 0.7624537459940471, 0.23050927204471192, 0.9801354084813687, 0.9885450438113224, 0.9985007791060306, 0.20975660802772578, 0.7890843825804922, 0.9938652965778687, 0.9879227591909849, 0.7708570576641223, 0.21816709179173271, 0.9926564914804138, 0.9651146961756311, 0.09833524644732472, 0.8850172180259225, 0.30083012675654863, 0.6979258940751928, 0.28615300358593404, 0.7037817115221622, 0.984632047014238, 0.9906623876702638, 0.7513676434217827, 0.24395053357850088, 0.9863256143660696, 0.4746461694248058, 0.5239600571572532, 0.9820469835658261, 0.9922677020426359, 0.9977490650946785, 0.5770149296443664, 0.41861867444787365, 0.9785090049977074, 0.9903276158414243, 0.9882228874657846, 0.46786861135266405, 0.18937539030941164, 0.17823566146768155, 0.14481647494249125, 0.9892646866329822, 0.9839560366054284, 0.9825260820963583, 0.6126074596796943, 0.3839581965598084, 0.9770363331093433, 0.9875543922978918, 0.9750275139806244, 0.9940260116495225, 0.9834810181563537, 0.9849657249501135, 0.9819400588370153, 0.9587931172653964, 0.9806130398176384, 0.99054018658169, 0.9824639105287806, 0.9777763867286916, 0.984389372525179, 0.1785640878020914, 0.8134586222095275, 0.9948950337969099, 0.98123312237411, 0.9698429048445465, 0.908172586141124, 0.08903652805305137, 0.987810211180106, 0.9828770793838981, 0.9703508562333415, 0.982491075111593, 0.9919066828529929, 0.9747453796080007, 0.9820314670710257, 0.9879138409476719, 0.9623958396165214, 0.14198334341073768, 0.8519000604644261, 0.9869091599894652, 0.995405861166191, 0.6631683859892517, 0.33620235724246184, 0.9602737745964549, 0.973858374695289, 0.9872311788520491, 0.25147810092816303, 0.7430034800150271, 0.992876046323308, 0.9829276155955753, 0.97132875885832, 0.9852812936988736, 0.9820489656171115, 0.9891593932915222, 0.2633902829295298, 0.7325542243977547, 0.9951450888720076, 0.9853235578158119, 0.42905707073412236, 0.32179280305059177, 0.25353372361561777, 0.9889796525298545, 0.9821599671632955, 0.970362395430123, 0.9892356012098934, 0.987360236346403, 0.9696829489132526, 0.9805849712439338, 0.9943508276583927, 0.9890884950125117, 0.9982488102188773, 0.9632019493142385, 0.9976523663541595, 0.9893700886718009, 0.35238895859104363, 0.6407071974382611, 0.9849229629221836, 0.9784118372528947, 0.9733440048848, 0.9694699844388359, 0.9795375602180366, 0.9886715037893382, 0.9872234935269861, 0.9870885620471981, 0.9761017719248162, 0.9634247780095485, 0.9663483458850166, 0.9866016552620573, 0.9903884692138247, 0.9849556855126627, 0.9972890171287032, 0.23066147241676216, 0.6700166579724995, 0.0933629769305942, 0.9927541030048617, 0.9755900918149, 0.9944707842582328, 0.9902439949401469, 0.9802591491595687, 0.29923481440395466, 0.6982145669425608, 0.9871568771246779, 0.9775966993942488, 0.9926857814785539, 0.9855308429352287, 0.9766759837586698, 0.27858526359080515, 0.22501117443872726, 0.5035964380295324, 0.9713499992317739, 0.7433134751938049, 0.24777115839793493, 0.9689783330732485, 0.9909223143205188, 0.9888004177915647, 0.9613261567736991, 0.9595957777915113, 0.9102054670199025, 0.08929230847347144, 0.9677445797015105, 0.9803480094853749, 0.9935975390776188, 0.9867125170297741, 0.9976030458672495, 0.9649814267706338, 0.985699229475059, 0.974294253087144, 0.9950245162485668, 0.9967292591419722, 0.9834667960718476, 0.9697270602033699, 0.9889528329772157, 0.9789061463583524, 0.36960339843281165, 0.616005664054686, 0.9674931340922157, 0.9723248699192306, 0.9841500575198463, 0.9856425370319828, 0.9809409219958569, 0.9943622635336656, 0.7386887164685224, 0.26674870316918864, 0.8141828740311848, 0.18504156227981475, 0.35603362089426877, 0.6408605176096838, 0.22895602028569542, 0.7631867342856514, 0.9913823930675333], \"Term\": [\"administer\", \"administration\", \"already\", \"already\", \"amazing\", \"american\", \"american\", \"another\", \"antibody\", \"anyone\", \"anything\", \"appointment\", \"april\", \"april\", \"around\", \"around\", \"available\", \"available\", \"beginning\", \"better\", \"better\", \"better\", \"biden\", \"california\", \"called\", \"case\", \"case\", \"cause\", \"center\", \"certain\", \"change\", \"child\", \"china\", \"choice\", \"clinic\", \"commit\", \"community\", \"could\", \"could\", \"country\", \"county\", \"covid19\", \"covid19\", \"covid19\", \"covid19\", \"death\", \"death\", \"department\", \"detail\", \"development\", \"disease\", \"distribution\", \"distribution\", \"doesnt\", \"dos\", \"effect\", \"effective\", \"effective\", \"eligible\", \"employee\", \"enough\", \"enough\", \"ensure\", \"especially\", \"event\", \"event\", \"every\", \"every\", \"everyone\", \"everyone\", \"evidence\", \"expert\", \"family\", \"family\", \"feeling\", \"first\", \"first\", \"florida\", \"friend\", \"fully\", \"getting\", \"getting\", \"giving\", \"going\", \"grateful\", \"great\", \"great\", \"great\", \"great\", \"group\", \"happy\", \"havent\", \"health\", \"health\", \"here\", \"house\", \"infected\", \"infection\", \"information\", \"johnson\", \"latest\", \"leader\", \"life\", \"likely\", \"literally\", \"making\", \"march\", \"mask\", \"mask\", \"million\", \"morning\", \"multiple\", \"need\", \"need\", \"needed\", \"never\", \"night\", \"normal\", \"number\", \"nurse\", \"offer\", \"older\", \"order\", \"others\", \"others\", \"parent\", \"patient\", \"people\", \"people\", \"peoplesvaccine\", \"pharmacy\", \"phase\", \"please\", \"please\", \"president\", \"prevent\", \"produce\", \"profit\", \"protein\", \"provide\", \"public\", \"public\", \"really\", \"receive\", \"received\", \"received\", \"received\", \"related\", \"report\", \"required\", \"resident\", \"response\", \"responsibility\", \"result\", \"right\", \"rollout\", \"sarscov2\", \"schedule\", \"school\", \"science\", \"second\", \"second\", \"senior\", \"service\", \"severe\", \"share\", \"shot\", \"since\", \"site\", \"social\", \"someone\", \"south\", \"spike\", \"spread\", \"staff\", \"starting\", \"state\", \"still\", \"still\", \"still\", \"story\", \"strain\", \"student\", \"study\", \"symptom\", \"taking\", \"taking\", \"teacher\", \"test\", \"tested\", \"testing\", \"texas\", \"thank\", \"thank\", \"thank\", \"thankful\", \"thanks\", \"thanks\", \"themespecially\", \"thing\", \"think\", \"thread\", \"three\", \"today\", \"today\", \"together\", \"tomorrow\", \"transmission\", \"trial\", \"trump\", \"trust\", \"trying\", \"united\", \"variant\", \"virus\", \"visit\", \"volunteer\", \"vulnerable\", \"wearing\", \"week\", \"week\", \"welcome\", \"whats\", \"white\", \"without\", \"woman\", \"worker\", \"working\", \"working\", \"world\", \"world\", \"would\", \"would\", \"year\", \"year\", \"youre\"]}, \"R\": 30, \"lambda.step\": 0.01, \"plot.opts\": {\"xlab\": \"PC1\", \"ylab\": \"PC2\"}, \"topic.order\": [3, 4, 2, 5, 1]};\n",
       "\n",
       "function LDAvis_load_lib(url, callback){\n",
       "  var s = document.createElement('script');\n",
       "  s.src = url;\n",
       "  s.async = true;\n",
       "  s.onreadystatechange = s.onload = callback;\n",
       "  s.onerror = function(){console.warn(\"failed to load library \" + url);};\n",
       "  document.getElementsByTagName(\"head\")[0].appendChild(s);\n",
       "}\n",
       "\n",
       "if(typeof(LDAvis) !== \"undefined\"){\n",
       "   // already loaded: just create the visualization\n",
       "   !function(LDAvis){\n",
       "       new LDAvis(\"#\" + \"ldavis_el581406048737517606389381581\", ldavis_el581406048737517606389381581_data);\n",
       "   }(LDAvis);\n",
       "}else if(typeof define === \"function\" && define.amd){\n",
       "   // require.js is available: use it to load d3/LDAvis\n",
       "   require.config({paths: {d3: \"https://d3js.org/d3.v5\"}});\n",
       "   require([\"d3\"], function(d3){\n",
       "      window.d3 = d3;\n",
       "      LDAvis_load_lib(\"https://cdn.jsdelivr.net/gh/bmabey/pyLDAvis@3.3.1/pyLDAvis/js/ldavis.v3.0.0.js\", function(){\n",
       "        new LDAvis(\"#\" + \"ldavis_el581406048737517606389381581\", ldavis_el581406048737517606389381581_data);\n",
       "      });\n",
       "    });\n",
       "}else{\n",
       "    // require.js not available: dynamically load d3 & LDAvis\n",
       "    LDAvis_load_lib(\"https://d3js.org/d3.v5.js\", function(){\n",
       "         LDAvis_load_lib(\"https://cdn.jsdelivr.net/gh/bmabey/pyLDAvis@3.3.1/pyLDAvis/js/ldavis.v3.0.0.js\", function(){\n",
       "                 new LDAvis(\"#\" + \"ldavis_el581406048737517606389381581\", ldavis_el581406048737517606389381581_data);\n",
       "            })\n",
       "         });\n",
       "}\n",
       "</script>"
      ],
      "text/plain": [
       "PreparedData(topic_coordinates=              x         y  topics  cluster       Freq\n",
       "topic                                                \n",
       "2      0.166695 -0.136735       1        1  23.301124\n",
       "3     -0.017121  0.079845       2        1  19.831832\n",
       "1      0.029935  0.311288       3        1  19.685635\n",
       "4     -0.372823 -0.113082       4        1  18.988731\n",
       "0      0.193313 -0.141316       5        1  18.192678, topic_info=         Term         Freq        Total Category  logprob  loglift\n",
       "5    sarscov2   669.000000   669.000000  Default  30.0000  30.0000\n",
       "62     people   541.000000   541.000000  Default  29.0000  29.0000\n",
       "29    covid19  1946.000000  1946.000000  Default  28.0000  28.0000\n",
       "11      today   347.000000   347.000000  Default  27.0000  27.0000\n",
       "265     state   234.000000   234.000000  Default  26.0000  26.0000\n",
       "..        ...          ...          ...      ...      ...      ...\n",
       "29    covid19   388.463375  1946.416775   Topic5  -2.4315   0.0926\n",
       "46     health    89.285390   231.796067   Topic5  -3.9019   0.7501\n",
       "314     thank    46.517501    93.328698   Topic5  -4.5539   1.0079\n",
       "42       week    35.486324    56.817659   Topic5  -4.8246   1.2335\n",
       "1      taking    34.663660    50.127857   Topic5  -4.8480   1.3353\n",
       "\n",
       "[229 rows x 6 columns], token_table=      Topic      Freq            Term\n",
       "term                                 \n",
       "355       1  0.971026      administer\n",
       "28        1  0.972782  administration\n",
       "398       4  0.661976         already\n",
       "398       5  0.330988         already\n",
       "469       5  0.968586         amazing\n",
       "...     ...       ...             ...\n",
       "43        3  0.356034           would\n",
       "43        4  0.640861           would\n",
       "128       3  0.228956            year\n",
       "128       4  0.763187            year\n",
       "221       4  0.991382           youre\n",
       "\n",
       "[236 rows x 3 columns], R=30, lambda_step=0.01, plot_opts={'xlab': 'PC1', 'ylab': 'PC2'}, topic_order=[3, 4, 2, 5, 1])"
      ]
     },
     "execution_count": 295,
     "metadata": {},
     "output_type": "execute_result"
    }
   ],
   "source": [
    "\n",
    "pyLDAvis.enable_notebook()\n",
    "\n",
    "LDA_vizualization = gensimvis.prepare(lda, dtm_matrix, corpus_dict)\n",
    "pyLDAvis.save_html(LDA_vizualization, './LDA_vizualization_'+ str(5) +'.html')\n",
    "LDA_vizualization"
   ]
  },
  {
   "cell_type": "markdown",
   "id": "aS8C5dK8-Im1",
   "metadata": {
    "id": "aS8C5dK8-Im1"
   },
   "source": [
    "Output with LDA\n"
   ]
  },
  {
   "cell_type": "code",
   "execution_count": null,
   "id": "aDW7PgsL-IBV",
   "metadata": {
    "id": "aDW7PgsL-IBV"
   },
   "outputs": [],
   "source": [
    "full_combined_df.to_csv(\"All_data_with_LDA.csv\")"
   ]
  },
  {
   "cell_type": "markdown",
   "id": "imuh4CVZLoPT",
   "metadata": {
    "id": "imuh4CVZLoPT"
   },
   "source": [
    "SVM\n",
    "\n",
    "\n",
    "file:///Users/himanideshpande/Downloads/ijerph-18-05993.pdf"
   ]
  },
  {
   "cell_type": "markdown",
   "id": "9rVEW91TNrrL",
   "metadata": {
    "id": "9rVEW91TNrrL"
   },
   "source": [
    "Using TFID for vectorizing the text which will help in getting better performance for SVM"
   ]
  },
  {
   "cell_type": "code",
   "execution_count": null,
   "id": "D7nGlQBES8it",
   "metadata": {
    "id": "D7nGlQBES8it"
   },
   "outputs": [],
   "source": [
    "\n",
    "vectorizer_mod = TfidfVectorizer(min_df = 5,\n",
    "                             max_df = 0.8,\n",
    "                             sublinear_tf = True,\n",
    "                             use_idf = True)\n",
    "vectors = vectorizer_mod.fit_transform(full_combined_df['cleaned_tweet_text'])\n"
   ]
  },
  {
   "cell_type": "code",
   "execution_count": null,
   "id": "Vhy1PSNrNnF_",
   "metadata": {
    "id": "Vhy1PSNrNnF_"
   },
   "outputs": [],
   "source": [
    "Y = full_combined_df['final_category']"
   ]
  },
  {
   "cell_type": "markdown",
   "id": "x1HULNaYN2dO",
   "metadata": {
    "id": "x1HULNaYN2dO"
   },
   "source": [
    "Splitting the train and test set in 80-20 proportion"
   ]
  },
  {
   "cell_type": "code",
   "execution_count": null,
   "id": "Ldx4K5cDNkmF",
   "metadata": {
    "id": "Ldx4K5cDNkmF"
   },
   "outputs": [],
   "source": [
    "\n",
    "X_train, X_test, y_train, y_test = train_test_split(vectors, Y, test_size=0.2, random_state=0)"
   ]
  },
  {
   "cell_type": "markdown",
   "id": "BcrgI2ByN8v3",
   "metadata": {
    "id": "BcrgI2ByN8v3"
   },
   "source": [
    "Training the SVM model"
   ]
  },
  {
   "cell_type": "code",
   "execution_count": null,
   "id": "bGvdembsUuW0",
   "metadata": {
    "id": "bGvdembsUuW0"
   },
   "outputs": [],
   "source": [
    "\n",
    "svc = SVC(C=10, gamma=0.1)\n",
    "\n",
    "svc.fit(X_train, y_train)\n",
    "\n",
    "predictions = svc.predict(X_test)\n"
   ]
  },
  {
   "cell_type": "code",
   "execution_count": null,
   "id": "6bUA5evzQOmp",
   "metadata": {
    "colab": {
     "base_uri": "https://localhost:8080/"
    },
    "id": "6bUA5evzQOmp",
    "outputId": "3a485e3f-c93c-4432-ae09-c2a84d57614b"
   },
   "outputs": [
    {
     "name": "stdout",
     "output_type": "stream",
     "text": [
      "Accuracy: 80.93%\n",
      "\n",
      "Precision: 81.08\n",
      "\n",
      "Recall: 80.93\n",
      "\n",
      "F1 Score: 78.84\n"
     ]
    },
    {
     "name": "stderr",
     "output_type": "stream",
     "text": [
      "/usr/local/lib/python3.7/dist-packages/sklearn/metrics/_classification.py:1318: UndefinedMetricWarning: Precision and F-score are ill-defined and being set to 0.0 in labels with no predicted samples. Use `zero_division` parameter to control this behavior.\n",
      "  _warn_prf(average, modifier, msg_start, len(result))\n"
     ]
    }
   ],
   "source": [
    "print(\"Accuracy: {:.2f}%\".format(accuracy_score(y_test, predictions) * 100))\n",
    "\n",
    "scores = precision_recall_fscore_support(y_test, predictions, warn_for=('precision', 'recall', 'f-score'),average='weighted')\n",
    "\n",
    "print(\"\\nPrecision: {:.2f}\".format(scores[0]* 100))\n",
    "print(\"\\nRecall: {:.2f}\".format(scores[1]* 100))\n",
    "print(\"\\nF1 Score: {:.2f}\".format(scores[2]* 100))"
   ]
  },
  {
   "cell_type": "markdown",
   "id": "yCzb6C8QQfTG",
   "metadata": {
    "id": "yCzb6C8QQfTG"
   },
   "source": [
    "Using GridSearch for HyperTuning"
   ]
  },
  {
   "cell_type": "code",
   "execution_count": null,
   "id": "ZrxgIgi38DVn",
   "metadata": {
    "colab": {
     "base_uri": "https://localhost:8080/"
    },
    "id": "ZrxgIgi38DVn",
    "outputId": "649993e3-7f49-4cfc-cce5-27708596a2c7"
   },
   "outputs": [
    {
     "data": {
      "text/plain": [
       "GridSearchCV(estimator=SVC(),\n",
       "             param_grid={'C': [0.1, 1, 10, 100, 1000],\n",
       "                         'gamma': [1, 0.1, 0.01, 0.001, 0.0001],\n",
       "                         'kernel': ['rbf', 'linear']})"
      ]
     },
     "execution_count": 302,
     "metadata": {},
     "output_type": "execute_result"
    }
   ],
   "source": [
    "\n",
    "param_grid = {'C': [0.1, 1, 10, 100, 1000],\n",
    "              'gamma': [1, 0.1, 0.01, 0.001, 0.0001],\n",
    "              'kernel': ['rbf','linear']}\n",
    " \n",
    "grid = GridSearchCV(SVC(), param_grid, refit = True,verbose =0)\n",
    " \n",
    "grid.fit(X_train, y_train)"
   ]
  },
  {
   "cell_type": "markdown",
   "id": "NW0fdzCJQowJ",
   "metadata": {
    "id": "NW0fdzCJQowJ"
   },
   "source": [
    "Getting the Best Parameter and Estimator"
   ]
  },
  {
   "cell_type": "code",
   "execution_count": null,
   "id": "JV1Spuhs8M7Y",
   "metadata": {
    "colab": {
     "base_uri": "https://localhost:8080/"
    },
    "id": "JV1Spuhs8M7Y",
    "outputId": "873db5d8-0286-4862-9a26-335ea0b858f1"
   },
   "outputs": [
    {
     "name": "stdout",
     "output_type": "stream",
     "text": [
      "{'C': 1000, 'gamma': 0.001, 'kernel': 'rbf'}\n",
      "SVC(C=1000, gamma=0.001)\n"
     ]
    }
   ],
   "source": [
    "print(grid.best_params_)\n",
    " \n",
    "\n",
    "print(grid.best_estimator_)"
   ]
  },
  {
   "cell_type": "markdown",
   "id": "RAhqNTCKT6JQ",
   "metadata": {
    "id": "RAhqNTCKT6JQ"
   },
   "source": [
    "Creating the new Model after GridSearch Tuning"
   ]
  },
  {
   "cell_type": "code",
   "execution_count": null,
   "id": "xfRanNIAVwEz",
   "metadata": {
    "id": "xfRanNIAVwEz"
   },
   "outputs": [],
   "source": [
    "svc = grid.best_estimator_\n",
    "\n",
    "svc.fit(X_train, y_train)\n",
    "\n",
    "predictions = svc.predict(X_test)\n",
    "\n"
   ]
  },
  {
   "cell_type": "code",
   "execution_count": null,
   "id": "X2VXMXJLETp9",
   "metadata": {
    "id": "X2VXMXJLETp9"
   },
   "outputs": [],
   "source": [
    "from sklearn.metrics import recall_score"
   ]
  },
  {
   "cell_type": "code",
   "execution_count": null,
   "id": "8rTykHU_PoHa",
   "metadata": {
    "colab": {
     "base_uri": "https://localhost:8080/"
    },
    "id": "8rTykHU_PoHa",
    "outputId": "62afb04a-5939-431c-b8c3-a7b25f27e1b6"
   },
   "outputs": [
    {
     "name": "stdout",
     "output_type": "stream",
     "text": [
      "Accuracy: 81.15%\n",
      "\n",
      "Precision: 81.03\n",
      "\n",
      "Recall: 81.15\n",
      "\n",
      "F1 Score: 79.26\n"
     ]
    },
    {
     "name": "stderr",
     "output_type": "stream",
     "text": [
      "/usr/local/lib/python3.7/dist-packages/sklearn/metrics/_classification.py:1318: UndefinedMetricWarning: Precision and F-score are ill-defined and being set to 0.0 in labels with no predicted samples. Use `zero_division` parameter to control this behavior.\n",
      "  _warn_prf(average, modifier, msg_start, len(result))\n"
     ]
    }
   ],
   "source": [
    "print(\"Accuracy: {:.2f}%\".format(accuracy_score(y_test, predictions) * 100))\n",
    "scores = precision_recall_fscore_support(y_test, predictions, warn_for=('precision', 'recall', 'f-score'),average='weighted')\n",
    "\n",
    "print(\"\\nPrecision: {:.2f}\".format(scores[0]* 100))\n",
    "print(\"\\nRecall: {:.2f}\".format(scores[1]* 100))\n",
    "print(\"\\nF1 Score: {:.2f}\".format(scores[2]* 100))"
   ]
  },
  {
   "cell_type": "markdown",
   "id": "xWLFZYpNJ4r4",
   "metadata": {
    "id": "xWLFZYpNJ4r4"
   },
   "source": [
    "## RandomForest"
   ]
  },
  {
   "cell_type": "code",
   "execution_count": null,
   "id": "B_SZB9QZJJHB",
   "metadata": {
    "colab": {
     "base_uri": "https://localhost:8080/"
    },
    "id": "B_SZB9QZJJHB",
    "outputId": "bfd4d199-1b5e-4996-ddfb-c1f0228d8275"
   },
   "outputs": [
    {
     "data": {
      "text/plain": [
       "RandomForestClassifier(n_estimators=200, random_state=0)"
      ]
     },
     "execution_count": 307,
     "metadata": {},
     "output_type": "execute_result"
    }
   ],
   "source": [
    "\n",
    "random_forrest_mod = RandomForestClassifier(n_estimators=200,random_state=0)\n",
    "random_forrest_mod.fit(X_train, y_train)"
   ]
  },
  {
   "cell_type": "code",
   "execution_count": null,
   "id": "MvBPFKhAJhMJ",
   "metadata": {
    "id": "MvBPFKhAJhMJ"
   },
   "outputs": [],
   "source": [
    "predictions = random_forrest_mod.predict(X_test)"
   ]
  },
  {
   "cell_type": "code",
   "execution_count": null,
   "id": "ISW65ONJJsH4",
   "metadata": {
    "colab": {
     "base_uri": "https://localhost:8080/"
    },
    "id": "ISW65ONJJsH4",
    "outputId": "a1b11b2c-ea81-432b-a14c-89311f44dfef"
   },
   "outputs": [
    {
     "name": "stdout",
     "output_type": "stream",
     "text": [
      "Accuracy: 85.78%\n",
      "\n",
      "Precision: 85.72\n",
      "\n",
      "Recall: 85.78\n",
      "\n",
      "F1 Score: 85.01\n"
     ]
    }
   ],
   "source": [
    "print(\"Accuracy: {:.2f}%\".format(accuracy_score(y_test, predictions) * 100))\n",
    "scores = precision_recall_fscore_support(y_test, predictions, warn_for=('precision', 'recall', 'f-score'),average='weighted')\n",
    "\n",
    "print(\"\\nPrecision: {:.2f}\".format(scores[0]* 100))\n",
    "print(\"\\nRecall: {:.2f}\".format(scores[1]* 100))\n",
    "print(\"\\nF1 Score: {:.2f}\".format(scores[2]* 100))"
   ]
  },
  {
   "cell_type": "markdown",
   "id": "g5__6PNKTDce",
   "metadata": {
    "id": "g5__6PNKTDce"
   },
   "source": [
    "GridSearch Hypertuning for RandomForrest"
   ]
  },
  {
   "cell_type": "code",
   "execution_count": null,
   "id": "RBg6qzgdTCYZ",
   "metadata": {
    "colab": {
     "base_uri": "https://localhost:8080/"
    },
    "id": "RBg6qzgdTCYZ",
    "outputId": "e1c397e4-554c-4b0d-d03b-37e21e31c4df"
   },
   "outputs": [
    {
     "data": {
      "text/plain": [
       "GridSearchCV(estimator=RandomForestClassifier(),\n",
       "             param_grid={'max_depth': [None, 80, 90, 100, 110],\n",
       "                         'n_estimators': [100, 200, 300, 1000],\n",
       "                         'random_state': [0, 42]})"
      ]
     },
     "execution_count": 311,
     "metadata": {},
     "output_type": "execute_result"
    }
   ],
   "source": [
    "\n",
    "\n",
    "param_grid = {\n",
    "    'random_state': [0,42],\n",
    "    'max_depth': [None, 80, 90, 100, 110],\n",
    "    'n_estimators': [100, 200, 300, 1000]\n",
    "}\n",
    "\n",
    "grid_RandomForrest = GridSearchCV(estimator = RandomForestClassifier(), param_grid = param_grid, \n",
    "                          refit = True, verbose = 0)\n",
    "\n",
    " \n",
    "grid_RandomForrest.fit(X_train, y_train)"
   ]
  },
  {
   "cell_type": "code",
   "execution_count": null,
   "id": "cgnRY392T0jt",
   "metadata": {
    "colab": {
     "base_uri": "https://localhost:8080/"
    },
    "id": "cgnRY392T0jt",
    "outputId": "fa45e6f8-a4c2-44f4-8e16-92e1517820fe"
   },
   "outputs": [
    {
     "name": "stdout",
     "output_type": "stream",
     "text": [
      "{'max_depth': None, 'n_estimators': 300, 'random_state': 0}\n",
      "RandomForestClassifier(n_estimators=300, random_state=0)\n"
     ]
    }
   ],
   "source": [
    "print(grid_RandomForrest.best_params_)\n",
    " \n",
    "\n",
    "print(grid_RandomForrest.best_estimator_)"
   ]
  },
  {
   "cell_type": "markdown",
   "id": "wIqU9DQkUHHN",
   "metadata": {
    "id": "wIqU9DQkUHHN"
   },
   "source": [
    "Creating the new RandomForrest Model after Grid Search"
   ]
  },
  {
   "cell_type": "code",
   "execution_count": null,
   "id": "IDJtmjQFUG4V",
   "metadata": {
    "colab": {
     "base_uri": "https://localhost:8080/"
    },
    "id": "IDJtmjQFUG4V",
    "outputId": "e9e604e6-63c6-421d-e010-52a88e4a93bc"
   },
   "outputs": [
    {
     "data": {
      "text/plain": [
       "RandomForestClassifier(n_estimators=300, random_state=0)"
      ]
     },
     "execution_count": 313,
     "metadata": {},
     "output_type": "execute_result"
    }
   ],
   "source": [
    "\n",
    "random_forrest_mod = grid_RandomForrest.best_estimator_\n",
    "random_forrest_mod.fit(X_train, y_train)"
   ]
  },
  {
   "cell_type": "code",
   "execution_count": null,
   "id": "5QxE-BEwVtX_",
   "metadata": {
    "colab": {
     "base_uri": "https://localhost:8080/"
    },
    "id": "5QxE-BEwVtX_",
    "outputId": "d04f9bca-4531-4825-efc5-ed4883440e73"
   },
   "outputs": [
    {
     "name": "stdout",
     "output_type": "stream",
     "text": [
      "Accuracy: 85.67%\n",
      "\n",
      "Precision: 85.60\n",
      "\n",
      "Recall: 85.67\n",
      "\n",
      "F1 Score: 84.88\n"
     ]
    }
   ],
   "source": [
    "predictions = random_forrest_mod.predict(X_test)\n",
    "print(\"Accuracy: {:.2f}%\".format(accuracy_score(y_test, predictions) * 100))\n",
    "scores = precision_recall_fscore_support(y_test, predictions, warn_for=('precision', 'recall', 'f-score'),average='weighted')\n",
    "\n",
    "print(\"\\nPrecision: {:.2f}\".format(scores[0]* 100))\n",
    "print(\"\\nRecall: {:.2f}\".format(scores[1]* 100))\n",
    "print(\"\\nF1 Score: {:.2f}\".format(scores[2]* 100))\n"
   ]
  },
  {
   "cell_type": "markdown",
   "id": "tYQFQ3pV05r8",
   "metadata": {
    "id": "tYQFQ3pV05r8"
   },
   "source": [
    "Saving Output"
   ]
  },
  {
   "cell_type": "code",
   "execution_count": null,
   "id": "315aee0b",
   "metadata": {
    "id": "315aee0b"
   },
   "outputs": [],
   "source": [
    "full_combined_df.to_csv(\"Tweet_analysis_Output.csv\")"
   ]
  },
  {
   "cell_type": "markdown",
   "id": "399c2f22",
   "metadata": {
    "id": "399c2f22"
   },
   "source": [
    "References:\n",
    "\n",
    "Tweepy:\n",
    "\n",
    "https://developer.twitter.com/en/docs/twitter-api/tweets/search/api-reference/get-tweets-search-all\n",
    "\n",
    "https://docs.tweepy.org/en/stable/client.html#tweets\n",
    "\n",
    "https://developer.twitter.com/en/docs/twitter-api/tweets/counts/integrate/build-a-query\n",
    "\n",
    "DATA Processing:\n",
    "\n",
    "https://stackoverflow.com/questions/50830214/remove-usernames-from-twitter-data-using-python\n",
    "\n",
    "\n",
    "https://www.nltk.org/howto/wordnet.html\n",
    "\n",
    "EMPATH:\n",
    "\n",
    "https://github.com/Ejhfast/empath-client\n",
    "\n",
    "LDA:\n",
    "\n",
    "\n",
    "https://radimrehurek.com/gensim/models/ldamulticore.html\n",
    "\n",
    "https://github.com/RaRe-Technologies/gensim\n",
    "\n",
    "https://tedboy.github.io/nlps/generated/generated/gensim.corpora.Dictionary.filter_extremes.html\n",
    "\n",
    "https://pyldavis.readthedocs.io/en/latest/readme.html\n",
    "\n",
    "SVM:\n",
    "\n",
    "https://scikit-learn.org/stable/modules/generated/sklearn.svm.SVC.html\n",
    "\n",
    "https://scikit-learn.org/stable/auto_examples/model_selection/plot_grid_search_digits.html\n",
    "\n",
    "RandomForrest:\n",
    "\n",
    "https://scikit-learn.org/stable/modules/generated/sklearn.ensemble.RandomForestClassifier.html\n",
    "\n",
    "\n",
    "https://scikit-learn.org/stable/modules/generated/sklearn.metrics.precision_recall_fscore_support.html"
   ]
  },
  {
   "cell_type": "code",
   "execution_count": null,
   "id": "b91E9iwAHPIO",
   "metadata": {
    "id": "b91E9iwAHPIO"
   },
   "outputs": [],
   "source": []
  }
 ],
 "metadata": {
  "accelerator": "GPU",
  "colab": {
   "collapsed_sections": [],
   "name": "Data_Gagthering_paper3_Final.ipynb",
   "provenance": []
  },
  "kernelspec": {
   "display_name": "Python 3 (ipykernel)",
   "language": "python",
   "name": "python3"
  },
  "language_info": {
   "codemirror_mode": {
    "name": "ipython",
    "version": 3
   },
   "file_extension": ".py",
   "mimetype": "text/x-python",
   "name": "python",
   "nbconvert_exporter": "python",
   "pygments_lexer": "ipython3",
   "version": "3.8.13"
  }
 },
 "nbformat": 4,
 "nbformat_minor": 5
}
